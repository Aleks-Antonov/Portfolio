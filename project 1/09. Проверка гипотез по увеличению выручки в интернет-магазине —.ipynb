{
 "cells": [
  {
   "cell_type": "markdown",
   "metadata": {},
   "source": [
    "<div style=\"background:#e5e5e5; color:#000; padding:10px\">\n",
    "\n",
    "Привет еще раз!\\\n",
    "    Все замечания устранены, отличная работа! Проект принят, ты молодец!\n",
    "    \n",
    "   \n",
    "Желаю тебе успехов во всех будущих начинаниях! 🙂\n",
    "</div> "
   ]
  },
  {
   "cell_type": "markdown",
   "metadata": {},
   "source": [
    "<div style=\"border:solid black 2px; padding: 20px\">\n",
    "Александр, привет!\n",
    "\n",
    "Меня зовут Сергей, и я буду делать ревью твоего проекта. Давай будем общаться на «ты». Но если тебе комфортнее на «вы», обязательно сообщи мне об этом. Моя основная цель - не указать тебе на совершенные тобой ошибки, а поделиться своим опытом и помочь тебе стать аналитиком данных.\n",
    "    \n",
    "Свои комментарии я буду выделять следующим образом:\n",
    "<div class=\"alert alert-danger\">\n",
    "    \n",
    "  <b>Комментарий ревьюера</b>\n",
    "    \n",
    "  ❌ Так выделено то, что необходимо исправить, прежде чем я смогу принять твой проект.\n",
    "</div>\n",
    "    \n",
    "    \n",
    "<div class=\"alert alert-warning\">\n",
    "    \n",
    "  <b>Комментарий ревьюера</b>\n",
    "    \n",
    "  ⚠️ Так отмечены не обязательные к доработке моменты. Mожешь учесть их при редактировании проекта. На твое усмотрение.\n",
    "</div>\n",
    "    \n",
    "    \n",
    "<div class=\"alert alert-success\">\n",
    "  \n",
    "  <b>Комментарий ревьюера</b>\n",
    "    \n",
    "  ✔️ А так удачные решения и подходы, на которые стоит опираться в будущих проектах.\n",
    "</div>\n",
    "    \n",
    "    \n",
    "<div style=\"border:solid black 2px; padding: 20px\">\n",
    "  \n",
    "    \n",
    "  <b>Чек-лист доработок</b>\n",
    "    \n",
    "  📃 Такой комментарий будет в конце тетрадки. В нем будут еще раз указаны нюансы, требующие обязательного исправления.\n",
    "</div>\n",
    "\n",
    "Предлагаю работать над проектом в форме диалога: если ты <b>что-то меняешь</b> в работе по моим рекомендациям — <b>напиши об этом</b> в ячейке `Markdown` и помечай комментарий каким-то заметным цветом, например так:\n",
    "    \n",
    "    \n",
    "```\n",
    "<div class=\"alert alert-block alert-info\">\n",
    "  \n",
    "  <b>Комментарий cтудента</b>\n",
    "    \n",
    "  Текст комментария.\n",
    "</div>\n",
    "```\n",
    "    \n",
    "<div class=\"alert alert-block alert-info\">\n",
    "  \n",
    "  <b>Комментарий cтудента</b>\n",
    "    \n",
    "  Текст комментария.\n",
    "</div>\n",
    "    \n",
    "Пожалуйста, <b>не перемещай, не изменяй и не удаляй мои комментарии</b>. Такой формат работы поможет выполнить повторную проверку твоего проекта оперативнее.\n",
    "\n",
    "<div style=\"background:#e5e5e5; color:#000; padding:10px\">\n",
    "    <b>Общее впечатление о проекте</b>\n",
    "    \n",
    "Ты верно провел приоритезацию гипотез и проанализировал результаты A/B-теста. Но в проекте есть моменты, которые требуют твоего внимания и доработки. \n",
    "</div>"
   ]
  },
  {
   "cell_type": "markdown",
   "metadata": {},
   "source": [
    "# Проект: Принятие решений в бизнесе"
   ]
  },
  {
   "cell_type": "markdown",
   "metadata": {},
   "source": [
    "## Краткая информация о проекте."
   ]
  },
  {
   "cell_type": "markdown",
   "metadata": {},
   "source": [
    "### Цели и задачи проекта."
   ]
  },
  {
   "cell_type": "markdown",
   "metadata": {},
   "source": [
    "Приоритизировать гипотезы, запустите A/B-тест и проанализируйте результаты. "
   ]
  },
  {
   "cell_type": "markdown",
   "metadata": {},
   "source": [
    "### План работ."
   ]
  },
  {
   "cell_type": "markdown",
   "metadata": {},
   "source": [
    "1. Подготовка данных к анализу\n",
    "    - Загрузка данных\n",
    "    - Провести первичный анализ данных (поиск дублей, анализ пропусков, проверка названий столбцов и т.п.)\n",
    "    - Проверка/корректировка типов данных\n",
    "\n",
    "\n",
    "2. Часть 1. Приоритизация гипотез.\n",
    "    - Применить фреймворк ICE для приоритизации гипотез. Отсортировать их по убыванию приоритета.\n",
    "    - Применить фреймворк RICE для приоритизации гипотез. Отсортировать их по убыванию приоритета.\n",
    "    - Указать, как изменилась приоритизация гипотез при применении RICE вместо ICE. Объяснить, почему так произошло.\n",
    "\n",
    "\n",
    "3. Часть 2. Анализ A/B-теста\n",
    "    1. Постройте график кумулятивной выручки по группам. Сделайте выводы и предположения.\n",
    "    2. Постройте график кумулятивного среднего чека по группам. Сделайте выводы и предположения.\n",
    "    3. Постройте график относительного изменения кумулятивного среднего чека группы B к группе A. Сделайте выводы и предположения.\n",
    "    4. Постройте график кумулятивного среднего количества заказов на посетителя по группам. Сделайте выводы и предположения.\n",
    "    5. Постройте график относительного изменения кумулятивного среднего количества заказов на посетителя группы B к группе A. Сделайте выводы и предположения.\n",
    "    6. Постройте точечный график количества заказов по пользователям. Сделайте выводы и предположения.\n",
    "    7. Посчитайте 95-й и 99-й перцентили количества заказов на пользователя. Выберите границу для определения аномальных пользователей.\n",
    "    8. Постройте точечный график стоимостей заказов. Сделайте выводы и предположения.\n",
    "    9. Посчитайте 95-й и 99-й перцентили стоимости заказов. Выберите границу для определения аномальных заказов.\n",
    "    10. Посчитайте статистическую значимость различий в среднем количестве заказов на посетителя между группами по «сырым» данным. Сделайте выводы и предположения.\n",
    "    11. Посчитайте статистическую значимость различий в среднем чеке заказа между группами по «сырым» данным. Сделайте выводы и предположения.\n",
    "    12. Посчитайте статистическую значимость различий в среднем количестве заказов на посетителя между группами по «очищенным» данным. Сделайте выводы и предположения.\n",
    "    13. Посчитайте статистическую значимость различий в среднем чеке заказа между группами по «очищенным» данным. Сделайте выводы и предположения.\n",
    "    14. Примите решение по результатам теста и объясните его. Варианты решений:\n",
    "        1. Остановить тест, зафиксировать победу одной из групп. \n",
    "        2. Остановить тест, зафиксировать отсутствие различий между группами. \n",
    "        3. Продолжить тест."
   ]
  },
  {
   "cell_type": "markdown",
   "metadata": {},
   "source": [
    "### Описание данных"
   ]
  },
  {
   "cell_type": "markdown",
   "metadata": {},
   "source": [
    "**Данные для первой части:**\n",
    "\n",
    "В файле `/datasets/hypothesis.csv` 9 гипотез по увеличению выручки интернет-магазина с указанными параметрами Reach, Impact, Confidence, Effort.\n",
    "\n",
    "- Hypothesis — краткое описание гипотезы;\n",
    "- Reach — охват пользователей по 10-балльной шкале;\n",
    "- Impact — влияние на пользователей по 10-балльной шкале;\n",
    "- Confidence — уверенность в гипотезе по 10-балльной шкале;\n",
    "- Efforts — затраты ресурсов на проверку гипотезы по 10-балльной шкале. Чем больше значение Efforts, тем дороже проверка гипотезы.\n",
    "\n",
    "**Данные для второй части:**\n",
    "\n",
    "Файл /datasets/orders.csv.\n",
    "\n",
    "- transactionId — идентификатор заказа;\n",
    "- visitorId — идентификатор пользователя, совершившего заказ;\n",
    "- date — дата, когда был совершён заказ;\n",
    "- revenue — выручка заказа;\n",
    "- group — группа A/B-теста, в которую попал заказ.\n",
    "\n",
    "Файл /datasets/visitors.csv.\n",
    "\n",
    "- date — дата;\n",
    "- group — группа A/B-теста;\n",
    "- visitors — количество пользователей в указанную дату в указанной группе A/B-теста"
   ]
  },
  {
   "cell_type": "markdown",
   "metadata": {},
   "source": [
    "<div class=\"alert alert-success\">\n",
    "  \n",
    "  <b>Комментарий ревьюера</b>\n",
    "    \n",
    "  ✔️ Хорошо, что есть описание и цели проекта.\n",
    "</div>"
   ]
  },
  {
   "cell_type": "markdown",
   "metadata": {},
   "source": [
    "## Загрузка, обзор и подготовка данных к анализу."
   ]
  },
  {
   "cell_type": "markdown",
   "metadata": {},
   "source": [
    "### Импорт необходимых библиотек и настройка jupiter."
   ]
  },
  {
   "cell_type": "code",
   "execution_count": 1,
   "metadata": {},
   "outputs": [],
   "source": [
    "import pandas as pd\n",
    "import matplotlib.pyplot as plt\n",
    "import math\n",
    "import seaborn as sns\n",
    "sns.set_style(\"dark\")\n",
    "from scipy import stats as st\n",
    "import numpy as np \n",
    "import datetime as dt\n",
    "\n",
    "# для отображения в jupiter всех колонок и столбцов df + сокращу количество цифр после запятой\n",
    "pd.set_option('display.max_columns', None)\n",
    "pd.set_option('display.max_rows', None)\n",
    "pd.set_option('display.max_colwidth', 400) \n",
    "pd.set_option('display.precision', 2)"
   ]
  },
  {
   "cell_type": "markdown",
   "metadata": {},
   "source": [
    "### Загрузка CSV-файлов с данными."
   ]
  },
  {
   "cell_type": "code",
   "execution_count": 2,
   "metadata": {},
   "outputs": [],
   "source": [
    "# Данные для первой части:\n",
    "hypo_df = pd.read_csv('/datasets/hypothesis.csv')\n",
    "\n",
    "\n",
    "# Данные для второй части:\n",
    "orders_df = pd.read_csv('/datasets/orders.csv', parse_dates=['date'])\n",
    "\n",
    "visitors_df = pd.read_csv('/datasets/visitors.csv', parse_dates=['date'])"
   ]
  },
  {
   "cell_type": "markdown",
   "metadata": {},
   "source": [
    "### Первичный анализ данных"
   ]
  },
  {
   "cell_type": "markdown",
   "metadata": {},
   "source": [
    "#### Функция получения первичной информации о датафрейме"
   ]
  },
  {
   "cell_type": "code",
   "execution_count": 3,
   "metadata": {},
   "outputs": [],
   "source": [
    "def first_look (data): \n",
    "    print('---------Первые 5 строк-----------') \n",
    "    display(data.head()) \n",
    "\n",
    "    print('---------Последние 5 строк---------') \n",
    "    display(data.tail()) \n",
    "\n",
    "    print('---------Типы данных---------------\\n') \n",
    "    display(data.info()) \n",
    "\n",
    "    print('---------Статистическая сводка---------------') \n",
    "    display(data.describe()) \n",
    "\n",
    "    print('---------Пропуски-----------') \n",
    "    display(data.isnull().sum())\n",
    "\n",
    "    print('\\n---------Процент пропусков от всего датасета-----------')\n",
    "    display(data.isna().mean().sort_values(ascending=False)*100) \n",
    "\n",
    "    print('---------Дубликаты-----------') \n",
    "    print('Дубликатов: ', data.duplicated().sum())"
   ]
  },
  {
   "cell_type": "markdown",
   "metadata": {},
   "source": [
    "#### hypo_df"
   ]
  },
  {
   "cell_type": "code",
   "execution_count": 4,
   "metadata": {
    "scrolled": false
   },
   "outputs": [
    {
     "name": "stdout",
     "output_type": "stream",
     "text": [
      "---------Первые 5 строк-----------\n"
     ]
    },
    {
     "data": {
      "text/html": [
       "<div>\n",
       "<style scoped>\n",
       "    .dataframe tbody tr th:only-of-type {\n",
       "        vertical-align: middle;\n",
       "    }\n",
       "\n",
       "    .dataframe tbody tr th {\n",
       "        vertical-align: top;\n",
       "    }\n",
       "\n",
       "    .dataframe thead th {\n",
       "        text-align: right;\n",
       "    }\n",
       "</style>\n",
       "<table border=\"1\" class=\"dataframe\">\n",
       "  <thead>\n",
       "    <tr style=\"text-align: right;\">\n",
       "      <th></th>\n",
       "      <th>Hypothesis</th>\n",
       "      <th>Reach</th>\n",
       "      <th>Impact</th>\n",
       "      <th>Confidence</th>\n",
       "      <th>Efforts</th>\n",
       "    </tr>\n",
       "  </thead>\n",
       "  <tbody>\n",
       "    <tr>\n",
       "      <th>0</th>\n",
       "      <td>Добавить два новых канала привлечения трафика, что позволит привлекать на 30% больше пользователей</td>\n",
       "      <td>3</td>\n",
       "      <td>10</td>\n",
       "      <td>8</td>\n",
       "      <td>6</td>\n",
       "    </tr>\n",
       "    <tr>\n",
       "      <th>1</th>\n",
       "      <td>Запустить собственную службу доставки, что сократит срок доставки заказов</td>\n",
       "      <td>2</td>\n",
       "      <td>5</td>\n",
       "      <td>4</td>\n",
       "      <td>10</td>\n",
       "    </tr>\n",
       "    <tr>\n",
       "      <th>2</th>\n",
       "      <td>Добавить блоки рекомендаций товаров на сайт интернет магазина, чтобы повысить конверсию и средний чек заказа</td>\n",
       "      <td>8</td>\n",
       "      <td>3</td>\n",
       "      <td>7</td>\n",
       "      <td>3</td>\n",
       "    </tr>\n",
       "    <tr>\n",
       "      <th>3</th>\n",
       "      <td>Изменить структура категорий, что увеличит конверсию, т.к. пользователи быстрее найдут нужный товар</td>\n",
       "      <td>8</td>\n",
       "      <td>3</td>\n",
       "      <td>3</td>\n",
       "      <td>8</td>\n",
       "    </tr>\n",
       "    <tr>\n",
       "      <th>4</th>\n",
       "      <td>Изменить цвет фона главной страницы, чтобы увеличить вовлеченность пользователей</td>\n",
       "      <td>3</td>\n",
       "      <td>1</td>\n",
       "      <td>1</td>\n",
       "      <td>1</td>\n",
       "    </tr>\n",
       "  </tbody>\n",
       "</table>\n",
       "</div>"
      ],
      "text/plain": [
       "                                                                                                     Hypothesis  \\\n",
       "0            Добавить два новых канала привлечения трафика, что позволит привлекать на 30% больше пользователей   \n",
       "1                                     Запустить собственную службу доставки, что сократит срок доставки заказов   \n",
       "2  Добавить блоки рекомендаций товаров на сайт интернет магазина, чтобы повысить конверсию и средний чек заказа   \n",
       "3           Изменить структура категорий, что увеличит конверсию, т.к. пользователи быстрее найдут нужный товар   \n",
       "4                              Изменить цвет фона главной страницы, чтобы увеличить вовлеченность пользователей   \n",
       "\n",
       "   Reach  Impact  Confidence  Efforts  \n",
       "0      3      10           8        6  \n",
       "1      2       5           4       10  \n",
       "2      8       3           7        3  \n",
       "3      8       3           3        8  \n",
       "4      3       1           1        1  "
      ]
     },
     "metadata": {},
     "output_type": "display_data"
    },
    {
     "name": "stdout",
     "output_type": "stream",
     "text": [
      "---------Последние 5 строк---------\n"
     ]
    },
    {
     "data": {
      "text/html": [
       "<div>\n",
       "<style scoped>\n",
       "    .dataframe tbody tr th:only-of-type {\n",
       "        vertical-align: middle;\n",
       "    }\n",
       "\n",
       "    .dataframe tbody tr th {\n",
       "        vertical-align: top;\n",
       "    }\n",
       "\n",
       "    .dataframe thead th {\n",
       "        text-align: right;\n",
       "    }\n",
       "</style>\n",
       "<table border=\"1\" class=\"dataframe\">\n",
       "  <thead>\n",
       "    <tr style=\"text-align: right;\">\n",
       "      <th></th>\n",
       "      <th>Hypothesis</th>\n",
       "      <th>Reach</th>\n",
       "      <th>Impact</th>\n",
       "      <th>Confidence</th>\n",
       "      <th>Efforts</th>\n",
       "    </tr>\n",
       "  </thead>\n",
       "  <tbody>\n",
       "    <tr>\n",
       "      <th>4</th>\n",
       "      <td>Изменить цвет фона главной страницы, чтобы увеличить вовлеченность пользователей</td>\n",
       "      <td>3</td>\n",
       "      <td>1</td>\n",
       "      <td>1</td>\n",
       "      <td>1</td>\n",
       "    </tr>\n",
       "    <tr>\n",
       "      <th>5</th>\n",
       "      <td>Добавить страницу отзывов клиентов о магазине, что позволит увеличить количество заказов</td>\n",
       "      <td>3</td>\n",
       "      <td>2</td>\n",
       "      <td>2</td>\n",
       "      <td>3</td>\n",
       "    </tr>\n",
       "    <tr>\n",
       "      <th>6</th>\n",
       "      <td>Показать на главной странице баннеры с актуальными акциями и распродажами, чтобы увеличить конверсию</td>\n",
       "      <td>5</td>\n",
       "      <td>3</td>\n",
       "      <td>8</td>\n",
       "      <td>3</td>\n",
       "    </tr>\n",
       "    <tr>\n",
       "      <th>7</th>\n",
       "      <td>Добавить форму подписки на все основные страницы, чтобы собрать базу клиентов для email-рассылок</td>\n",
       "      <td>10</td>\n",
       "      <td>7</td>\n",
       "      <td>8</td>\n",
       "      <td>5</td>\n",
       "    </tr>\n",
       "    <tr>\n",
       "      <th>8</th>\n",
       "      <td>Запустить акцию, дающую скидку на товар в день рождения</td>\n",
       "      <td>1</td>\n",
       "      <td>9</td>\n",
       "      <td>9</td>\n",
       "      <td>5</td>\n",
       "    </tr>\n",
       "  </tbody>\n",
       "</table>\n",
       "</div>"
      ],
      "text/plain": [
       "                                                                                             Hypothesis  \\\n",
       "4                      Изменить цвет фона главной страницы, чтобы увеличить вовлеченность пользователей   \n",
       "5              Добавить страницу отзывов клиентов о магазине, что позволит увеличить количество заказов   \n",
       "6  Показать на главной странице баннеры с актуальными акциями и распродажами, чтобы увеличить конверсию   \n",
       "7      Добавить форму подписки на все основные страницы, чтобы собрать базу клиентов для email-рассылок   \n",
       "8                                               Запустить акцию, дающую скидку на товар в день рождения   \n",
       "\n",
       "   Reach  Impact  Confidence  Efforts  \n",
       "4      3       1           1        1  \n",
       "5      3       2           2        3  \n",
       "6      5       3           8        3  \n",
       "7     10       7           8        5  \n",
       "8      1       9           9        5  "
      ]
     },
     "metadata": {},
     "output_type": "display_data"
    },
    {
     "name": "stdout",
     "output_type": "stream",
     "text": [
      "---------Типы данных---------------\n",
      "\n",
      "<class 'pandas.core.frame.DataFrame'>\n",
      "RangeIndex: 9 entries, 0 to 8\n",
      "Data columns (total 5 columns):\n",
      " #   Column      Non-Null Count  Dtype \n",
      "---  ------      --------------  ----- \n",
      " 0   Hypothesis  9 non-null      object\n",
      " 1   Reach       9 non-null      int64 \n",
      " 2   Impact      9 non-null      int64 \n",
      " 3   Confidence  9 non-null      int64 \n",
      " 4   Efforts     9 non-null      int64 \n",
      "dtypes: int64(4), object(1)\n",
      "memory usage: 488.0+ bytes\n"
     ]
    },
    {
     "data": {
      "text/plain": [
       "None"
      ]
     },
     "metadata": {},
     "output_type": "display_data"
    },
    {
     "name": "stdout",
     "output_type": "stream",
     "text": [
      "---------Статистическая сводка---------------\n"
     ]
    },
    {
     "data": {
      "text/html": [
       "<div>\n",
       "<style scoped>\n",
       "    .dataframe tbody tr th:only-of-type {\n",
       "        vertical-align: middle;\n",
       "    }\n",
       "\n",
       "    .dataframe tbody tr th {\n",
       "        vertical-align: top;\n",
       "    }\n",
       "\n",
       "    .dataframe thead th {\n",
       "        text-align: right;\n",
       "    }\n",
       "</style>\n",
       "<table border=\"1\" class=\"dataframe\">\n",
       "  <thead>\n",
       "    <tr style=\"text-align: right;\">\n",
       "      <th></th>\n",
       "      <th>Reach</th>\n",
       "      <th>Impact</th>\n",
       "      <th>Confidence</th>\n",
       "      <th>Efforts</th>\n",
       "    </tr>\n",
       "  </thead>\n",
       "  <tbody>\n",
       "    <tr>\n",
       "      <th>count</th>\n",
       "      <td>9.00</td>\n",
       "      <td>9.00</td>\n",
       "      <td>9.00</td>\n",
       "      <td>9.00</td>\n",
       "    </tr>\n",
       "    <tr>\n",
       "      <th>mean</th>\n",
       "      <td>4.78</td>\n",
       "      <td>4.78</td>\n",
       "      <td>5.56</td>\n",
       "      <td>4.89</td>\n",
       "    </tr>\n",
       "    <tr>\n",
       "      <th>std</th>\n",
       "      <td>3.15</td>\n",
       "      <td>3.19</td>\n",
       "      <td>3.05</td>\n",
       "      <td>2.80</td>\n",
       "    </tr>\n",
       "    <tr>\n",
       "      <th>min</th>\n",
       "      <td>1.00</td>\n",
       "      <td>1.00</td>\n",
       "      <td>1.00</td>\n",
       "      <td>1.00</td>\n",
       "    </tr>\n",
       "    <tr>\n",
       "      <th>25%</th>\n",
       "      <td>3.00</td>\n",
       "      <td>3.00</td>\n",
       "      <td>3.00</td>\n",
       "      <td>3.00</td>\n",
       "    </tr>\n",
       "    <tr>\n",
       "      <th>50%</th>\n",
       "      <td>3.00</td>\n",
       "      <td>3.00</td>\n",
       "      <td>7.00</td>\n",
       "      <td>5.00</td>\n",
       "    </tr>\n",
       "    <tr>\n",
       "      <th>75%</th>\n",
       "      <td>8.00</td>\n",
       "      <td>7.00</td>\n",
       "      <td>8.00</td>\n",
       "      <td>6.00</td>\n",
       "    </tr>\n",
       "    <tr>\n",
       "      <th>max</th>\n",
       "      <td>10.00</td>\n",
       "      <td>10.00</td>\n",
       "      <td>9.00</td>\n",
       "      <td>10.00</td>\n",
       "    </tr>\n",
       "  </tbody>\n",
       "</table>\n",
       "</div>"
      ],
      "text/plain": [
       "       Reach  Impact  Confidence  Efforts\n",
       "count   9.00    9.00        9.00     9.00\n",
       "mean    4.78    4.78        5.56     4.89\n",
       "std     3.15    3.19        3.05     2.80\n",
       "min     1.00    1.00        1.00     1.00\n",
       "25%     3.00    3.00        3.00     3.00\n",
       "50%     3.00    3.00        7.00     5.00\n",
       "75%     8.00    7.00        8.00     6.00\n",
       "max    10.00   10.00        9.00    10.00"
      ]
     },
     "metadata": {},
     "output_type": "display_data"
    },
    {
     "name": "stdout",
     "output_type": "stream",
     "text": [
      "---------Пропуски-----------\n"
     ]
    },
    {
     "data": {
      "text/plain": [
       "Hypothesis    0\n",
       "Reach         0\n",
       "Impact        0\n",
       "Confidence    0\n",
       "Efforts       0\n",
       "dtype: int64"
      ]
     },
     "metadata": {},
     "output_type": "display_data"
    },
    {
     "name": "stdout",
     "output_type": "stream",
     "text": [
      "\n",
      "---------Процент пропусков от всего датасета-----------\n"
     ]
    },
    {
     "data": {
      "text/plain": [
       "Hypothesis    0.0\n",
       "Reach         0.0\n",
       "Impact        0.0\n",
       "Confidence    0.0\n",
       "Efforts       0.0\n",
       "dtype: float64"
      ]
     },
     "metadata": {},
     "output_type": "display_data"
    },
    {
     "name": "stdout",
     "output_type": "stream",
     "text": [
      "---------Дубликаты-----------\n",
      "Дубликатов:  0\n"
     ]
    }
   ],
   "source": [
    "first_look(hypo_df)"
   ]
  },
  {
   "cell_type": "code",
   "execution_count": 5,
   "metadata": {},
   "outputs": [
    {
     "data": {
      "text/html": [
       "<div>\n",
       "<style scoped>\n",
       "    .dataframe tbody tr th:only-of-type {\n",
       "        vertical-align: middle;\n",
       "    }\n",
       "\n",
       "    .dataframe tbody tr th {\n",
       "        vertical-align: top;\n",
       "    }\n",
       "\n",
       "    .dataframe thead th {\n",
       "        text-align: right;\n",
       "    }\n",
       "</style>\n",
       "<table border=\"1\" class=\"dataframe\">\n",
       "  <thead>\n",
       "    <tr style=\"text-align: right;\">\n",
       "      <th></th>\n",
       "      <th>hypothesis</th>\n",
       "      <th>reach</th>\n",
       "      <th>impact</th>\n",
       "      <th>confidence</th>\n",
       "      <th>efforts</th>\n",
       "    </tr>\n",
       "  </thead>\n",
       "  <tbody>\n",
       "    <tr>\n",
       "      <th>0</th>\n",
       "      <td>Добавить два новых канала привлечения трафика, что позволит привлекать на 30% больше пользователей</td>\n",
       "      <td>3</td>\n",
       "      <td>10</td>\n",
       "      <td>8</td>\n",
       "      <td>6</td>\n",
       "    </tr>\n",
       "  </tbody>\n",
       "</table>\n",
       "</div>"
      ],
      "text/plain": [
       "                                                                                           hypothesis  \\\n",
       "0  Добавить два новых канала привлечения трафика, что позволит привлекать на 30% больше пользователей   \n",
       "\n",
       "   reach  impact  confidence  efforts  \n",
       "0      3      10           8        6  "
      ]
     },
     "execution_count": 5,
     "metadata": {},
     "output_type": "execute_result"
    }
   ],
   "source": [
    "# приведения наименования столбцов к стилю snake_case\n",
    "hypo_df.columns = hypo_df.columns.str.lower()\n",
    "hypo_df.sample()"
   ]
  },
  {
   "cell_type": "markdown",
   "metadata": {},
   "source": [
    "#### orders_df"
   ]
  },
  {
   "cell_type": "code",
   "execution_count": 6,
   "metadata": {
    "scrolled": false
   },
   "outputs": [
    {
     "name": "stdout",
     "output_type": "stream",
     "text": [
      "---------Первые 5 строк-----------\n"
     ]
    },
    {
     "data": {
      "text/html": [
       "<div>\n",
       "<style scoped>\n",
       "    .dataframe tbody tr th:only-of-type {\n",
       "        vertical-align: middle;\n",
       "    }\n",
       "\n",
       "    .dataframe tbody tr th {\n",
       "        vertical-align: top;\n",
       "    }\n",
       "\n",
       "    .dataframe thead th {\n",
       "        text-align: right;\n",
       "    }\n",
       "</style>\n",
       "<table border=\"1\" class=\"dataframe\">\n",
       "  <thead>\n",
       "    <tr style=\"text-align: right;\">\n",
       "      <th></th>\n",
       "      <th>transactionId</th>\n",
       "      <th>visitorId</th>\n",
       "      <th>date</th>\n",
       "      <th>revenue</th>\n",
       "      <th>group</th>\n",
       "    </tr>\n",
       "  </thead>\n",
       "  <tbody>\n",
       "    <tr>\n",
       "      <th>0</th>\n",
       "      <td>3667963787</td>\n",
       "      <td>3312258926</td>\n",
       "      <td>2019-08-15</td>\n",
       "      <td>1650</td>\n",
       "      <td>B</td>\n",
       "    </tr>\n",
       "    <tr>\n",
       "      <th>1</th>\n",
       "      <td>2804400009</td>\n",
       "      <td>3642806036</td>\n",
       "      <td>2019-08-15</td>\n",
       "      <td>730</td>\n",
       "      <td>B</td>\n",
       "    </tr>\n",
       "    <tr>\n",
       "      <th>2</th>\n",
       "      <td>2961555356</td>\n",
       "      <td>4069496402</td>\n",
       "      <td>2019-08-15</td>\n",
       "      <td>400</td>\n",
       "      <td>A</td>\n",
       "    </tr>\n",
       "    <tr>\n",
       "      <th>3</th>\n",
       "      <td>3797467345</td>\n",
       "      <td>1196621759</td>\n",
       "      <td>2019-08-15</td>\n",
       "      <td>9759</td>\n",
       "      <td>B</td>\n",
       "    </tr>\n",
       "    <tr>\n",
       "      <th>4</th>\n",
       "      <td>2282983706</td>\n",
       "      <td>2322279887</td>\n",
       "      <td>2019-08-15</td>\n",
       "      <td>2308</td>\n",
       "      <td>B</td>\n",
       "    </tr>\n",
       "  </tbody>\n",
       "</table>\n",
       "</div>"
      ],
      "text/plain": [
       "   transactionId   visitorId       date  revenue group\n",
       "0     3667963787  3312258926 2019-08-15     1650     B\n",
       "1     2804400009  3642806036 2019-08-15      730     B\n",
       "2     2961555356  4069496402 2019-08-15      400     A\n",
       "3     3797467345  1196621759 2019-08-15     9759     B\n",
       "4     2282983706  2322279887 2019-08-15     2308     B"
      ]
     },
     "metadata": {},
     "output_type": "display_data"
    },
    {
     "name": "stdout",
     "output_type": "stream",
     "text": [
      "---------Последние 5 строк---------\n"
     ]
    },
    {
     "data": {
      "text/html": [
       "<div>\n",
       "<style scoped>\n",
       "    .dataframe tbody tr th:only-of-type {\n",
       "        vertical-align: middle;\n",
       "    }\n",
       "\n",
       "    .dataframe tbody tr th {\n",
       "        vertical-align: top;\n",
       "    }\n",
       "\n",
       "    .dataframe thead th {\n",
       "        text-align: right;\n",
       "    }\n",
       "</style>\n",
       "<table border=\"1\" class=\"dataframe\">\n",
       "  <thead>\n",
       "    <tr style=\"text-align: right;\">\n",
       "      <th></th>\n",
       "      <th>transactionId</th>\n",
       "      <th>visitorId</th>\n",
       "      <th>date</th>\n",
       "      <th>revenue</th>\n",
       "      <th>group</th>\n",
       "    </tr>\n",
       "  </thead>\n",
       "  <tbody>\n",
       "    <tr>\n",
       "      <th>1192</th>\n",
       "      <td>2662137336</td>\n",
       "      <td>3733762160</td>\n",
       "      <td>2019-08-14</td>\n",
       "      <td>6490</td>\n",
       "      <td>B</td>\n",
       "    </tr>\n",
       "    <tr>\n",
       "      <th>1193</th>\n",
       "      <td>2203539145</td>\n",
       "      <td>370388673</td>\n",
       "      <td>2019-08-14</td>\n",
       "      <td>3190</td>\n",
       "      <td>A</td>\n",
       "    </tr>\n",
       "    <tr>\n",
       "      <th>1194</th>\n",
       "      <td>1807773912</td>\n",
       "      <td>573423106</td>\n",
       "      <td>2019-08-14</td>\n",
       "      <td>10550</td>\n",
       "      <td>A</td>\n",
       "    </tr>\n",
       "    <tr>\n",
       "      <th>1195</th>\n",
       "      <td>1947021204</td>\n",
       "      <td>1614305549</td>\n",
       "      <td>2019-08-14</td>\n",
       "      <td>100</td>\n",
       "      <td>A</td>\n",
       "    </tr>\n",
       "    <tr>\n",
       "      <th>1196</th>\n",
       "      <td>3936777065</td>\n",
       "      <td>2108080724</td>\n",
       "      <td>2019-08-15</td>\n",
       "      <td>202740</td>\n",
       "      <td>B</td>\n",
       "    </tr>\n",
       "  </tbody>\n",
       "</table>\n",
       "</div>"
      ],
      "text/plain": [
       "      transactionId   visitorId       date  revenue group\n",
       "1192     2662137336  3733762160 2019-08-14     6490     B\n",
       "1193     2203539145   370388673 2019-08-14     3190     A\n",
       "1194     1807773912   573423106 2019-08-14    10550     A\n",
       "1195     1947021204  1614305549 2019-08-14      100     A\n",
       "1196     3936777065  2108080724 2019-08-15   202740     B"
      ]
     },
     "metadata": {},
     "output_type": "display_data"
    },
    {
     "name": "stdout",
     "output_type": "stream",
     "text": [
      "---------Типы данных---------------\n",
      "\n",
      "<class 'pandas.core.frame.DataFrame'>\n",
      "RangeIndex: 1197 entries, 0 to 1196\n",
      "Data columns (total 5 columns):\n",
      " #   Column         Non-Null Count  Dtype         \n",
      "---  ------         --------------  -----         \n",
      " 0   transactionId  1197 non-null   int64         \n",
      " 1   visitorId      1197 non-null   int64         \n",
      " 2   date           1197 non-null   datetime64[ns]\n",
      " 3   revenue        1197 non-null   int64         \n",
      " 4   group          1197 non-null   object        \n",
      "dtypes: datetime64[ns](1), int64(3), object(1)\n",
      "memory usage: 46.9+ KB\n"
     ]
    },
    {
     "data": {
      "text/plain": [
       "None"
      ]
     },
     "metadata": {},
     "output_type": "display_data"
    },
    {
     "name": "stdout",
     "output_type": "stream",
     "text": [
      "---------Статистическая сводка---------------\n"
     ]
    },
    {
     "data": {
      "text/html": [
       "<div>\n",
       "<style scoped>\n",
       "    .dataframe tbody tr th:only-of-type {\n",
       "        vertical-align: middle;\n",
       "    }\n",
       "\n",
       "    .dataframe tbody tr th {\n",
       "        vertical-align: top;\n",
       "    }\n",
       "\n",
       "    .dataframe thead th {\n",
       "        text-align: right;\n",
       "    }\n",
       "</style>\n",
       "<table border=\"1\" class=\"dataframe\">\n",
       "  <thead>\n",
       "    <tr style=\"text-align: right;\">\n",
       "      <th></th>\n",
       "      <th>transactionId</th>\n",
       "      <th>visitorId</th>\n",
       "      <th>revenue</th>\n",
       "    </tr>\n",
       "  </thead>\n",
       "  <tbody>\n",
       "    <tr>\n",
       "      <th>count</th>\n",
       "      <td>1.20e+03</td>\n",
       "      <td>1.20e+03</td>\n",
       "      <td>1.20e+03</td>\n",
       "    </tr>\n",
       "    <tr>\n",
       "      <th>mean</th>\n",
       "      <td>2.16e+09</td>\n",
       "      <td>2.17e+09</td>\n",
       "      <td>8.35e+03</td>\n",
       "    </tr>\n",
       "    <tr>\n",
       "      <th>std</th>\n",
       "      <td>1.23e+09</td>\n",
       "      <td>1.24e+09</td>\n",
       "      <td>3.92e+04</td>\n",
       "    </tr>\n",
       "    <tr>\n",
       "      <th>min</th>\n",
       "      <td>1.06e+06</td>\n",
       "      <td>5.11e+06</td>\n",
       "      <td>5.00e+01</td>\n",
       "    </tr>\n",
       "    <tr>\n",
       "      <th>25%</th>\n",
       "      <td>1.17e+09</td>\n",
       "      <td>1.11e+09</td>\n",
       "      <td>1.22e+03</td>\n",
       "    </tr>\n",
       "    <tr>\n",
       "      <th>50%</th>\n",
       "      <td>2.15e+09</td>\n",
       "      <td>2.22e+09</td>\n",
       "      <td>2.98e+03</td>\n",
       "    </tr>\n",
       "    <tr>\n",
       "      <th>75%</th>\n",
       "      <td>3.24e+09</td>\n",
       "      <td>3.18e+09</td>\n",
       "      <td>8.29e+03</td>\n",
       "    </tr>\n",
       "    <tr>\n",
       "      <th>max</th>\n",
       "      <td>4.29e+09</td>\n",
       "      <td>4.28e+09</td>\n",
       "      <td>1.29e+06</td>\n",
       "    </tr>\n",
       "  </tbody>\n",
       "</table>\n",
       "</div>"
      ],
      "text/plain": [
       "       transactionId  visitorId   revenue\n",
       "count       1.20e+03   1.20e+03  1.20e+03\n",
       "mean        2.16e+09   2.17e+09  8.35e+03\n",
       "std         1.23e+09   1.24e+09  3.92e+04\n",
       "min         1.06e+06   5.11e+06  5.00e+01\n",
       "25%         1.17e+09   1.11e+09  1.22e+03\n",
       "50%         2.15e+09   2.22e+09  2.98e+03\n",
       "75%         3.24e+09   3.18e+09  8.29e+03\n",
       "max         4.29e+09   4.28e+09  1.29e+06"
      ]
     },
     "metadata": {},
     "output_type": "display_data"
    },
    {
     "name": "stdout",
     "output_type": "stream",
     "text": [
      "---------Пропуски-----------\n"
     ]
    },
    {
     "data": {
      "text/plain": [
       "transactionId    0\n",
       "visitorId        0\n",
       "date             0\n",
       "revenue          0\n",
       "group            0\n",
       "dtype: int64"
      ]
     },
     "metadata": {},
     "output_type": "display_data"
    },
    {
     "name": "stdout",
     "output_type": "stream",
     "text": [
      "\n",
      "---------Процент пропусков от всего датасета-----------\n"
     ]
    },
    {
     "data": {
      "text/plain": [
       "transactionId    0.0\n",
       "visitorId        0.0\n",
       "date             0.0\n",
       "revenue          0.0\n",
       "group            0.0\n",
       "dtype: float64"
      ]
     },
     "metadata": {},
     "output_type": "display_data"
    },
    {
     "name": "stdout",
     "output_type": "stream",
     "text": [
      "---------Дубликаты-----------\n",
      "Дубликатов:  0\n"
     ]
    }
   ],
   "source": [
    "first_look(orders_df)"
   ]
  },
  {
   "cell_type": "code",
   "execution_count": 7,
   "metadata": {
    "scrolled": true
   },
   "outputs": [
    {
     "data": {
      "text/html": [
       "<div>\n",
       "<style scoped>\n",
       "    .dataframe tbody tr th:only-of-type {\n",
       "        vertical-align: middle;\n",
       "    }\n",
       "\n",
       "    .dataframe tbody tr th {\n",
       "        vertical-align: top;\n",
       "    }\n",
       "\n",
       "    .dataframe thead th {\n",
       "        text-align: right;\n",
       "    }\n",
       "</style>\n",
       "<table border=\"1\" class=\"dataframe\">\n",
       "  <thead>\n",
       "    <tr style=\"text-align: right;\">\n",
       "      <th></th>\n",
       "      <th>transaction_id</th>\n",
       "      <th>visitor_id</th>\n",
       "      <th>date</th>\n",
       "      <th>revenue</th>\n",
       "      <th>group</th>\n",
       "    </tr>\n",
       "  </thead>\n",
       "  <tbody>\n",
       "    <tr>\n",
       "      <th>103</th>\n",
       "      <td>2951399376</td>\n",
       "      <td>2019355024</td>\n",
       "      <td>2019-08-01</td>\n",
       "      <td>2550</td>\n",
       "      <td>B</td>\n",
       "    </tr>\n",
       "  </tbody>\n",
       "</table>\n",
       "</div>"
      ],
      "text/plain": [
       "     transaction_id  visitor_id       date  revenue group\n",
       "103      2951399376  2019355024 2019-08-01     2550     B"
      ]
     },
     "execution_count": 7,
     "metadata": {},
     "output_type": "execute_result"
    }
   ],
   "source": [
    "# переименование столбцов\n",
    "orders_df.rename(columns = {'transactionId':'transaction_id', 'visitorId':'visitor_id'}, inplace = True )\n",
    "orders_df.sample()"
   ]
  },
  {
   "cell_type": "markdown",
   "metadata": {},
   "source": [
    "#### visitors_df"
   ]
  },
  {
   "cell_type": "code",
   "execution_count": 8,
   "metadata": {
    "scrolled": false
   },
   "outputs": [
    {
     "name": "stdout",
     "output_type": "stream",
     "text": [
      "---------Первые 5 строк-----------\n"
     ]
    },
    {
     "data": {
      "text/html": [
       "<div>\n",
       "<style scoped>\n",
       "    .dataframe tbody tr th:only-of-type {\n",
       "        vertical-align: middle;\n",
       "    }\n",
       "\n",
       "    .dataframe tbody tr th {\n",
       "        vertical-align: top;\n",
       "    }\n",
       "\n",
       "    .dataframe thead th {\n",
       "        text-align: right;\n",
       "    }\n",
       "</style>\n",
       "<table border=\"1\" class=\"dataframe\">\n",
       "  <thead>\n",
       "    <tr style=\"text-align: right;\">\n",
       "      <th></th>\n",
       "      <th>date</th>\n",
       "      <th>group</th>\n",
       "      <th>visitors</th>\n",
       "    </tr>\n",
       "  </thead>\n",
       "  <tbody>\n",
       "    <tr>\n",
       "      <th>0</th>\n",
       "      <td>2019-08-01</td>\n",
       "      <td>A</td>\n",
       "      <td>719</td>\n",
       "    </tr>\n",
       "    <tr>\n",
       "      <th>1</th>\n",
       "      <td>2019-08-02</td>\n",
       "      <td>A</td>\n",
       "      <td>619</td>\n",
       "    </tr>\n",
       "    <tr>\n",
       "      <th>2</th>\n",
       "      <td>2019-08-03</td>\n",
       "      <td>A</td>\n",
       "      <td>507</td>\n",
       "    </tr>\n",
       "    <tr>\n",
       "      <th>3</th>\n",
       "      <td>2019-08-04</td>\n",
       "      <td>A</td>\n",
       "      <td>717</td>\n",
       "    </tr>\n",
       "    <tr>\n",
       "      <th>4</th>\n",
       "      <td>2019-08-05</td>\n",
       "      <td>A</td>\n",
       "      <td>756</td>\n",
       "    </tr>\n",
       "  </tbody>\n",
       "</table>\n",
       "</div>"
      ],
      "text/plain": [
       "        date group  visitors\n",
       "0 2019-08-01     A       719\n",
       "1 2019-08-02     A       619\n",
       "2 2019-08-03     A       507\n",
       "3 2019-08-04     A       717\n",
       "4 2019-08-05     A       756"
      ]
     },
     "metadata": {},
     "output_type": "display_data"
    },
    {
     "name": "stdout",
     "output_type": "stream",
     "text": [
      "---------Последние 5 строк---------\n"
     ]
    },
    {
     "data": {
      "text/html": [
       "<div>\n",
       "<style scoped>\n",
       "    .dataframe tbody tr th:only-of-type {\n",
       "        vertical-align: middle;\n",
       "    }\n",
       "\n",
       "    .dataframe tbody tr th {\n",
       "        vertical-align: top;\n",
       "    }\n",
       "\n",
       "    .dataframe thead th {\n",
       "        text-align: right;\n",
       "    }\n",
       "</style>\n",
       "<table border=\"1\" class=\"dataframe\">\n",
       "  <thead>\n",
       "    <tr style=\"text-align: right;\">\n",
       "      <th></th>\n",
       "      <th>date</th>\n",
       "      <th>group</th>\n",
       "      <th>visitors</th>\n",
       "    </tr>\n",
       "  </thead>\n",
       "  <tbody>\n",
       "    <tr>\n",
       "      <th>57</th>\n",
       "      <td>2019-08-27</td>\n",
       "      <td>B</td>\n",
       "      <td>720</td>\n",
       "    </tr>\n",
       "    <tr>\n",
       "      <th>58</th>\n",
       "      <td>2019-08-28</td>\n",
       "      <td>B</td>\n",
       "      <td>654</td>\n",
       "    </tr>\n",
       "    <tr>\n",
       "      <th>59</th>\n",
       "      <td>2019-08-29</td>\n",
       "      <td>B</td>\n",
       "      <td>531</td>\n",
       "    </tr>\n",
       "    <tr>\n",
       "      <th>60</th>\n",
       "      <td>2019-08-30</td>\n",
       "      <td>B</td>\n",
       "      <td>490</td>\n",
       "    </tr>\n",
       "    <tr>\n",
       "      <th>61</th>\n",
       "      <td>2019-08-31</td>\n",
       "      <td>B</td>\n",
       "      <td>718</td>\n",
       "    </tr>\n",
       "  </tbody>\n",
       "</table>\n",
       "</div>"
      ],
      "text/plain": [
       "         date group  visitors\n",
       "57 2019-08-27     B       720\n",
       "58 2019-08-28     B       654\n",
       "59 2019-08-29     B       531\n",
       "60 2019-08-30     B       490\n",
       "61 2019-08-31     B       718"
      ]
     },
     "metadata": {},
     "output_type": "display_data"
    },
    {
     "name": "stdout",
     "output_type": "stream",
     "text": [
      "---------Типы данных---------------\n",
      "\n",
      "<class 'pandas.core.frame.DataFrame'>\n",
      "RangeIndex: 62 entries, 0 to 61\n",
      "Data columns (total 3 columns):\n",
      " #   Column    Non-Null Count  Dtype         \n",
      "---  ------    --------------  -----         \n",
      " 0   date      62 non-null     datetime64[ns]\n",
      " 1   group     62 non-null     object        \n",
      " 2   visitors  62 non-null     int64         \n",
      "dtypes: datetime64[ns](1), int64(1), object(1)\n",
      "memory usage: 1.6+ KB\n"
     ]
    },
    {
     "data": {
      "text/plain": [
       "None"
      ]
     },
     "metadata": {},
     "output_type": "display_data"
    },
    {
     "name": "stdout",
     "output_type": "stream",
     "text": [
      "---------Статистическая сводка---------------\n"
     ]
    },
    {
     "data": {
      "text/html": [
       "<div>\n",
       "<style scoped>\n",
       "    .dataframe tbody tr th:only-of-type {\n",
       "        vertical-align: middle;\n",
       "    }\n",
       "\n",
       "    .dataframe tbody tr th {\n",
       "        vertical-align: top;\n",
       "    }\n",
       "\n",
       "    .dataframe thead th {\n",
       "        text-align: right;\n",
       "    }\n",
       "</style>\n",
       "<table border=\"1\" class=\"dataframe\">\n",
       "  <thead>\n",
       "    <tr style=\"text-align: right;\">\n",
       "      <th></th>\n",
       "      <th>visitors</th>\n",
       "    </tr>\n",
       "  </thead>\n",
       "  <tbody>\n",
       "    <tr>\n",
       "      <th>count</th>\n",
       "      <td>62.00</td>\n",
       "    </tr>\n",
       "    <tr>\n",
       "      <th>mean</th>\n",
       "      <td>607.29</td>\n",
       "    </tr>\n",
       "    <tr>\n",
       "      <th>std</th>\n",
       "      <td>114.40</td>\n",
       "    </tr>\n",
       "    <tr>\n",
       "      <th>min</th>\n",
       "      <td>361.00</td>\n",
       "    </tr>\n",
       "    <tr>\n",
       "      <th>25%</th>\n",
       "      <td>534.00</td>\n",
       "    </tr>\n",
       "    <tr>\n",
       "      <th>50%</th>\n",
       "      <td>624.50</td>\n",
       "    </tr>\n",
       "    <tr>\n",
       "      <th>75%</th>\n",
       "      <td>710.50</td>\n",
       "    </tr>\n",
       "    <tr>\n",
       "      <th>max</th>\n",
       "      <td>770.00</td>\n",
       "    </tr>\n",
       "  </tbody>\n",
       "</table>\n",
       "</div>"
      ],
      "text/plain": [
       "       visitors\n",
       "count     62.00\n",
       "mean     607.29\n",
       "std      114.40\n",
       "min      361.00\n",
       "25%      534.00\n",
       "50%      624.50\n",
       "75%      710.50\n",
       "max      770.00"
      ]
     },
     "metadata": {},
     "output_type": "display_data"
    },
    {
     "name": "stdout",
     "output_type": "stream",
     "text": [
      "---------Пропуски-----------\n"
     ]
    },
    {
     "data": {
      "text/plain": [
       "date        0\n",
       "group       0\n",
       "visitors    0\n",
       "dtype: int64"
      ]
     },
     "metadata": {},
     "output_type": "display_data"
    },
    {
     "name": "stdout",
     "output_type": "stream",
     "text": [
      "\n",
      "---------Процент пропусков от всего датасета-----------\n"
     ]
    },
    {
     "data": {
      "text/plain": [
       "date        0.0\n",
       "group       0.0\n",
       "visitors    0.0\n",
       "dtype: float64"
      ]
     },
     "metadata": {},
     "output_type": "display_data"
    },
    {
     "name": "stdout",
     "output_type": "stream",
     "text": [
      "---------Дубликаты-----------\n",
      "Дубликатов:  0\n"
     ]
    }
   ],
   "source": [
    "first_look(visitors_df)"
   ]
  },
  {
   "cell_type": "markdown",
   "metadata": {},
   "source": [
    "### Вывод:"
   ]
  },
  {
   "cell_type": "markdown",
   "metadata": {},
   "source": [
    "Данные загружены и подготовлены.\n",
    "- приведены наименования столбцов к стилю snake_case\n",
    "- преобразованы типов данных в столбцах `date`\n",
    "- дубликаты и пропуски отсутствуют"
   ]
  },
  {
   "cell_type": "markdown",
   "metadata": {},
   "source": [
    "<div class=\"alert alert-success\">\n",
    "  \n",
    "  <b>Комментарий ревьюера</b>\n",
    "    \n",
    "  ✔️ Данные получены и подготовлены к анализу! \n",
    "</div>\n"
   ]
  },
  {
   "cell_type": "markdown",
   "metadata": {},
   "source": [
    "## Часть 1. Приоритизация гипотез."
   ]
  },
  {
   "cell_type": "markdown",
   "metadata": {},
   "source": [
    "### Фреймворк ICE"
   ]
  },
  {
   "cell_type": "code",
   "execution_count": 9,
   "metadata": {},
   "outputs": [
    {
     "data": {
      "text/html": [
       "<div>\n",
       "<style scoped>\n",
       "    .dataframe tbody tr th:only-of-type {\n",
       "        vertical-align: middle;\n",
       "    }\n",
       "\n",
       "    .dataframe tbody tr th {\n",
       "        vertical-align: top;\n",
       "    }\n",
       "\n",
       "    .dataframe thead th {\n",
       "        text-align: right;\n",
       "    }\n",
       "</style>\n",
       "<table border=\"1\" class=\"dataframe\">\n",
       "  <thead>\n",
       "    <tr style=\"text-align: right;\">\n",
       "      <th></th>\n",
       "      <th>hypothesis</th>\n",
       "      <th>reach</th>\n",
       "      <th>impact</th>\n",
       "      <th>confidence</th>\n",
       "      <th>efforts</th>\n",
       "      <th>ICE</th>\n",
       "    </tr>\n",
       "  </thead>\n",
       "  <tbody>\n",
       "    <tr>\n",
       "      <th>8</th>\n",
       "      <td>Запустить акцию, дающую скидку на товар в день рождения</td>\n",
       "      <td>1</td>\n",
       "      <td>9</td>\n",
       "      <td>9</td>\n",
       "      <td>5</td>\n",
       "      <td>16.20</td>\n",
       "    </tr>\n",
       "    <tr>\n",
       "      <th>0</th>\n",
       "      <td>Добавить два новых канала привлечения трафика, что позволит привлекать на 30% больше пользователей</td>\n",
       "      <td>3</td>\n",
       "      <td>10</td>\n",
       "      <td>8</td>\n",
       "      <td>6</td>\n",
       "      <td>13.33</td>\n",
       "    </tr>\n",
       "    <tr>\n",
       "      <th>7</th>\n",
       "      <td>Добавить форму подписки на все основные страницы, чтобы собрать базу клиентов для email-рассылок</td>\n",
       "      <td>10</td>\n",
       "      <td>7</td>\n",
       "      <td>8</td>\n",
       "      <td>5</td>\n",
       "      <td>11.20</td>\n",
       "    </tr>\n",
       "    <tr>\n",
       "      <th>6</th>\n",
       "      <td>Показать на главной странице баннеры с актуальными акциями и распродажами, чтобы увеличить конверсию</td>\n",
       "      <td>5</td>\n",
       "      <td>3</td>\n",
       "      <td>8</td>\n",
       "      <td>3</td>\n",
       "      <td>8.00</td>\n",
       "    </tr>\n",
       "    <tr>\n",
       "      <th>2</th>\n",
       "      <td>Добавить блоки рекомендаций товаров на сайт интернет магазина, чтобы повысить конверсию и средний чек заказа</td>\n",
       "      <td>8</td>\n",
       "      <td>3</td>\n",
       "      <td>7</td>\n",
       "      <td>3</td>\n",
       "      <td>7.00</td>\n",
       "    </tr>\n",
       "    <tr>\n",
       "      <th>1</th>\n",
       "      <td>Запустить собственную службу доставки, что сократит срок доставки заказов</td>\n",
       "      <td>2</td>\n",
       "      <td>5</td>\n",
       "      <td>4</td>\n",
       "      <td>10</td>\n",
       "      <td>2.00</td>\n",
       "    </tr>\n",
       "    <tr>\n",
       "      <th>5</th>\n",
       "      <td>Добавить страницу отзывов клиентов о магазине, что позволит увеличить количество заказов</td>\n",
       "      <td>3</td>\n",
       "      <td>2</td>\n",
       "      <td>2</td>\n",
       "      <td>3</td>\n",
       "      <td>1.33</td>\n",
       "    </tr>\n",
       "    <tr>\n",
       "      <th>3</th>\n",
       "      <td>Изменить структура категорий, что увеличит конверсию, т.к. пользователи быстрее найдут нужный товар</td>\n",
       "      <td>8</td>\n",
       "      <td>3</td>\n",
       "      <td>3</td>\n",
       "      <td>8</td>\n",
       "      <td>1.12</td>\n",
       "    </tr>\n",
       "    <tr>\n",
       "      <th>4</th>\n",
       "      <td>Изменить цвет фона главной страницы, чтобы увеличить вовлеченность пользователей</td>\n",
       "      <td>3</td>\n",
       "      <td>1</td>\n",
       "      <td>1</td>\n",
       "      <td>1</td>\n",
       "      <td>1.00</td>\n",
       "    </tr>\n",
       "  </tbody>\n",
       "</table>\n",
       "</div>"
      ],
      "text/plain": [
       "                                                                                                     hypothesis  \\\n",
       "8                                                       Запустить акцию, дающую скидку на товар в день рождения   \n",
       "0            Добавить два новых канала привлечения трафика, что позволит привлекать на 30% больше пользователей   \n",
       "7              Добавить форму подписки на все основные страницы, чтобы собрать базу клиентов для email-рассылок   \n",
       "6          Показать на главной странице баннеры с актуальными акциями и распродажами, чтобы увеличить конверсию   \n",
       "2  Добавить блоки рекомендаций товаров на сайт интернет магазина, чтобы повысить конверсию и средний чек заказа   \n",
       "1                                     Запустить собственную службу доставки, что сократит срок доставки заказов   \n",
       "5                      Добавить страницу отзывов клиентов о магазине, что позволит увеличить количество заказов   \n",
       "3           Изменить структура категорий, что увеличит конверсию, т.к. пользователи быстрее найдут нужный товар   \n",
       "4                              Изменить цвет фона главной страницы, чтобы увеличить вовлеченность пользователей   \n",
       "\n",
       "   reach  impact  confidence  efforts    ICE  \n",
       "8      1       9           9        5  16.20  \n",
       "0      3      10           8        6  13.33  \n",
       "7     10       7           8        5  11.20  \n",
       "6      5       3           8        3   8.00  \n",
       "2      8       3           7        3   7.00  \n",
       "1      2       5           4       10   2.00  \n",
       "5      3       2           2        3   1.33  \n",
       "3      8       3           3        8   1.12  \n",
       "4      3       1           1        1   1.00  "
      ]
     },
     "execution_count": 9,
     "metadata": {},
     "output_type": "execute_result"
    }
   ],
   "source": [
    "hypo_df['ICE'] = (hypo_df['impact'] * hypo_df['confidence'])/hypo_df['efforts']\n",
    "\n",
    "hypo_df.sort_values(by='ICE', ascending=False)"
   ]
  },
  {
   "cell_type": "markdown",
   "metadata": {},
   "source": [
    "    \n",
    "<div class=\"alert alert-warning\">\n",
    "    \n",
    "  <b>Комментарий ревьюера</b>\n",
    "    \n",
    "  ⚠️ Гипотезы имеют длинные названия, чтобы они полностью отображались  можно установить параметр функции display(): pd.options.display.max_colwidth = число_символов (например, 400).\n",
    "    \n",
    "Или использовать <a href=\"https://pandas.pydata.org/pandas-docs/stable/user_guide/options.html\">опции pandas</a>\n",
    "    \n",
    "  ⚠️ В начале лучше написать небольшой комментарий о том, как рассчитываются гипотезы.\n",
    "\n",
    "</div>"
   ]
  },
  {
   "cell_type": "markdown",
   "metadata": {},
   "source": [
    "<div class=\"alert alert-block alert-info\">\n",
    "\n",
    "  <b>Комментарий cтудента</b>\n",
    "\n",
    "  Добавил строчку в пункте 2.1.\n",
    "</div>\n",
    "<div class=\"alert alert-success\">\n",
    "  \n",
    "  <b>Комментарий ревьюера v.2</b>\n",
    "    \n",
    "  ✔️ Теперь названия гипотез полностью видны! \n",
    "</div>"
   ]
  },
  {
   "cell_type": "markdown",
   "metadata": {},
   "source": [
    "### Фреймворк RICE"
   ]
  },
  {
   "cell_type": "code",
   "execution_count": 10,
   "metadata": {},
   "outputs": [
    {
     "data": {
      "text/html": [
       "<div>\n",
       "<style scoped>\n",
       "    .dataframe tbody tr th:only-of-type {\n",
       "        vertical-align: middle;\n",
       "    }\n",
       "\n",
       "    .dataframe tbody tr th {\n",
       "        vertical-align: top;\n",
       "    }\n",
       "\n",
       "    .dataframe thead th {\n",
       "        text-align: right;\n",
       "    }\n",
       "</style>\n",
       "<table border=\"1\" class=\"dataframe\">\n",
       "  <thead>\n",
       "    <tr style=\"text-align: right;\">\n",
       "      <th></th>\n",
       "      <th>hypothesis</th>\n",
       "      <th>reach</th>\n",
       "      <th>impact</th>\n",
       "      <th>confidence</th>\n",
       "      <th>efforts</th>\n",
       "      <th>ICE</th>\n",
       "      <th>RICE</th>\n",
       "    </tr>\n",
       "  </thead>\n",
       "  <tbody>\n",
       "    <tr>\n",
       "      <th>7</th>\n",
       "      <td>Добавить форму подписки на все основные страницы, чтобы собрать базу клиентов для email-рассылок</td>\n",
       "      <td>10</td>\n",
       "      <td>7</td>\n",
       "      <td>8</td>\n",
       "      <td>5</td>\n",
       "      <td>11.20</td>\n",
       "      <td>112.0</td>\n",
       "    </tr>\n",
       "    <tr>\n",
       "      <th>2</th>\n",
       "      <td>Добавить блоки рекомендаций товаров на сайт интернет магазина, чтобы повысить конверсию и средний чек заказа</td>\n",
       "      <td>8</td>\n",
       "      <td>3</td>\n",
       "      <td>7</td>\n",
       "      <td>3</td>\n",
       "      <td>7.00</td>\n",
       "      <td>56.0</td>\n",
       "    </tr>\n",
       "    <tr>\n",
       "      <th>0</th>\n",
       "      <td>Добавить два новых канала привлечения трафика, что позволит привлекать на 30% больше пользователей</td>\n",
       "      <td>3</td>\n",
       "      <td>10</td>\n",
       "      <td>8</td>\n",
       "      <td>6</td>\n",
       "      <td>13.33</td>\n",
       "      <td>40.0</td>\n",
       "    </tr>\n",
       "    <tr>\n",
       "      <th>6</th>\n",
       "      <td>Показать на главной странице баннеры с актуальными акциями и распродажами, чтобы увеличить конверсию</td>\n",
       "      <td>5</td>\n",
       "      <td>3</td>\n",
       "      <td>8</td>\n",
       "      <td>3</td>\n",
       "      <td>8.00</td>\n",
       "      <td>40.0</td>\n",
       "    </tr>\n",
       "    <tr>\n",
       "      <th>8</th>\n",
       "      <td>Запустить акцию, дающую скидку на товар в день рождения</td>\n",
       "      <td>1</td>\n",
       "      <td>9</td>\n",
       "      <td>9</td>\n",
       "      <td>5</td>\n",
       "      <td>16.20</td>\n",
       "      <td>16.2</td>\n",
       "    </tr>\n",
       "    <tr>\n",
       "      <th>3</th>\n",
       "      <td>Изменить структура категорий, что увеличит конверсию, т.к. пользователи быстрее найдут нужный товар</td>\n",
       "      <td>8</td>\n",
       "      <td>3</td>\n",
       "      <td>3</td>\n",
       "      <td>8</td>\n",
       "      <td>1.12</td>\n",
       "      <td>9.0</td>\n",
       "    </tr>\n",
       "    <tr>\n",
       "      <th>1</th>\n",
       "      <td>Запустить собственную службу доставки, что сократит срок доставки заказов</td>\n",
       "      <td>2</td>\n",
       "      <td>5</td>\n",
       "      <td>4</td>\n",
       "      <td>10</td>\n",
       "      <td>2.00</td>\n",
       "      <td>4.0</td>\n",
       "    </tr>\n",
       "    <tr>\n",
       "      <th>5</th>\n",
       "      <td>Добавить страницу отзывов клиентов о магазине, что позволит увеличить количество заказов</td>\n",
       "      <td>3</td>\n",
       "      <td>2</td>\n",
       "      <td>2</td>\n",
       "      <td>3</td>\n",
       "      <td>1.33</td>\n",
       "      <td>4.0</td>\n",
       "    </tr>\n",
       "    <tr>\n",
       "      <th>4</th>\n",
       "      <td>Изменить цвет фона главной страницы, чтобы увеличить вовлеченность пользователей</td>\n",
       "      <td>3</td>\n",
       "      <td>1</td>\n",
       "      <td>1</td>\n",
       "      <td>1</td>\n",
       "      <td>1.00</td>\n",
       "      <td>3.0</td>\n",
       "    </tr>\n",
       "  </tbody>\n",
       "</table>\n",
       "</div>"
      ],
      "text/plain": [
       "                                                                                                     hypothesis  \\\n",
       "7              Добавить форму подписки на все основные страницы, чтобы собрать базу клиентов для email-рассылок   \n",
       "2  Добавить блоки рекомендаций товаров на сайт интернет магазина, чтобы повысить конверсию и средний чек заказа   \n",
       "0            Добавить два новых канала привлечения трафика, что позволит привлекать на 30% больше пользователей   \n",
       "6          Показать на главной странице баннеры с актуальными акциями и распродажами, чтобы увеличить конверсию   \n",
       "8                                                       Запустить акцию, дающую скидку на товар в день рождения   \n",
       "3           Изменить структура категорий, что увеличит конверсию, т.к. пользователи быстрее найдут нужный товар   \n",
       "1                                     Запустить собственную службу доставки, что сократит срок доставки заказов   \n",
       "5                      Добавить страницу отзывов клиентов о магазине, что позволит увеличить количество заказов   \n",
       "4                              Изменить цвет фона главной страницы, чтобы увеличить вовлеченность пользователей   \n",
       "\n",
       "   reach  impact  confidence  efforts    ICE   RICE  \n",
       "7     10       7           8        5  11.20  112.0  \n",
       "2      8       3           7        3   7.00   56.0  \n",
       "0      3      10           8        6  13.33   40.0  \n",
       "6      5       3           8        3   8.00   40.0  \n",
       "8      1       9           9        5  16.20   16.2  \n",
       "3      8       3           3        8   1.12    9.0  \n",
       "1      2       5           4       10   2.00    4.0  \n",
       "5      3       2           2        3   1.33    4.0  \n",
       "4      3       1           1        1   1.00    3.0  "
      ]
     },
     "execution_count": 10,
     "metadata": {},
     "output_type": "execute_result"
    }
   ],
   "source": [
    "hypo_df['RICE'] = hypo_df['reach'] * hypo_df['ICE']\n",
    "\n",
    "hypo_df.sort_values(by='RICE', ascending=False)"
   ]
  },
  {
   "cell_type": "markdown",
   "metadata": {},
   "source": [
    "### Вывод:"
   ]
  },
  {
   "cell_type": "markdown",
   "metadata": {},
   "source": [
    "ТОП-3 по ICE теории с индексами: 8, 0, 7.\n",
    "\n",
    "ТОП-3 по RICE теории с индексами: 7, 2, 0.\n",
    "\n",
    "Так как в формуле RICE используется единственный дополнительный параметр `Reach`, он оказывает большое влияние на смещение положения в списке приоритета. \n",
    "Явный пример, лидер по ICE номер 8 (`Reach` = 1) сместился на позицию 5 по RICE. А номер 7 (`Reach` = 10) сменил позицию с 3 на 1 соответственно."
   ]
  },
  {
   "cell_type": "markdown",
   "metadata": {},
   "source": [
    "<div class=\"alert alert-success\">\n",
    "  \n",
    "  <b>Комментарий ревьюера</b>\n",
    "    \n",
    "  ✔️ Хорошая работа, корректно применены фреймворки и проанализированы полученные результаты. \n",
    "        \n",
    "    \n",
    "Еще результаты  в единой таблице, для наглядности, можно было бы проранжировать и выделить цветом: https://pandas.pydata.org/pandas-docs/stable/user_guide/style.html\n",
    "\n",
    "А в качестве визуализации изменения приоритетов можно использовать: <a href=\"https://datayoga.ru/tpost/zh3s62fori-sloupgraf\">slope graph</a>, <a href=\"https://cduvallet.github.io/posts/2018/03/slopegraphs-in-python\">slope graph 2</a>, <a href=\"https://chart-studio.plotly.com/~pcchang/224/slopegraph-spending-and-academic-performance-by-states-doc/#/\">реализация на plotly</a>\n",
    "   \n",
    "</div>"
   ]
  },
  {
   "cell_type": "markdown",
   "metadata": {},
   "source": [
    "<div class=\"alert alert-block alert-info\">\n",
    "\n",
    "  <b>Комментарий cтудента</b>\n",
    "\n",
    "  Спасибо за интересные идеи. С удовольствием изучу в свободное время.\n",
    "</div>"
   ]
  },
  {
   "cell_type": "markdown",
   "metadata": {},
   "source": [
    "## Часть 2. Анализ A/B-теста"
   ]
  },
  {
   "cell_type": "markdown",
   "metadata": {},
   "source": [
    "<div class=\"alert alert-danger\">\n",
    "    \n",
    "  <b>Комментарий ревьюера</b>\n",
    " \n",
    "  ❌ Еще остается не выполненным на этапе предобработки, но тем не менее важным - проверить корректность разбиения пользователей на группы - может быть есть пользователи, попавшие в обе группы? Если таковые пользователи есть, нужно их выявить и выработать стратегию работы с такими данными. Пересечение групп сильно влияет на результаты теста, если процент достаточно большой. Если есть возможность их можно удалить и посмотреть, какие результаты получаются без них, в любом случае к результатам теста придется относится осторожно.\n",
    "</div>\n"
   ]
  },
  {
   "cell_type": "markdown",
   "metadata": {},
   "source": [
    "<div class=\"alert alert-block alert-info\">\n",
    "\n",
    "  <b>Комментарий cтудента</b>\n",
    "\n",
    "  Добавлен пункт 4.1. Выявлены и исключены пользователи, попавшие в обе группы.\n",
    "</div>\n",
    "<div class=\"alert alert-success\">\n",
    "  \n",
    "  <b>Комментарий ревьюера v.2</b>\n",
    "    \n",
    "  ✔️ Хорошо, результаты теста они больше не искажают. \n",
    "</div>"
   ]
  },
  {
   "cell_type": "markdown",
   "metadata": {},
   "source": [
    "### Корректность разбиения пользователей на группы"
   ]
  },
  {
   "cell_type": "markdown",
   "metadata": {},
   "source": [
    "Предварительно изучим количество заказов и посещений в каждой из групп."
   ]
  },
  {
   "cell_type": "code",
   "execution_count": 11,
   "metadata": {},
   "outputs": [
    {
     "name": "stdout",
     "output_type": "stream",
     "text": [
      "Количество посещений в группе А - 18736\n",
      "Количество посещений в группе B - 18916\n",
      "Количество посещений (группа А - группа B):  -180\n",
      "----------------------------------------\n",
      "Количество заказов в группе А - 557\n",
      "Количество заказов в группе B - 640\n",
      "Количество заказов (группа А - группа B):  -83\n"
     ]
    }
   ],
   "source": [
    "print('Количество посещений в группе А -', visitors_df.query('group == \"A\"')['visitors'].sum())\n",
    "print('Количество посещений в группе B -', visitors_df.query('group == \"B\"')['visitors'].sum())\n",
    "print('Количество посещений (группа А - группа B): ',\n",
    "      visitors_df.query('group == \"A\"')['visitors'].sum() \n",
    "      - visitors_df.query('group == \"B\"')['visitors'].sum())\n",
    "print('-'*40)\n",
    "print('Количество заказов в группе А -', orders_df.query('group == \"A\"').shape[0])\n",
    "print('Количество заказов в группе B -', orders_df.query('group == \"B\"').shape[0])\n",
    "print('Количество заказов (группа А - группа B): ',\n",
    "      orders_df.query('group == \"A\"').shape[0]\n",
    "      - orders_df.query('group == \"B\"').shape[0])"
   ]
  },
  {
   "cell_type": "markdown",
   "metadata": {},
   "source": [
    "В группе В на 180 посещений и 83 заказа больше, чем в группе А."
   ]
  },
  {
   "cell_type": "code",
   "execution_count": 12,
   "metadata": {},
   "outputs": [
    {
     "data": {
      "text/plain": [
       "array([4069496402,  963407295,  351125977, 3234906277,  199603092,\n",
       "        237748145, 3803269165, 2038680547, 2378935119, 4256040402,\n",
       "       2712142231,    8300375,  276558944,  457167155, 3062433592,\n",
       "       1738359350, 2458001652, 2716752286, 3891541246, 1648269707,\n",
       "       3656415546, 2686716486, 2954449915, 2927087541, 2579882178,\n",
       "       3957174400, 2780786433, 3984495233,  818047933, 1668030113,\n",
       "       3717692402, 2044997962, 1959144690, 1294878855, 1404934699,\n",
       "       2587333274, 3202540741, 1333886533, 2600415354, 3951559397,\n",
       "        393266494, 3972127743, 4120364173, 4266935830, 1230306981,\n",
       "       1614305549,  477780734, 1602967004, 1801183820, 4186807279,\n",
       "       3766097110, 3941795274,  471551937, 1316129916,  232979603,\n",
       "       2654030115, 3963646447, 2949041841])"
      ]
     },
     "execution_count": 12,
     "metadata": {},
     "output_type": "execute_result"
    }
   ],
   "source": [
    "visitors_A = orders_df[orders_df['group']=='A']['visitor_id']\n",
    "visitors_B = orders_df[orders_df['group']=='B']['visitor_id']\n",
    "\n",
    "visitors_AB = (orders_df\n",
    "               .loc[orders_df['visitor_id']\n",
    "                   .isin(visitors_A) \n",
    "                    & orders_df['visitor_id']\n",
    "                    .isin(visitors_B),\n",
    "                    'visitor_id']\n",
    "               .unique()\n",
    "              )\n",
    "\n",
    "visitors_AB"
   ]
  },
  {
   "cell_type": "markdown",
   "metadata": {},
   "source": [
    "Исключим повторяющихся пользователей из заказов."
   ]
  },
  {
   "cell_type": "code",
   "execution_count": 13,
   "metadata": {},
   "outputs": [
    {
     "data": {
      "text/plain": [
       "1031"
      ]
     },
     "execution_count": 13,
     "metadata": {},
     "output_type": "execute_result"
    }
   ],
   "source": [
    "# было\n",
    "(orders_df.groupby('visitor_id')['group'].nunique()>1).count()"
   ]
  },
  {
   "cell_type": "code",
   "execution_count": 14,
   "metadata": {},
   "outputs": [
    {
     "data": {
      "text/plain": [
       "973"
      ]
     },
     "execution_count": 14,
     "metadata": {},
     "output_type": "execute_result"
    }
   ],
   "source": [
    "# стало\n",
    "orders_df = orders_df.loc[~orders_df['visitor_id'].isin(visitors_AB)]\n",
    "(orders_df.groupby('visitor_id')['group'].nunique()>1).count()"
   ]
  },
  {
   "cell_type": "code",
   "execution_count": 15,
   "metadata": {},
   "outputs": [
    {
     "name": "stdout",
     "output_type": "stream",
     "text": [
      "Количество посещений в группе А - 18736\n",
      "Количество посещений в группе B - 18916\n",
      "Количество посещений (группа А - группа B):  -180\n",
      "----------------------------------------\n",
      "Количество заказов в группе А - 468\n",
      "Количество заказов в группе B - 548\n",
      "Количество заказов (группа А - группа B):  -80\n"
     ]
    }
   ],
   "source": [
    "print('Количество посещений в группе А -', visitors_df.query('group == \"A\"')['visitors'].sum())\n",
    "print('Количество посещений в группе B -', visitors_df.query('group == \"B\"')['visitors'].sum())\n",
    "print('Количество посещений (группа А - группа B): ',\n",
    "      visitors_df.query('group == \"A\"')['visitors'].sum() \n",
    "      - visitors_df.query('group == \"B\"')['visitors'].sum())\n",
    "print('-'*40)\n",
    "print('Количество заказов в группе А -', orders_df.query('group == \"A\"').shape[0])\n",
    "print('Количество заказов в группе B -', orders_df.query('group == \"B\"').shape[0])\n",
    "print('Количество заказов (группа А - группа B): ',\n",
    "      orders_df.query('group == \"A\"').shape[0]\n",
    "      - orders_df.query('group == \"B\"').shape[0])"
   ]
  },
  {
   "cell_type": "markdown",
   "metadata": {},
   "source": [
    "Теперь разница заказов между группами уменьшилась до 80, но с учетом уменьшения заказов в каждой из групп в процентном соотношение разница увеличилась.\n",
    "\n",
    "Пользователи, попавшие в обе группы, были исключены."
   ]
  },
  {
   "cell_type": "markdown",
   "metadata": {},
   "source": [
    "### Получим новый датасет, содержащий кумулятивные данные."
   ]
  },
  {
   "cell_type": "markdown",
   "metadata": {},
   "source": [
    "В нашем распоряжении имеются датафреймы `orders_df` и `visitors_df`, содержащие информацию о заказах и посетителях интернет-магазина, полученные в рамках A/B-тестирования. \n",
    "\n",
    "Получим новый датасет, содержащий кумулятивные данные."
   ]
  },
  {
   "cell_type": "code",
   "execution_count": 16,
   "metadata": {},
   "outputs": [],
   "source": [
    "# создаем массив уникальных пар значений дат и групп теста\n",
    "dates_groups = orders_df[['date','group']].drop_duplicates() "
   ]
  },
  {
   "cell_type": "code",
   "execution_count": 17,
   "metadata": {},
   "outputs": [],
   "source": [
    "# получаем агрегированные кумулятивные по дням данные о заказах\n",
    "orders_aggregated = (dates_groups\n",
    "                    .apply(lambda x: orders_df[np.logical_and(\n",
    "                        orders_df['date'] <= x['date'], \n",
    "                        orders_df['group'] == x['group'])]\n",
    "                           .agg({'date' : 'max',\n",
    "                                 'group' : 'max',\n",
    "                                 'transaction_id': pd.Series.nunique,\n",
    "                                 'visitor_id' : pd.Series.nunique,\n",
    "                                 'revenue' : 'sum'}),\n",
    "                           axis=1)\n",
    "                    .sort_values(by=['date','group'])\n",
    "                   )"
   ]
  },
  {
   "cell_type": "code",
   "execution_count": 18,
   "metadata": {},
   "outputs": [],
   "source": [
    "# получаем агрегированные кумулятивные по дням данные о посетителях интернет-магазина\n",
    "visitors_aggregated = (dates_groups\n",
    "                      .apply(lambda x: visitors_df[np.logical_and(\n",
    "                          visitors_df['date'] <= x['date'],\n",
    "                          visitors_df['group'] == x['group'])]\n",
    "                             .agg({'date' : 'max',\n",
    "                                   'group' : 'max',\n",
    "                                   'visitors' : 'sum'}),\n",
    "                             axis=1)\n",
    "                      .sort_values(by=['date','group'])\n",
    "                     )"
   ]
  },
  {
   "cell_type": "code",
   "execution_count": 19,
   "metadata": {},
   "outputs": [],
   "source": [
    "# объединяем кумулятивные данные в одной таблице и присваиваем ее столбцам понятные названия\n",
    "cumulative_data = (orders_aggregated\n",
    "                   .merge(visitors_aggregated,\n",
    "                          left_on=['date', 'group'],\n",
    "                          right_on=['date', 'group'])\n",
    "                  )\n",
    "\n",
    "cumulative_data.columns = ['date', 'group', 'orders', 'buyers', 'revenue', 'visitors']"
   ]
  },
  {
   "cell_type": "markdown",
   "metadata": {},
   "source": [
    "### График кумулятивной выручки по дням и группам A/B-тестирования. "
   ]
  },
  {
   "cell_type": "code",
   "execution_count": 20,
   "metadata": {},
   "outputs": [
    {
     "data": {
      "image/png": "[encoded data removed]",
      "text/plain": [
       "<Figure size 720x360 with 1 Axes>"
      ]
     },
     "metadata": {},
     "output_type": "display_data"
    }
   ],
   "source": [
    "# Построим графики кумулятивной выручки по дням и группам A/B-тестирования:\n",
    "# датафрейм с кумулятивным количеством заказов и кумулятивной выручкой по дням в группе А\n",
    "cumulative_a = cumulative_data[cumulative_data['group']=='A'][['date','revenue','orders','visitors']]\n",
    "# датафрейм с кумулятивным количеством заказов и кумулятивной выручкой по дням в группе B\n",
    "cumulative_b = cumulative_data[cumulative_data['group']=='B'][['date','revenue','orders','visitors']]\n",
    "\n",
    "plt.figure(figsize=(10, 5))\n",
    "# Строим график выручки группы А\n",
    "plt.plot(cumulative_a['date'], cumulative_a['revenue'], label='A')\n",
    "# Строим график выручки группы B\n",
    "plt.plot(cumulative_b['date'], cumulative_b['revenue'], label='B')\n",
    "plt.grid(True)\n",
    "plt.xticks(rotation=45)\n",
    "plt.title('Кумулятивная выручка по группам')\n",
    "plt.xlabel('Дата')\n",
    "plt.ylabel('Значения')\n",
    "plt.legend()\n",
    "\n",
    "plt.show();"
   ]
  },
  {
   "cell_type": "markdown",
   "metadata": {},
   "source": [
    "**Вывод:**\n",
    "\n",
    "Группа А растет постепенно. Группа В, резкий рост после 17.08, возможно там скрыты большие покупки. "
   ]
  },
  {
   "cell_type": "markdown",
   "metadata": {},
   "source": [
    "<div class=\"alert alert-success\">\n",
    "  \n",
    "  <b>Комментарий ревьюера</b>\n",
    "    \n",
    "  ✔️ График построен верно и можем зафиксировать аномалию в группе В.\n",
    "</div>"
   ]
  },
  {
   "cell_type": "markdown",
   "metadata": {},
   "source": [
    "### График кумулятивного среднего чека по группам. "
   ]
  },
  {
   "cell_type": "code",
   "execution_count": 21,
   "metadata": {},
   "outputs": [
    {
     "data": {
      "image/png": "[encoded data removed]",
      "text/plain": [
       "<Figure size 720x360 with 1 Axes>"
      ]
     },
     "metadata": {},
     "output_type": "display_data"
    }
   ],
   "source": [
    "# Построим графики среднего чека по группам — разделим кумулятивную выручку на кумулятивное число заказов:\n",
    "plt.figure(figsize=(10, 5))\n",
    "plt.plot(cumulative_a['date'], cumulative_a['revenue'] / cumulative_a['orders'], label='A')\n",
    "plt.plot(cumulative_b['date'], cumulative_b['revenue'] / cumulative_b['orders'], label='B')\n",
    "plt.grid(True)\n",
    "plt.xticks(rotation=45)\n",
    "plt.title('Кумулятивный средний чек по группам')\n",
    "plt.xlabel('Дата')\n",
    "plt.ylabel('Значения')\n",
    "plt.legend()\n",
    "\n",
    "plt.show();"
   ]
  },
  {
   "cell_type": "markdown",
   "metadata": {},
   "source": [
    "**Вывод:**\n",
    "\n",
    "Группа В, резкий рост после 17.08, после чек этой группы начинает снижаться."
   ]
  },
  {
   "cell_type": "markdown",
   "metadata": {},
   "source": [
    "<div class=\"alert alert-success\">\n",
    "  \n",
    "  <b>Комментарий ревьюера</b>\n",
    "    \n",
    "  ✔️ Да, тут так-же группа В выделяется.\n",
    "</div>"
   ]
  },
  {
   "cell_type": "markdown",
   "metadata": {},
   "source": [
    "### График относительного изменения кумулятивного среднего чека группы B к группе A. "
   ]
  },
  {
   "cell_type": "code",
   "execution_count": 22,
   "metadata": {},
   "outputs": [],
   "source": [
    "# подготовим таблицу для графика относительного изменения кумулятивного среднего чека и построим график\n",
    "merged_cumulative = cumulative_a.merge(cumulative_b, on=['date'],suffixes=('_a', '_b'))"
   ]
  },
  {
   "cell_type": "code",
   "execution_count": 23,
   "metadata": {},
   "outputs": [
    {
     "data": {
      "image/png": "[encoded data removed]",
      "text/plain": [
       "<Figure size 720x360 with 1 Axes>"
      ]
     },
     "metadata": {},
     "output_type": "display_data"
    }
   ],
   "source": [
    "# cтроим отношение средних чеков\n",
    "plt.figure(figsize=(10, 5))\n",
    "plt.plot(\n",
    "    merged_cumulative['date'],\n",
    "    (merged_cumulative['revenue_b'] / merged_cumulative['orders_b']) \n",
    "    / (merged_cumulative['revenue_a'] / merged_cumulative['orders_a']) -1\n",
    ")\n",
    "plt.grid(True)\n",
    "plt.xticks(rotation=45)\n",
    "plt.title('Изменения относительного кумулятивного среднего чека')\n",
    "plt.xlabel('Дата')\n",
    "plt.ylabel('Значения')\n",
    "\n",
    "# добавляем ось X\n",
    "plt.axhline(y=0, color='black', linestyle='-.')\n",
    "\n",
    "plt.show();"
   ]
  },
  {
   "cell_type": "markdown",
   "metadata": {},
   "source": [
    "**Вывод:**\n",
    "\n",
    "\"Скачки\" на графике указывают на крупные заказы и/или выбросы. Помимо ранее отмеченого 17.08 они могут быть и в начале"
   ]
  },
  {
   "cell_type": "markdown",
   "metadata": {},
   "source": [
    "<div class=\"alert alert-success\">\n",
    "  \n",
    "  <b>Комментарий ревьюера</b>\n",
    "    \n",
    "  ✔️ Верно, похоже на крупные заказы.\n",
    "</div>"
   ]
  },
  {
   "cell_type": "markdown",
   "metadata": {},
   "source": [
    "### График кумулятивного среднего количества заказов на посетителя по группам. "
   ]
  },
  {
   "cell_type": "code",
   "execution_count": 24,
   "metadata": {},
   "outputs": [
    {
     "data": {
      "image/png": "[encoded data removed]",
      "text/plain": [
       "<Figure size 720x360 with 1 Axes>"
      ]
     },
     "metadata": {},
     "output_type": "display_data"
    }
   ],
   "source": [
    "# считаем кумулятивную конверсию\n",
    "cumulative_data['conversion'] = cumulative_data['orders']/cumulative_data['visitors']\n",
    "\n",
    "# отделяем данные по группе A\n",
    "cumulative_a = cumulative_data[cumulative_data['group']=='A']\n",
    "\n",
    "# отделяем данные по группе B\n",
    "cumulative_b = cumulative_data[cumulative_data['group']=='B']\n",
    "\n",
    "# строим графики\n",
    "plt.figure(figsize=(10, 5))\n",
    "plt.plot(cumulative_a['date'], cumulative_a['conversion'], label='A')\n",
    "plt.plot(cumulative_b['date'], cumulative_b['conversion'], label='B')\n",
    "plt.grid(True)\n",
    "plt.xticks(rotation=45)\n",
    "plt.title('Кумулятивная конверсия по группам')\n",
    "plt.xlabel('Дата')\n",
    "plt.ylabel('Значения')\n",
    "# задаем масштаб осей\n",
    "plt.axis(xmin=cumulative_a['date'].min(), xmax=cumulative_a['date'].max(), ymin=.025, ymax=0.04)\n",
    "plt.legend()\n",
    "\n",
    "plt.show();"
   ]
  },
  {
   "cell_type": "markdown",
   "metadata": {},
   "source": [
    "**Вывод:**\n",
    "    \n",
    "На первых этапах конверсия в обеих группах \"прыгала\". После 09.08 начала выровниваться, и по графику видно, что группа В лидирет.\n",
    "\n",
    "Разница между группами порядка 0.2% в абсолютном значение"
   ]
  },
  {
   "cell_type": "markdown",
   "metadata": {},
   "source": [
    "<div class=\"alert alert-success\">\n",
    "  \n",
    "  <b>Комментарий ревьюера</b>\n",
    "    \n",
    "  ✔️ Согласен, группа В в лидерах.\n",
    "</div>"
   ]
  },
  {
   "cell_type": "markdown",
   "metadata": {},
   "source": [
    "### График относительного изменения кумулятивного среднего количества заказов на посетителя группы B к группе A. "
   ]
  },
  {
   "cell_type": "code",
   "execution_count": 25,
   "metadata": {},
   "outputs": [
    {
     "data": {
      "image/png": "[encoded data removed]",
      "text/plain": [
       "<Figure size 720x360 with 1 Axes>"
      ]
     },
     "metadata": {},
     "output_type": "display_data"
    }
   ],
   "source": [
    "merged_cumulative = cumulative_a.merge(cumulative_b, on=['date'],suffixes=('_a', '_b'))\n",
    "\n",
    "plt.figure(figsize=(10, 5))\n",
    "plt.plot(merged_cumulative['date'], merged_cumulative['conversion_b'] / merged_cumulative['conversion_a'] - 1)\n",
    "plt.grid(True)\n",
    "plt.xticks(rotation=45)\n",
    "plt.title('График относительного изменения кумулятивной конверсии групп')\n",
    "plt.xlabel('Дата')\n",
    "plt.ylabel('Значения')\n",
    "plt.axis(xmin=merged_cumulative['date'].min(), xmax=merged_cumulative['date'].max(), ymin=-0.30, ymax=0.3)\n",
    "plt.axhline(y=0, color='black', linestyle='-.')\n",
    "plt.axhline(y=0.15, color='grey', linestyle='--')\n",
    "\n",
    "plt.show();"
   ]
  },
  {
   "cell_type": "markdown",
   "metadata": {},
   "source": [
    "**Вывод:**\n",
    "    \n",
    "Группа B брала разгон в начале теста, и теперь стабильно и существенно обгоняет группу А"
   ]
  },
  {
   "cell_type": "markdown",
   "metadata": {},
   "source": [
    "<div class=\"alert alert-success\">\n",
    "  \n",
    "  <b>Комментарий ревьюера</b>\n",
    "    \n",
    "  ✔️ Да, группа В выше, а еще в последней трети эксперимента наблюдается стабилизация результатов.\n",
    "</div>\n",
    "\n"
   ]
  },
  {
   "cell_type": "markdown",
   "metadata": {},
   "source": [
    "### Анализ стоймости заказов."
   ]
  },
  {
   "cell_type": "code",
   "execution_count": 26,
   "metadata": {
    "scrolled": true
   },
   "outputs": [
    {
     "data": {
      "image/png": "[encoded data removed]",
      "text/plain": [
       "<Figure size 432x288 with 1 Axes>"
      ]
     },
     "metadata": {},
     "output_type": "display_data"
    }
   ],
   "source": [
    "# Используйте Seaborn для построения гистограммы\n",
    "sns.histplot(data=orders_df, x='revenue', bins=10)\n",
    "plt.title('Распределение revenue')\n",
    "plt.xlabel('Значения')\n",
    "plt.ylabel('Частота')\n",
    "plt.grid(True)\n",
    "plt.xticks(rotation=45)  # Поворачиваем метки на оси x для лучшей видимости\n",
    "\n",
    "plt.show();\n"
   ]
  },
  {
   "cell_type": "markdown",
   "metadata": {},
   "source": [
    "Основная часть заказов в левой части, справа спрятались какие-то большие заказы."
   ]
  },
  {
   "cell_type": "code",
   "execution_count": 27,
   "metadata": {},
   "outputs": [
    {
     "data": {
      "image/png": "[encoded data removed]",
      "text/plain": [
       "<Figure size 720x360 with 1 Axes>"
      ]
     },
     "metadata": {},
     "output_type": "display_data"
    }
   ],
   "source": [
    "x_values = pd.Series(range(0,len(orders_df['revenue'])))\n",
    "\n",
    "plt.figure(figsize=(10, 5))\n",
    "sns.scatterplot(x=x_values, y=\"revenue\", hue=\"group\",\n",
    "                     data=orders_df)\n",
    "plt.grid()\n",
    "plt.title('Точечный график распределение revenue')\n",
    "plt.xlabel('Частота')\n",
    "plt.ylabel('Значения')\n",
    "\n",
    "plt.show();"
   ]
  },
  {
   "cell_type": "code",
   "execution_count": 28,
   "metadata": {},
   "outputs": [
    {
     "data": {
      "image/png": "[encoded data removed]",
      "text/plain": [
       "<Figure size 720x360 with 1 Axes>"
      ]
     },
     "metadata": {},
     "output_type": "display_data"
    },
    {
     "name": "stdout",
     "output_type": "stream",
     "text": [
      "[26785. 53904.]\n"
     ]
    }
   ],
   "source": [
    "orders_clean = orders_df.query('revenue<100000')\n",
    "x_values = pd.Series(range(0,len(orders_clean['revenue'])))\n",
    "plt.figure(figsize=(10, 5))\n",
    "sns.scatterplot(x=x_values, y=\"revenue\", hue=\"group\", data=orders_clean)\n",
    "plt.grid()\n",
    "plt.title('Точечный график количества заказов')\n",
    "\n",
    "plt.show();\n",
    "\n",
    "print(np.percentile(orders_df['revenue'], [95, 99]))"
   ]
  },
  {
   "cell_type": "markdown",
   "metadata": {},
   "source": [
    "Принимаю решение убрать все что выше 99 перцентиля."
   ]
  },
  {
   "cell_type": "code",
   "execution_count": 29,
   "metadata": {},
   "outputs": [],
   "source": [
    "per_99 = np.percentile(orders_df['revenue'], [99])[0]\n",
    "orders_clean = orders_df.query('revenue<= @per_99')"
   ]
  },
  {
   "cell_type": "markdown",
   "metadata": {},
   "source": [
    "Таблица с заказами очищена от аномально дорогих заказов, теперь изучим количество заказов"
   ]
  },
  {
   "cell_type": "markdown",
   "metadata": {},
   "source": [
    "<div class=\"alert alert-warning\">\n",
    "    \n",
    "  <b>Комментарий ревьюера</b>\n",
    "    \n",
    "  ⚠️ Перцентали выбраны верно. Но скорее всего, после обнаружения пользователей, которые вошли в обе группы (что не совсем верно) границы выбросов изменятся. Еще раз перепроверь свое решение после дополнения части с предобработкой.\n",
    "</div>"
   ]
  },
  {
   "cell_type": "markdown",
   "metadata": {},
   "source": [
    "<div class=\"alert alert-block alert-info\">\n",
    "\n",
    "  <b>Комментарий cтудента</b>\n",
    "\n",
    "  Оставил перцентали на том же уровне.\n",
    "</div>"
   ]
  },
  {
   "cell_type": "markdown",
   "metadata": {},
   "source": [
    "### Анализ колличества заказов."
   ]
  },
  {
   "cell_type": "code",
   "execution_count": 30,
   "metadata": {},
   "outputs": [],
   "source": [
    "orders_by_users = (orders_df.groupby('visitor_id')['revenue'].count()\n",
    "                   .reset_index()\n",
    "                   .rename(columns={'revenue':'orders'}))"
   ]
  },
  {
   "cell_type": "code",
   "execution_count": 31,
   "metadata": {},
   "outputs": [
    {
     "data": {
      "image/png": "[encoded data removed]",
      "text/plain": [
       "<Figure size 432x288 with 1 Axes>"
      ]
     },
     "metadata": {},
     "output_type": "display_data"
    }
   ],
   "source": [
    "orders_by_users['orders'].hist()\n",
    "plt.title('Распределение количества заказов')\n",
    "plt.xlabel('Колличество заказов')\n",
    "plt.ylabel('Значения')\n",
    "\n",
    "plt.show();"
   ]
  },
  {
   "cell_type": "markdown",
   "metadata": {},
   "source": [
    "В основном клиенты делают 1, намного реже, 2 заказа и совсем редко 3."
   ]
  },
  {
   "cell_type": "code",
   "execution_count": 32,
   "metadata": {},
   "outputs": [
    {
     "data": {
      "image/png": "[encoded data removed]",
      "text/plain": [
       "<Figure size 432x288 with 1 Axes>"
      ]
     },
     "metadata": {},
     "output_type": "display_data"
    },
    {
     "name": "stdout",
     "output_type": "stream",
     "text": [
      "[1. 2. 2.]\n"
     ]
    }
   ],
   "source": [
    "x_values = pd.Series(range(0,orders_by_users['orders'].count())) # сериес для оси х\n",
    "plt.scatter(data=orders_by_users, x=x_values, y='orders') \n",
    "plt.grid()\n",
    "plt.title('Точечный график количества заказов на пользователя')\n",
    "plt.xlabel('Частота')\n",
    "plt.ylabel('Колличество заказов')\n",
    "plt.yticks([0,1,2,3,4])\n",
    "\n",
    "plt.show();\n",
    "\n",
    "print(np.percentile(orders_by_users['orders'], [95, 98, 99]))"
   ]
  },
  {
   "cell_type": "markdown",
   "metadata": {},
   "source": [
    "Основываясь на графике принимаем решение, оставляем до 2-х заказов. Уберем таких пользователей."
   ]
  },
  {
   "cell_type": "code",
   "execution_count": 33,
   "metadata": {},
   "outputs": [],
   "source": [
    "per_98 = np.percentile(orders_by_users['orders'], [98])[0]\n",
    "orders_by_users_clean = orders_by_users.query('orders<= @per_98')"
   ]
  },
  {
   "cell_type": "markdown",
   "metadata": {},
   "source": [
    "Сформируем итоговую таблицу заказов без аномалий"
   ]
  },
  {
   "cell_type": "markdown",
   "metadata": {},
   "source": [
    "<div class=\"alert alert-warning\">\n",
    "    \n",
    "  <b>Комментарий ревьюера</b>\n",
    "    \n",
    "  ⚠️ Здесь тоже границы выбросов должны скорректироваться.\n",
    "</div>"
   ]
  },
  {
   "cell_type": "markdown",
   "metadata": {},
   "source": [
    "<div class=\"alert alert-block alert-info\">\n",
    "\n",
    "  <b>Комментарий cтудента</b>\n",
    "\n",
    "  Уменьшилось колличество заказов (с \"до 3-х включительно\" до \"до 2-х включительно\"). Однако перцентали остались на том же уровне.\n",
    "</div>\n",
    "<div class=\"alert alert-success\">\n",
    "  \n",
    "  <b>Комментарий ревьюера v.2</b>\n",
    "    \n",
    "  ✔️ Количество заказов сократилось заметно, а вот чек не сильно уменьшился.\n",
    "</div>"
   ]
  },
  {
   "cell_type": "code",
   "execution_count": 34,
   "metadata": {},
   "outputs": [],
   "source": [
    "orders_clean = orders_clean.loc[orders_clean['visitor_id'].isin(orders_by_users_clean['visitor_id'])]"
   ]
  },
  {
   "cell_type": "markdown",
   "metadata": {},
   "source": [
    "**Вывод:**\n",
    "\n",
    "Таким образом были изучены сырые данные и подготовлена таблица с данными заказов без аномалий.\n",
    "Изходя из сырых данных группа В казалась предпочтительнее, однако у неё были найдены серьезные аномалии.\n",
    "Была сформированна итоговая таблица с очищенными данными."
   ]
  },
  {
   "cell_type": "markdown",
   "metadata": {},
   "source": [
    "### Статистическая значимость по «сырым» данным."
   ]
  },
  {
   "cell_type": "markdown",
   "metadata": {},
   "source": [
    "Для проверки будем использовать непараметрический критерий Манна-Уитни, так как с большой долей вероятности можно утверждать что данные у нас распределены ненормально."
   ]
  },
  {
   "cell_type": "code",
   "execution_count": 35,
   "metadata": {},
   "outputs": [],
   "source": [
    "# таблицы с данными по заказам на каждого пользователя\n",
    "orders_by_usersA = orders_df[orders_df['group']=='A'].groupby('visitor_id')['transaction_id'].nunique().reset_index()\n",
    "orders_by_usersA.columns=['visitor_id','orders']\n",
    "\n",
    "orders_by_usersB = orders_df[orders_df['group']=='B'].groupby('visitor_id')['transaction_id'].nunique().reset_index()\n",
    "orders_by_usersB.columns=['visitor_id','orders']"
   ]
  },
  {
   "cell_type": "markdown",
   "metadata": {},
   "source": [
    "Формируем таблицы с пользователями без заказов\n",
    "\n",
    "1. Вычитаем из общего числа визитов число заказов, получаем количество пользователей, которые не совершили заказ\n",
    "2. Затем формируем сериес, в котором все значения будут равны 0, а количество таких значений это как раз результат операции описанной выше.\n",
    "3. Объединяем с пользователями, которые делали заказы"
   ]
  },
  {
   "cell_type": "code",
   "execution_count": 36,
   "metadata": {},
   "outputs": [],
   "source": [
    "freeloadersA = pd.Series(0, index=np.arange(\n",
    "    visitors_df[visitors_df['group']=='A']['visitors'].sum() \n",
    "    - len(orders_by_usersA['orders'])), name='orders'\n",
    "                        )\n",
    "\n",
    "freeloadersB = pd.Series(0, index=np.arange(\n",
    "    visitors_df[visitors_df['group']=='B']['visitors'].sum() \n",
    "    - len(orders_by_usersB['orders'])), name='orders'\n",
    "                        )"
   ]
  },
  {
   "cell_type": "code",
   "execution_count": 37,
   "metadata": {},
   "outputs": [],
   "source": [
    "# создаем выборки с сырыми данными для стат тестов\n",
    "sampleA = pd.concat([orders_by_usersA['orders'], freeloadersA])\n",
    "sampleB = pd.concat([orders_by_usersB['orders'], freeloadersB])"
   ]
  },
  {
   "cell_type": "markdown",
   "metadata": {},
   "source": [
    "Применим озвученный ранее критерий к сырым данным и посмотрим на **среднее значение количества заказов**.\n",
    "\n",
    "- H0 - количество заказов группы А = количество заказов группы В\n",
    "- H1 - количество заказов групп, статистически значимо, не равны\n",
    "- Примем для себя уровень значимости `alpha = .05`"
   ]
  },
  {
   "cell_type": "markdown",
   "metadata": {},
   "source": [
    "<div class=\"alert alert-danger\">\n",
    "    \n",
    "  <b>Комментарий ревьюера</b>\n",
    "    \n",
    "  ❌ Не согласен с такой формулировкой гипотез.  Мы проверяем не конверсию, а  количество заказов. И проверяем на равенство или не равенство, мы смотрим есть или нет стат. значимая разница между выборками.\n",
    "</div>"
   ]
  },
  {
   "cell_type": "markdown",
   "metadata": {},
   "source": [
    "<div class=\"alert alert-block alert-info\">\n",
    "\n",
    "  <b>Комментарий cтудента</b>\n",
    "\n",
    "  Изменил формулировку гипотез.\n",
    "</div>\n",
    "<div class=\"alert alert-warning\">\n",
    "    \n",
    "  <b>Комментарий ревьюера v.2</b>\n",
    "    \n",
    "  ⚠️ Так и говорим о равенстве \\ не равенстве. Мы просто пишем есть стат. значимая разница и нет стат. значимой разницы.\n",
    "</div>"
   ]
  },
  {
   "cell_type": "code",
   "execution_count": 38,
   "metadata": {},
   "outputs": [
    {
     "name": "stdout",
     "output_type": "stream",
     "text": [
      "p_value: 0.01102\n",
      "Среднее значение количества заказов группы А: 2.5%\n",
      "Среднее значение количества заказов группы B: 2.9%\n",
      "Разница между группами: -13.8%\n"
     ]
    }
   ],
   "source": [
    "print('p_value: {:.5f}'.format(st.mannwhitneyu(sampleA, sampleB)[1]))\n",
    "print('Среднее значение количества заказов группы А: {:.1%}'.format(sampleA.mean()))\n",
    "print('Среднее значение количества заказов группы B: {:.1%}'.format(sampleB.mean()))\n",
    "print('Разница между группами: {:.1%}'.format((sampleA.mean() - sampleB.mean()) / sampleB.mean()))"
   ]
  },
  {
   "cell_type": "markdown",
   "metadata": {},
   "source": [
    "Так как `p_value` меньше заданного значения `alpha`, то мы отвергаем гипотизу о равенстве средний конверсий. В абсолютных значениях эта разница составила 0.4%, или на 13.8%, что в нашем случае оказалось стат значимым."
   ]
  },
  {
   "cell_type": "markdown",
   "metadata": {},
   "source": [
    "<div class=\"alert alert-success\">\n",
    "  \n",
    "  <b>Комментарий ревьюера</b>\n",
    "    \n",
    "  ✔️ Верно выбран сам тест и верно проинтерпретированы  его результаты!\n",
    "\n",
    "</div>\n",
    "<div class=\"alert alert-warning\">\n",
    "    \n",
    "  <b>Комментарий ревьюера</b>\n",
    "    \n",
    "  ⚠️ В каждом тесте стоит так-же рассчитать разницу между группами в процентном соотношении, чтобы понять какое различие мы видим.\n",
    "\n",
    "</div>   "
   ]
  },
  {
   "cell_type": "markdown",
   "metadata": {},
   "source": [
    "<div class=\"alert alert-block alert-info\">\n",
    "\n",
    "  <b>Комментарий cтудента</b>\n",
    "\n",
    "  Добавил строку с разницей в процентном соотношении между группами в каждом тесте.\n",
    "</div>\n",
    "<div class=\"alert alert-success\">\n",
    "  \n",
    "  <b>Комментарий ревьюера v.2</b>\n",
    "    \n",
    "  ✔️ Хорошо.\n",
    "</div>"
   ]
  },
  {
   "cell_type": "markdown",
   "metadata": {},
   "source": [
    "Далее изучим различие **среднего чека** по сырым данным.\n",
    "\n",
    "- H0 - средний чек группы А = чеку группы В\n",
    "- H1 - средний чек групп не равен\n",
    "- Примем для себя уровень значимости alpha = .05"
   ]
  },
  {
   "cell_type": "code",
   "execution_count": 39,
   "metadata": {},
   "outputs": [
    {
     "name": "stdout",
     "output_type": "stream",
     "text": [
      "p_value: 0.82949\n",
      "Средний чек группы А: 7189.44\n",
      "Средний чек группы B: 9249.95\n",
      "Разница между группами: -22.3%\n"
     ]
    }
   ],
   "source": [
    "print('p_value: {:.5f}'.format(\n",
    "    st.mannwhitneyu(orders_df[orders_df['group']=='A']['revenue'], orders_df[orders_df['group']=='B']['revenue'])[1]\n",
    "))\n",
    "print('Средний чек группы А: {:.2f}'.format(orders_df[orders_df['group']=='A']['revenue'].mean()))\n",
    "print('Средний чек группы B: {:.2f}'.format(orders_df[orders_df['group']=='B']['revenue'].mean()))\n",
    "print('Разница между группами: {:.1%}'.format((orders_df[orders_df['group']=='A']['revenue'].mean()\n",
    "                                               - orders_df[orders_df['group']=='B']['revenue'].mean())\n",
    "                                               / orders_df[orders_df['group']=='B']['revenue'].mean())\n",
    "     )"
   ]
  },
  {
   "cell_type": "markdown",
   "metadata": {},
   "source": [
    "Несмотря на разницу среднего чека в ~2000 (22.3%), тест показывает, что мы не можем отвергнуть нулевую гипотизу о равенстве средних. То есть, такое различие не статистически значимо."
   ]
  },
  {
   "cell_type": "markdown",
   "metadata": {},
   "source": [
    "<div class=\"alert alert-success\">\n",
    "  \n",
    "  <b>Комментарий ревьюера</b>\n",
    "    \n",
    "  ✔️  Согласен! Хорошо, что в начале мы говорим о наблюдаемых различиях, а потом - что они не являются стат. значимыми.\n",
    "\n",
    "</div>"
   ]
  },
  {
   "cell_type": "markdown",
   "metadata": {},
   "source": [
    "### Очищенные данные\n",
    "Ранее уже была подготовлена таблица с \"чистыми\" заказами, испольуем её и код для сырых данных"
   ]
  },
  {
   "cell_type": "code",
   "execution_count": 40,
   "metadata": {},
   "outputs": [],
   "source": [
    "# таблицы с данными по заказам на каждого пользователя (очищенная)\n",
    "orders_by_usersA = orders_clean[orders_clean['group']=='A'].groupby('visitor_id')['transaction_id'].nunique().reset_index()\n",
    "orders_by_usersA.columns=['visitor_id','orders']\n",
    "\n",
    "orders_by_usersB = orders_clean[orders_clean['group']=='B'].groupby('visitor_id')['transaction_id'].nunique().reset_index()\n",
    "orders_by_usersB.columns=['visitor_id','orders']"
   ]
  },
  {
   "cell_type": "code",
   "execution_count": 41,
   "metadata": {},
   "outputs": [],
   "source": [
    "freeloadersA = pd.Series(0, index=np.arange(\n",
    "    visitors_df[visitors_df['group']=='A']['visitors'].sum() \n",
    "    - len(orders_by_usersA['orders'])), name='orders'\n",
    "                        )\n",
    "\n",
    "freeloadersB = pd.Series(0, index=np.arange(\n",
    "    visitors_df[visitors_df['group']=='B']['visitors'].sum() \n",
    "    - len(orders_by_usersB['orders'])), name='orders'\n",
    "                        )"
   ]
  },
  {
   "cell_type": "code",
   "execution_count": 42,
   "metadata": {},
   "outputs": [],
   "source": [
    "# создаем выборки с чистыми данными для стат тестов\n",
    "sampleA = pd.concat([orders_by_usersA['orders'], freeloadersA])\n",
    "sampleB = pd.concat([orders_by_usersB['orders'], freeloadersB])"
   ]
  },
  {
   "cell_type": "code",
   "execution_count": 43,
   "metadata": {},
   "outputs": [
    {
     "name": "stdout",
     "output_type": "stream",
     "text": [
      "p_value: 0.00695\n",
      "Среднее значение количества заказов (очищенная) группы А: 2.4%\n",
      "Среднее значение количества заказов (очищенная) группы B: 2.8%\n",
      "Разница между группами: -15.9%\n"
     ]
    }
   ],
   "source": [
    "print('p_value: {:.5f}'.format(st.mannwhitneyu(sampleA, sampleB)[1]))\n",
    "print('Среднее значение количества заказов (очищенная) группы А: {:.1%}'.format(sampleA.mean()))\n",
    "print('Среднее значение количества заказов (очищенная) группы B: {:.1%}'.format(sampleB.mean()))\n",
    "print('Разница между группами: {:.1%}'.format((sampleA.mean() - sampleB.mean()) / sampleB.mean()))"
   ]
  },
  {
   "cell_type": "markdown",
   "metadata": {},
   "source": [
    "На очищенных данных ситуация с **среднем значением количества заказов** почти не изменилась, только значения немного уменьшились (на 0.1). Разница между группами увеличилась (15.9 %). Группа В, по прежнему, в лидерах по среднему значению количеству заказов. Отвергаем H0 о равенстве конверсий."
   ]
  },
  {
   "cell_type": "markdown",
   "metadata": {},
   "source": [
    "<div class=\"alert alert-success\">\n",
    "  \n",
    "  <b>Комментарий ревьюера</b>\n",
    "    \n",
    "  ✔️  И тут отвергаем нулевую гипотезу.\n",
    "</div>"
   ]
  },
  {
   "cell_type": "code",
   "execution_count": 44,
   "metadata": {},
   "outputs": [
    {
     "name": "stdout",
     "output_type": "stream",
     "text": [
      "p_value: 0.78770\n",
      "Средний чек (очищенный) группы А: 6487.02\n",
      "Средний чек (очищенный) группы B: 6277.27\n",
      "Разница между группами: -22.3%\n"
     ]
    }
   ],
   "source": [
    "print('p_value: {:.5f}'.format(\n",
    "    st.mannwhitneyu(orders_clean[orders_clean['group']=='A']['revenue'], orders_clean[orders_clean['group']=='B']['revenue'])[1]\n",
    "))\n",
    "print('Средний чек (очищенный) группы А: {:.2f}'.format(orders_clean[orders_clean['group']=='A']['revenue'].mean()))\n",
    "print('Средний чек (очищенный) группы B: {:.2f}'.format(orders_clean[orders_clean['group']=='B']['revenue'].mean()))\n",
    "print('Разница между группами: {:.1%}'.format((orders_df[orders_df['group']=='A']['revenue'].mean()\n",
    "                                               - orders_df[orders_df['group']=='B']['revenue'].mean())\n",
    "                                               / orders_df[orders_df['group']=='B']['revenue'].mean())\n",
    "     )"
   ]
  },
  {
   "cell_type": "markdown",
   "metadata": {},
   "source": [
    "Такая же ситуация с тестом и **по среднему чеку**, мы по прежнему не можем отвергнуть нулевую гипотезу о равенстве среднего чека. Однако, средние чеки значительно выровнялись, больше нет такой большой разницы между группа А и В по среднему чеку."
   ]
  },
  {
   "cell_type": "markdown",
   "metadata": {},
   "source": [
    "<div class=\"alert alert-success\">\n",
    "  \n",
    "  <b>Комментарий ревьюера</b>\n",
    "    \n",
    "  ✔️ Верно!\n",
    "</div>"
   ]
  },
  {
   "cell_type": "markdown",
   "metadata": {},
   "source": [
    "Подготовим данные для визуализации куммулитивной выручки по очищенным данным"
   ]
  },
  {
   "cell_type": "code",
   "execution_count": 45,
   "metadata": {},
   "outputs": [],
   "source": [
    "orders_aggregated = (dates_groups\n",
    "                    .apply(lambda x: orders_clean[np.logical_and(orders_clean['date'] <= x['date']\n",
    "                                                            , orders_clean['group'] ==  x['group'])]\n",
    "                    .agg({'date':'max', 'group':'max', 'revenue':'sum', 'transaction_id':'nunique'}), axis=1) \n",
    "                    .sort_values(by=['date','group']))\n",
    "                    \n",
    "orders_aggregated.rename(columns={'transaction_id':'orders_clean'}, inplace=True)\n",
    "\n",
    "visitors_aggregated = (dates_groups\n",
    "                    .apply(lambda x: visitors_df[np.logical_and(visitors_df['date'] <= x['date']\n",
    "                                                            , visitors_df['group'] ==  x['group'])]\n",
    "                    .agg({'date':'max', 'group':'max', 'visitors':'sum'}), axis=1) \n",
    "                    .sort_values(by=['date','group']))\n",
    "visitors_aggregated.head()\n",
    "\n",
    "cumulative_data = orders_aggregated.merge(visitors_aggregated, on=['date','group'])\n",
    "cumulative_data.head()\n",
    "\n",
    "\n",
    "\n",
    "from pandas.plotting import register_matplotlib_converters\n",
    "register_matplotlib_converters()\n",
    "# Построим график кумулятивной выручки по группам, предварительно изучив количество заказов в каждой из групп\n",
    "cumulative_a = cumulative_data.loc[cumulative_data['group'] == 'A',['date','revenue','orders_clean','visitors']]\n",
    "cumulative_b = cumulative_data.loc[cumulative_data['group'] == 'B',['date','revenue','orders_clean','visitors']]"
   ]
  },
  {
   "cell_type": "code",
   "execution_count": 46,
   "metadata": {},
   "outputs": [
    {
     "data": {
      "image/png": "[encoded data removed]",
      "text/plain": [
       "<Figure size 720x360 with 1 Axes>"
      ]
     },
     "metadata": {},
     "output_type": "display_data"
    }
   ],
   "source": [
    "plt.figure(figsize=(10, 5))\n",
    "plt.plot(cumulative_a['date'], cumulative_a['revenue'], label='A')\n",
    "plt.plot(cumulative_b['date'], cumulative_b['revenue'], label='B')\n",
    "plt.xticks(rotation=45)\n",
    "plt.title('Кумулятивная выручка по группам на чистых данных')\n",
    "plt.xlabel('Дата')\n",
    "plt.ylabel('Значение')\n",
    "plt.legend(loc='best')\n",
    "plt.grid(True)\n",
    "\n",
    "plt.show();"
   ]
  },
  {
   "cell_type": "markdown",
   "metadata": {},
   "source": [
    "### Вывод:"
   ]
  },
  {
   "cell_type": "markdown",
   "metadata": {},
   "source": [
    "По результатам проведенного анализа, на чистых данных, была выявлена стат значимость в конверсих двух групп, конверсия в группе В выше. И на графике выше, хоть он и на грязных данных, мы видим что конверсия группы В зафиксировалась примерно на одном уровне.\n",
    "\n",
    "В среднем чеке групп не было найден стат значимых различий. Хоть и у группы В он немного меньше.\n",
    "\n",
    "Учитывая что конверсия группы В больше чем у группы А и больший размер куммулитивной выручки, принимаем решение **остановить тест и зафиксировать победу группы В**."
   ]
  },
  {
   "cell_type": "markdown",
   "metadata": {},
   "source": [
    "<div class=\"alert alert-success\">\n",
    "  \n",
    "  <b>Комментарий ревьюера</b>\n",
    "    \n",
    "  ✔️  Верно! Тут тест окрасился только на половину - по количеству заказов. Но это тоже хорошо, т.к. стат.значимой разницы по среднему чеку нет (чек не увеличился, но и не уменьшился) то при возросшем количестве заказов с сохранившимся средним чеком выручка будет так-же расти! И значит мы заканчиваем анализ A/B-теста - он оказался успешным! \n",
    "\n",
    "</div>"
   ]
  },
  {
   "cell_type": "markdown",
   "metadata": {},
   "source": [
    "<div style=\"border:solid black 2px; padding: 20px\">\n",
    "  \n",
    "    \n",
    "  <b>Чек-лист доработок</b>\n",
    "    \n",
    " \n",
    "  📃 Проверить корректность разбиения пользователей на группы.\n",
    " \n",
    "  📃 Пересмотреть выбросы по количеству и стоимости заказов.\n",
    "    \n",
    "  📃 Корректно формулировать нулевую и альтернативную гипотезы.\n",
    "    \n",
    "Жду твой проект на повторное ревью. Не стесняйся оставлять комментарии и задавать вопросы. Удачи! Все получится.\n",
    "</div>"
   ]
  },
  {
   "cell_type": "markdown",
   "metadata": {},
   "source": [
    "<div class=\"alert alert-block alert-info\">\n",
    "\n",
    "  <b>Комментарий cтудента</b>\n",
    "\n",
    "  1. Пользователи, попавшие в обе группы, были исключены. \n",
    "  2. После исключения повторяющихся пользователей и пересмотра выбросов, код и выводы остались практически без изменений.\n",
    "  3. Переформулировал гипотезу, в каждом тесте рассчитал разницу между группами в процентном соотношении.\n",
    "    \n",
    "    Вывод в целом не изменился. \n",
    "    \n",
    "    Спасибо за проверку и оценку проекта. Твои советы и коментарии помогли улучшить понимание некоторых моментов.\n",
    "</div>\n",
    "<div class=\"alert alert-success\">\n",
    "  \n",
    "  <b>Комментарий ревьюера v.2</b>\n",
    "    \n",
    "  ✔️ Пожалуйста. 🙂 \n",
    "</div>"
   ]
  }
 ],
 "metadata": {
  "ExecuteTimeLog": [
   {
    "duration": 3,
    "start_time": "2023-09-04T11:05:54.785Z"
   },
   {
    "duration": 797,
    "start_time": "2023-09-08T09:59:30.868Z"
   },
   {
    "duration": 186,
    "start_time": "2023-09-08T09:59:33.707Z"
   },
   {
    "duration": 4,
    "start_time": "2023-09-08T09:59:49.816Z"
   },
   {
    "duration": 51,
    "start_time": "2023-09-08T10:00:51.404Z"
   },
   {
    "duration": 46,
    "start_time": "2023-09-08T10:01:31.331Z"
   },
   {
    "duration": 36,
    "start_time": "2023-09-08T10:01:59.633Z"
   },
   {
    "duration": 75,
    "start_time": "2023-09-08T10:03:47.445Z"
   },
   {
    "duration": 51,
    "start_time": "2023-09-08T10:03:58.036Z"
   },
   {
    "duration": 36,
    "start_time": "2023-09-08T10:04:13.306Z"
   },
   {
    "duration": 7,
    "start_time": "2023-09-08T10:07:36.181Z"
   },
   {
    "duration": 1835,
    "start_time": "2023-09-08T10:08:05.147Z"
   },
   {
    "duration": 9,
    "start_time": "2023-09-08T10:08:31.164Z"
   },
   {
    "duration": 11,
    "start_time": "2023-09-08T10:08:44.562Z"
   },
   {
    "duration": 9,
    "start_time": "2023-09-08T10:10:05.546Z"
   },
   {
    "duration": 7,
    "start_time": "2023-09-08T10:12:55.081Z"
   },
   {
    "duration": 825,
    "start_time": "2023-09-08T10:49:42.543Z"
   },
   {
    "duration": 75,
    "start_time": "2023-09-08T10:49:43.369Z"
   },
   {
    "duration": 4,
    "start_time": "2023-09-08T10:49:43.446Z"
   },
   {
    "duration": 61,
    "start_time": "2023-09-08T10:49:43.452Z"
   },
   {
    "duration": 54,
    "start_time": "2023-09-08T10:49:43.515Z"
   },
   {
    "duration": 66,
    "start_time": "2023-09-08T10:49:43.570Z"
   },
   {
    "duration": 7,
    "start_time": "2023-09-08T10:49:43.637Z"
   },
   {
    "duration": 26,
    "start_time": "2023-09-08T10:49:43.646Z"
   },
   {
    "duration": 14,
    "start_time": "2023-09-08T10:49:43.673Z"
   },
   {
    "duration": 3,
    "start_time": "2023-09-08T10:52:00.780Z"
   },
   {
    "duration": 4,
    "start_time": "2023-09-08T10:54:07.174Z"
   },
   {
    "duration": 782,
    "start_time": "2023-09-08T10:54:07.180Z"
   },
   {
    "duration": 81,
    "start_time": "2023-09-08T10:54:07.963Z"
   },
   {
    "duration": 5,
    "start_time": "2023-09-08T10:54:08.046Z"
   },
   {
    "duration": 75,
    "start_time": "2023-09-08T10:54:08.053Z"
   },
   {
    "duration": 44,
    "start_time": "2023-09-08T10:54:08.134Z"
   },
   {
    "duration": 74,
    "start_time": "2023-09-08T10:54:08.179Z"
   },
   {
    "duration": 8,
    "start_time": "2023-09-08T10:54:08.254Z"
   },
   {
    "duration": 37,
    "start_time": "2023-09-08T10:54:08.263Z"
   },
   {
    "duration": 43,
    "start_time": "2023-09-08T10:54:08.301Z"
   },
   {
    "duration": 10,
    "start_time": "2023-09-08T10:54:33.765Z"
   },
   {
    "duration": 13,
    "start_time": "2023-09-08T10:55:02.419Z"
   },
   {
    "duration": 10,
    "start_time": "2023-09-08T10:55:17.224Z"
   },
   {
    "duration": 17,
    "start_time": "2023-09-08T10:55:54.255Z"
   },
   {
    "duration": 10,
    "start_time": "2023-09-08T10:56:43.976Z"
   },
   {
    "duration": 10,
    "start_time": "2023-09-08T10:56:46.145Z"
   },
   {
    "duration": 4,
    "start_time": "2023-09-08T10:56:51.123Z"
   },
   {
    "duration": 832,
    "start_time": "2023-09-08T10:56:51.129Z"
   },
   {
    "duration": 79,
    "start_time": "2023-09-08T10:56:51.963Z"
   },
   {
    "duration": 5,
    "start_time": "2023-09-08T10:56:52.044Z"
   },
   {
    "duration": 93,
    "start_time": "2023-09-08T10:56:52.051Z"
   },
   {
    "duration": 48,
    "start_time": "2023-09-08T10:56:52.145Z"
   },
   {
    "duration": 46,
    "start_time": "2023-09-08T10:56:52.234Z"
   },
   {
    "duration": 7,
    "start_time": "2023-09-08T10:56:52.281Z"
   },
   {
    "duration": 32,
    "start_time": "2023-09-08T10:56:52.289Z"
   },
   {
    "duration": 14,
    "start_time": "2023-09-08T10:56:52.334Z"
   },
   {
    "duration": 3,
    "start_time": "2023-09-08T11:11:43.879Z"
   },
   {
    "duration": 82,
    "start_time": "2023-09-08T11:22:44.250Z"
   },
   {
    "duration": 9,
    "start_time": "2023-09-08T11:22:48.262Z"
   },
   {
    "duration": 10,
    "start_time": "2023-09-08T11:23:50.339Z"
   },
   {
    "duration": 4,
    "start_time": "2023-09-08T11:24:44.826Z"
   },
   {
    "duration": 941,
    "start_time": "2023-09-08T11:24:44.832Z"
   },
   {
    "duration": 78,
    "start_time": "2023-09-08T11:24:45.774Z"
   },
   {
    "duration": 5,
    "start_time": "2023-09-08T11:24:45.853Z"
   },
   {
    "duration": 79,
    "start_time": "2023-09-08T11:24:45.860Z"
   },
   {
    "duration": 45,
    "start_time": "2023-09-08T11:24:45.941Z"
   },
   {
    "duration": 80,
    "start_time": "2023-09-08T11:24:45.987Z"
   },
   {
    "duration": 12,
    "start_time": "2023-09-08T11:24:46.069Z"
   },
   {
    "duration": 26,
    "start_time": "2023-09-08T11:24:46.083Z"
   },
   {
    "duration": 5,
    "start_time": "2023-09-08T11:47:15.324Z"
   },
   {
    "duration": 10,
    "start_time": "2023-09-08T11:48:01.220Z"
   },
   {
    "duration": 10,
    "start_time": "2023-09-08T11:48:39.104Z"
   },
   {
    "duration": 14,
    "start_time": "2023-09-08T11:52:26.947Z"
   },
   {
    "duration": 8,
    "start_time": "2023-09-08T11:52:32.965Z"
   },
   {
    "duration": 9,
    "start_time": "2023-09-08T11:52:35.072Z"
   },
   {
    "duration": 14,
    "start_time": "2023-09-08T11:52:35.962Z"
   },
   {
    "duration": 12,
    "start_time": "2023-09-08T11:52:36.786Z"
   },
   {
    "duration": 13,
    "start_time": "2023-09-08T11:52:37.644Z"
   },
   {
    "duration": 8,
    "start_time": "2023-09-08T11:52:44.344Z"
   },
   {
    "duration": 9,
    "start_time": "2023-09-08T11:52:54.800Z"
   },
   {
    "duration": 3,
    "start_time": "2023-09-08T12:04:06.085Z"
   },
   {
    "duration": 2,
    "start_time": "2023-09-08T12:05:18.168Z"
   },
   {
    "duration": 3,
    "start_time": "2023-09-08T12:05:35.491Z"
   },
   {
    "duration": 1273,
    "start_time": "2023-09-08T13:58:49.189Z"
   },
   {
    "duration": 193,
    "start_time": "2023-09-08T13:58:50.464Z"
   },
   {
    "duration": 4,
    "start_time": "2023-09-08T13:58:50.659Z"
   },
   {
    "duration": 57,
    "start_time": "2023-09-08T13:58:50.665Z"
   },
   {
    "duration": 18,
    "start_time": "2023-09-08T13:58:50.723Z"
   },
   {
    "duration": 63,
    "start_time": "2023-09-08T13:58:50.743Z"
   },
   {
    "duration": 32,
    "start_time": "2023-09-08T13:58:50.808Z"
   },
   {
    "duration": 38,
    "start_time": "2023-09-08T13:58:50.841Z"
   },
   {
    "duration": 1374,
    "start_time": "2023-09-08T13:58:50.881Z"
   },
   {
    "duration": 0,
    "start_time": "2023-09-08T13:58:52.257Z"
   },
   {
    "duration": 0,
    "start_time": "2023-09-08T13:58:52.258Z"
   },
   {
    "duration": 0,
    "start_time": "2023-09-08T13:58:52.259Z"
   },
   {
    "duration": 1215,
    "start_time": "2023-09-08T13:59:24.503Z"
   },
   {
    "duration": 79,
    "start_time": "2023-09-08T13:59:25.721Z"
   },
   {
    "duration": 7,
    "start_time": "2023-09-08T13:59:25.802Z"
   },
   {
    "duration": 49,
    "start_time": "2023-09-08T13:59:25.811Z"
   },
   {
    "duration": 7,
    "start_time": "2023-09-08T13:59:25.863Z"
   },
   {
    "duration": 81,
    "start_time": "2023-09-08T13:59:25.871Z"
   },
   {
    "duration": 9,
    "start_time": "2023-09-08T13:59:25.953Z"
   },
   {
    "duration": 78,
    "start_time": "2023-09-08T13:59:25.964Z"
   },
   {
    "duration": 15,
    "start_time": "2023-09-08T13:59:26.044Z"
   },
   {
    "duration": 17,
    "start_time": "2023-09-08T13:59:26.060Z"
   },
   {
    "duration": 117,
    "start_time": "2023-09-08T13:59:26.079Z"
   },
   {
    "duration": 0,
    "start_time": "2023-09-08T13:59:26.197Z"
   },
   {
    "duration": 1066,
    "start_time": "2023-09-08T14:24:41.171Z"
   },
   {
    "duration": 77,
    "start_time": "2023-09-08T14:24:42.239Z"
   },
   {
    "duration": 4,
    "start_time": "2023-09-08T14:24:42.318Z"
   },
   {
    "duration": 50,
    "start_time": "2023-09-08T14:24:42.324Z"
   },
   {
    "duration": 7,
    "start_time": "2023-09-08T14:24:42.376Z"
   },
   {
    "duration": 76,
    "start_time": "2023-09-08T14:24:42.384Z"
   },
   {
    "duration": 8,
    "start_time": "2023-09-08T14:24:42.461Z"
   },
   {
    "duration": 73,
    "start_time": "2023-09-08T14:24:42.470Z"
   },
   {
    "duration": 10,
    "start_time": "2023-09-08T14:24:42.544Z"
   },
   {
    "duration": 11,
    "start_time": "2023-09-08T14:24:42.556Z"
   },
   {
    "duration": 15,
    "start_time": "2023-09-08T14:24:42.568Z"
   },
   {
    "duration": 126,
    "start_time": "2023-09-08T14:24:42.585Z"
   },
   {
    "duration": 0,
    "start_time": "2023-09-08T14:24:42.713Z"
   },
   {
    "duration": 0,
    "start_time": "2023-09-08T14:24:42.714Z"
   },
   {
    "duration": 0,
    "start_time": "2023-09-08T14:24:42.715Z"
   },
   {
    "duration": 0,
    "start_time": "2023-09-08T14:24:42.716Z"
   },
   {
    "duration": 0,
    "start_time": "2023-09-08T14:24:42.718Z"
   },
   {
    "duration": 9,
    "start_time": "2023-09-08T14:25:23.154Z"
   },
   {
    "duration": 9,
    "start_time": "2023-09-08T14:25:28.576Z"
   },
   {
    "duration": 8,
    "start_time": "2023-09-08T14:25:31.651Z"
   },
   {
    "duration": 9,
    "start_time": "2023-09-08T14:25:41.831Z"
   },
   {
    "duration": 8,
    "start_time": "2023-09-08T14:25:54.340Z"
   },
   {
    "duration": 6,
    "start_time": "2023-09-08T14:27:47.772Z"
   },
   {
    "duration": 7,
    "start_time": "2023-09-08T14:29:38.690Z"
   },
   {
    "duration": 1344,
    "start_time": "2023-09-08T14:29:49.157Z"
   },
   {
    "duration": 10,
    "start_time": "2023-09-08T14:30:37.535Z"
   },
   {
    "duration": 12,
    "start_time": "2023-09-08T14:31:17.299Z"
   },
   {
    "duration": 11,
    "start_time": "2023-09-08T14:31:52.456Z"
   },
   {
    "duration": 12,
    "start_time": "2023-09-08T14:31:56.862Z"
   },
   {
    "duration": 13,
    "start_time": "2023-09-08T14:32:03.845Z"
   },
   {
    "duration": 12,
    "start_time": "2023-09-08T14:32:07.532Z"
   },
   {
    "duration": 14,
    "start_time": "2023-09-08T14:32:12.917Z"
   },
   {
    "duration": 14,
    "start_time": "2023-09-08T14:32:17.342Z"
   },
   {
    "duration": 12,
    "start_time": "2023-09-08T14:32:20.691Z"
   },
   {
    "duration": 12,
    "start_time": "2023-09-08T14:32:29.493Z"
   },
   {
    "duration": 1358,
    "start_time": "2023-09-13T05:20:25.423Z"
   },
   {
    "duration": 192,
    "start_time": "2023-09-13T05:20:26.783Z"
   },
   {
    "duration": 5,
    "start_time": "2023-09-13T05:20:26.976Z"
   },
   {
    "duration": 92,
    "start_time": "2023-09-13T05:20:26.983Z"
   },
   {
    "duration": 8,
    "start_time": "2023-09-13T05:20:27.077Z"
   },
   {
    "duration": 75,
    "start_time": "2023-09-13T05:20:27.086Z"
   },
   {
    "duration": 8,
    "start_time": "2023-09-13T05:20:27.163Z"
   },
   {
    "duration": 69,
    "start_time": "2023-09-13T05:20:27.172Z"
   },
   {
    "duration": 10,
    "start_time": "2023-09-13T05:20:27.243Z"
   },
   {
    "duration": 25,
    "start_time": "2023-09-13T05:20:27.256Z"
   },
   {
    "duration": 15,
    "start_time": "2023-09-13T05:20:27.283Z"
   },
   {
    "duration": 31,
    "start_time": "2023-09-13T05:20:27.300Z"
   },
   {
    "duration": 5,
    "start_time": "2023-09-13T05:20:27.333Z"
   },
   {
    "duration": 12,
    "start_time": "2023-09-13T05:20:27.340Z"
   },
   {
    "duration": 13,
    "start_time": "2023-09-13T05:20:27.354Z"
   },
   {
    "duration": 7,
    "start_time": "2023-09-13T05:20:27.369Z"
   },
   {
    "duration": 7,
    "start_time": "2023-09-13T05:20:27.377Z"
   },
   {
    "duration": 119,
    "start_time": "2023-09-13T05:20:27.386Z"
   },
   {
    "duration": 0,
    "start_time": "2023-09-13T05:20:27.507Z"
   },
   {
    "duration": 9,
    "start_time": "2023-09-13T05:41:19.469Z"
   },
   {
    "duration": 6,
    "start_time": "2023-09-13T05:41:29.554Z"
   },
   {
    "duration": 22,
    "start_time": "2023-09-13T05:41:54.550Z"
   },
   {
    "duration": 21,
    "start_time": "2023-09-13T05:42:42.751Z"
   },
   {
    "duration": 28,
    "start_time": "2023-09-13T05:43:02.397Z"
   },
   {
    "duration": 25,
    "start_time": "2023-09-13T05:45:15.229Z"
   },
   {
    "duration": 286,
    "start_time": "2023-09-13T05:46:08.312Z"
   },
   {
    "duration": 123,
    "start_time": "2023-09-13T05:46:18.677Z"
   },
   {
    "duration": 10,
    "start_time": "2023-09-13T05:47:16.733Z"
   },
   {
    "duration": 10,
    "start_time": "2023-09-13T05:48:57.003Z"
   },
   {
    "duration": 274,
    "start_time": "2023-09-13T05:49:12.689Z"
   },
   {
    "duration": 172,
    "start_time": "2023-09-13T05:49:19.626Z"
   },
   {
    "duration": 172,
    "start_time": "2023-09-13T05:59:36.905Z"
   },
   {
    "duration": 1227,
    "start_time": "2023-09-13T06:00:28.810Z"
   },
   {
    "duration": 79,
    "start_time": "2023-09-13T06:00:30.039Z"
   },
   {
    "duration": 114,
    "start_time": "2023-09-13T06:00:30.119Z"
   },
   {
    "duration": 491,
    "start_time": "2023-09-13T06:00:30.234Z"
   },
   {
    "duration": 376,
    "start_time": "2023-09-13T06:00:30.727Z"
   },
   {
    "duration": 500,
    "start_time": "2023-09-13T06:00:31.124Z"
   },
   {
    "duration": 47,
    "start_time": "2023-09-13T06:00:31.625Z"
   },
   {
    "duration": 222,
    "start_time": "2023-09-13T06:00:31.673Z"
   },
   {
    "duration": 179,
    "start_time": "2023-09-13T06:00:31.897Z"
   },
   {
    "duration": 363,
    "start_time": "2023-09-13T06:00:32.077Z"
   },
   {
    "duration": 110,
    "start_time": "2023-09-13T06:00:32.442Z"
   },
   {
    "duration": 119,
    "start_time": "2023-09-13T06:00:32.553Z"
   },
   {
    "duration": 18,
    "start_time": "2023-09-13T06:00:32.673Z"
   },
   {
    "duration": 16,
    "start_time": "2023-09-13T06:00:32.694Z"
   },
   {
    "duration": 32,
    "start_time": "2023-09-13T06:00:32.712Z"
   },
   {
    "duration": 24,
    "start_time": "2023-09-13T06:00:32.746Z"
   },
   {
    "duration": 32,
    "start_time": "2023-09-13T06:00:32.772Z"
   },
   {
    "duration": 47,
    "start_time": "2023-09-13T06:00:32.806Z"
   },
   {
    "duration": 359,
    "start_time": "2023-09-13T06:00:32.856Z"
   },
   {
    "duration": 268,
    "start_time": "2023-09-13T06:00:33.216Z"
   },
   {
    "duration": 112,
    "start_time": "2023-09-13T06:00:33.486Z"
   },
   {
    "duration": 1620,
    "start_time": "2023-09-13T06:01:05.845Z"
   },
   {
    "duration": 108,
    "start_time": "2023-09-13T06:01:07.467Z"
   },
   {
    "duration": 4,
    "start_time": "2023-09-13T06:01:07.577Z"
   },
   {
    "duration": 82,
    "start_time": "2023-09-13T06:01:07.583Z"
   },
   {
    "duration": 8,
    "start_time": "2023-09-13T06:01:07.725Z"
   },
   {
    "duration": 190,
    "start_time": "2023-09-13T06:01:07.734Z"
   },
   {
    "duration": 50,
    "start_time": "2023-09-13T06:01:07.926Z"
   },
   {
    "duration": 154,
    "start_time": "2023-09-13T06:01:07.977Z"
   },
   {
    "duration": 92,
    "start_time": "2023-09-13T06:01:08.133Z"
   },
   {
    "duration": 22,
    "start_time": "2023-09-13T06:01:08.227Z"
   },
   {
    "duration": 33,
    "start_time": "2023-09-13T06:01:08.250Z"
   },
   {
    "duration": 64,
    "start_time": "2023-09-13T06:01:08.284Z"
   },
   {
    "duration": 16,
    "start_time": "2023-09-13T06:01:08.349Z"
   },
   {
    "duration": 63,
    "start_time": "2023-09-13T06:01:08.367Z"
   },
   {
    "duration": 32,
    "start_time": "2023-09-13T06:01:08.432Z"
   },
   {
    "duration": 17,
    "start_time": "2023-09-13T06:01:08.466Z"
   },
   {
    "duration": 29,
    "start_time": "2023-09-13T06:01:08.484Z"
   },
   {
    "duration": 9,
    "start_time": "2023-09-13T06:01:08.515Z"
   },
   {
    "duration": 301,
    "start_time": "2023-09-13T06:01:08.525Z"
   },
   {
    "duration": 265,
    "start_time": "2023-09-13T06:01:08.827Z"
   },
   {
    "duration": 105,
    "start_time": "2023-09-13T06:01:09.094Z"
   },
   {
    "duration": 299,
    "start_time": "2023-09-13T06:01:31.576Z"
   },
   {
    "duration": 311,
    "start_time": "2023-09-13T06:01:45.603Z"
   },
   {
    "duration": 181,
    "start_time": "2023-09-13T06:01:51.408Z"
   },
   {
    "duration": 17,
    "start_time": "2023-09-13T06:02:28.905Z"
   },
   {
    "duration": 18,
    "start_time": "2023-09-13T06:02:30.988Z"
   },
   {
    "duration": 17,
    "start_time": "2023-09-13T06:02:50.015Z"
   },
   {
    "duration": 222,
    "start_time": "2023-09-13T06:03:29.960Z"
   },
   {
    "duration": 12,
    "start_time": "2023-09-13T06:23:30.616Z"
   },
   {
    "duration": 13,
    "start_time": "2023-09-13T06:23:39.515Z"
   },
   {
    "duration": 272,
    "start_time": "2023-09-13T06:23:49.494Z"
   },
   {
    "duration": 11,
    "start_time": "2023-09-13T06:26:32.961Z"
   },
   {
    "duration": 10,
    "start_time": "2023-09-13T06:26:55.187Z"
   },
   {
    "duration": 318,
    "start_time": "2023-09-13T06:27:17.614Z"
   },
   {
    "duration": 293,
    "start_time": "2023-09-13T06:27:24.131Z"
   },
   {
    "duration": 292,
    "start_time": "2023-09-13T06:28:50.983Z"
   },
   {
    "duration": 13,
    "start_time": "2023-09-13T06:29:00.565Z"
   },
   {
    "duration": 285,
    "start_time": "2023-09-13T06:29:04.314Z"
   },
   {
    "duration": 8,
    "start_time": "2023-09-13T06:29:12.479Z"
   },
   {
    "duration": 1246,
    "start_time": "2023-09-13T06:38:49.496Z"
   },
   {
    "duration": 76,
    "start_time": "2023-09-13T06:38:50.745Z"
   },
   {
    "duration": 4,
    "start_time": "2023-09-13T06:38:50.823Z"
   },
   {
    "duration": 108,
    "start_time": "2023-09-13T06:38:50.830Z"
   },
   {
    "duration": 8,
    "start_time": "2023-09-13T06:38:50.940Z"
   },
   {
    "duration": 82,
    "start_time": "2023-09-13T06:38:50.950Z"
   },
   {
    "duration": 9,
    "start_time": "2023-09-13T06:38:51.034Z"
   },
   {
    "duration": 56,
    "start_time": "2023-09-13T06:38:51.044Z"
   },
   {
    "duration": 13,
    "start_time": "2023-09-13T06:38:51.125Z"
   },
   {
    "duration": 16,
    "start_time": "2023-09-13T06:38:51.142Z"
   },
   {
    "duration": 24,
    "start_time": "2023-09-13T06:38:51.161Z"
   },
   {
    "duration": 36,
    "start_time": "2023-09-13T06:38:51.188Z"
   },
   {
    "duration": 5,
    "start_time": "2023-09-13T06:38:51.226Z"
   },
   {
    "duration": 8,
    "start_time": "2023-09-13T06:38:51.233Z"
   },
   {
    "duration": 9,
    "start_time": "2023-09-13T06:38:51.243Z"
   },
   {
    "duration": 15,
    "start_time": "2023-09-13T06:38:51.253Z"
   },
   {
    "duration": 38,
    "start_time": "2023-09-13T06:38:51.269Z"
   },
   {
    "duration": 7,
    "start_time": "2023-09-13T06:38:51.309Z"
   },
   {
    "duration": 191,
    "start_time": "2023-09-13T06:38:51.318Z"
   },
   {
    "duration": 236,
    "start_time": "2023-09-13T06:38:51.511Z"
   },
   {
    "duration": 7,
    "start_time": "2023-09-13T06:38:51.748Z"
   },
   {
    "duration": 611,
    "start_time": "2023-09-13T06:38:51.756Z"
   },
   {
    "duration": 410,
    "start_time": "2023-09-13T06:38:52.423Z"
   },
   {
    "duration": 6,
    "start_time": "2023-09-13T06:38:52.835Z"
   },
   {
    "duration": 481,
    "start_time": "2023-09-13T06:38:52.843Z"
   },
   {
    "duration": 142,
    "start_time": "2023-09-13T06:38:53.326Z"
   },
   {
    "duration": 0,
    "start_time": "2023-09-13T06:38:53.469Z"
   },
   {
    "duration": 197,
    "start_time": "2023-09-13T06:41:45.191Z"
   },
   {
    "duration": 204,
    "start_time": "2023-09-13T06:43:01.731Z"
   },
   {
    "duration": 309,
    "start_time": "2023-09-13T06:46:09.591Z"
   },
   {
    "duration": 309,
    "start_time": "2023-09-13T06:50:21.796Z"
   },
   {
    "duration": 12,
    "start_time": "2023-09-13T06:51:33.672Z"
   },
   {
    "duration": 19,
    "start_time": "2023-09-13T06:53:31.675Z"
   },
   {
    "duration": 19,
    "start_time": "2023-09-13T06:54:11.183Z"
   },
   {
    "duration": 21,
    "start_time": "2023-09-13T06:57:33.953Z"
   },
   {
    "duration": 33,
    "start_time": "2023-09-13T06:59:50.707Z"
   },
   {
    "duration": 372,
    "start_time": "2023-09-13T07:02:53.635Z"
   },
   {
    "duration": 107,
    "start_time": "2023-09-13T07:04:10.453Z"
   },
   {
    "duration": 1615,
    "start_time": "2023-09-13T07:09:28.516Z"
   },
   {
    "duration": 118,
    "start_time": "2023-09-13T07:09:30.134Z"
   },
   {
    "duration": 5,
    "start_time": "2023-09-13T07:09:30.254Z"
   },
   {
    "duration": 183,
    "start_time": "2023-09-13T07:09:30.261Z"
   },
   {
    "duration": 10,
    "start_time": "2023-09-13T07:09:30.446Z"
   },
   {
    "duration": 169,
    "start_time": "2023-09-13T07:09:30.457Z"
   },
   {
    "duration": 14,
    "start_time": "2023-09-13T07:09:30.628Z"
   },
   {
    "duration": 122,
    "start_time": "2023-09-13T07:09:30.644Z"
   },
   {
    "duration": 16,
    "start_time": "2023-09-13T07:09:30.824Z"
   },
   {
    "duration": 80,
    "start_time": "2023-09-13T07:09:30.844Z"
   },
   {
    "duration": 42,
    "start_time": "2023-09-13T07:09:30.931Z"
   },
   {
    "duration": 84,
    "start_time": "2023-09-13T07:09:30.974Z"
   },
   {
    "duration": 66,
    "start_time": "2023-09-13T07:09:31.060Z"
   },
   {
    "duration": 71,
    "start_time": "2023-09-13T07:09:31.128Z"
   },
   {
    "duration": 54,
    "start_time": "2023-09-13T07:09:31.201Z"
   },
   {
    "duration": 25,
    "start_time": "2023-09-13T07:09:31.257Z"
   },
   {
    "duration": 49,
    "start_time": "2023-09-13T07:09:31.284Z"
   },
   {
    "duration": 50,
    "start_time": "2023-09-13T07:09:31.335Z"
   },
   {
    "duration": 201,
    "start_time": "2023-09-13T07:09:31.387Z"
   },
   {
    "duration": 145,
    "start_time": "2023-09-13T07:09:31.591Z"
   },
   {
    "duration": 6,
    "start_time": "2023-09-13T07:09:31.738Z"
   },
   {
    "duration": 328,
    "start_time": "2023-09-13T07:09:31.746Z"
   },
   {
    "duration": 225,
    "start_time": "2023-09-13T07:09:32.076Z"
   },
   {
    "duration": 7,
    "start_time": "2023-09-13T07:09:32.303Z"
   },
   {
    "duration": 303,
    "start_time": "2023-09-13T07:09:32.323Z"
   },
   {
    "duration": 224,
    "start_time": "2023-09-13T07:09:32.627Z"
   },
   {
    "duration": 273,
    "start_time": "2023-09-13T07:09:32.853Z"
   },
   {
    "duration": 103,
    "start_time": "2023-09-13T07:10:20.081Z"
   },
   {
    "duration": 125,
    "start_time": "2023-09-13T07:10:27.773Z"
   },
   {
    "duration": 6,
    "start_time": "2023-09-13T07:11:24.350Z"
   },
   {
    "duration": 5,
    "start_time": "2023-09-13T07:16:34.008Z"
   },
   {
    "duration": 9,
    "start_time": "2023-09-13T07:16:42.773Z"
   },
   {
    "duration": 141,
    "start_time": "2023-09-13T07:17:08.687Z"
   },
   {
    "duration": 313,
    "start_time": "2023-09-13T07:17:15.189Z"
   },
   {
    "duration": 143,
    "start_time": "2023-09-13T07:17:54.511Z"
   },
   {
    "duration": 130,
    "start_time": "2023-09-13T07:19:00.549Z"
   },
   {
    "duration": 124,
    "start_time": "2023-09-13T07:19:07.934Z"
   },
   {
    "duration": 132,
    "start_time": "2023-09-13T07:19:11.627Z"
   },
   {
    "duration": 141,
    "start_time": "2023-09-13T07:19:27.531Z"
   },
   {
    "duration": 137,
    "start_time": "2023-09-13T07:22:30.600Z"
   },
   {
    "duration": 14,
    "start_time": "2023-09-13T07:24:02.285Z"
   },
   {
    "duration": 132,
    "start_time": "2023-09-13T07:24:38.367Z"
   },
   {
    "duration": 10,
    "start_time": "2023-09-13T07:25:43.382Z"
   },
   {
    "duration": 12,
    "start_time": "2023-09-13T07:27:54.078Z"
   },
   {
    "duration": 5,
    "start_time": "2023-09-13T07:28:23.407Z"
   },
   {
    "duration": 10,
    "start_time": "2023-09-13T07:28:29.558Z"
   },
   {
    "duration": 11,
    "start_time": "2023-09-13T07:28:43.491Z"
   },
   {
    "duration": 10,
    "start_time": "2023-09-13T07:29:17.019Z"
   },
   {
    "duration": 118,
    "start_time": "2023-09-13T07:30:13.861Z"
   },
   {
    "duration": 142,
    "start_time": "2023-09-13T07:33:49.990Z"
   },
   {
    "duration": 223,
    "start_time": "2023-09-13T07:33:53.305Z"
   },
   {
    "duration": 1175,
    "start_time": "2023-09-13T07:35:25.363Z"
   },
   {
    "duration": 76,
    "start_time": "2023-09-13T07:35:26.541Z"
   },
   {
    "duration": 5,
    "start_time": "2023-09-13T07:35:26.619Z"
   },
   {
    "duration": 145,
    "start_time": "2023-09-13T07:35:26.625Z"
   },
   {
    "duration": 9,
    "start_time": "2023-09-13T07:35:26.772Z"
   },
   {
    "duration": 75,
    "start_time": "2023-09-13T07:35:26.783Z"
   },
   {
    "duration": 9,
    "start_time": "2023-09-13T07:35:26.859Z"
   },
   {
    "duration": 89,
    "start_time": "2023-09-13T07:35:26.870Z"
   },
   {
    "duration": 11,
    "start_time": "2023-09-13T07:35:26.960Z"
   },
   {
    "duration": 95,
    "start_time": "2023-09-13T07:35:26.973Z"
   },
   {
    "duration": 50,
    "start_time": "2023-09-13T07:35:27.069Z"
   },
   {
    "duration": 22,
    "start_time": "2023-09-13T07:35:27.121Z"
   },
   {
    "duration": 4,
    "start_time": "2023-09-13T07:35:27.145Z"
   },
   {
    "duration": 10,
    "start_time": "2023-09-13T07:35:27.152Z"
   },
   {
    "duration": 11,
    "start_time": "2023-09-13T07:35:27.163Z"
   },
   {
    "duration": 28,
    "start_time": "2023-09-13T07:35:27.175Z"
   },
   {
    "duration": 22,
    "start_time": "2023-09-13T07:35:27.205Z"
   },
   {
    "duration": 53,
    "start_time": "2023-09-13T07:35:27.229Z"
   },
   {
    "duration": 205,
    "start_time": "2023-09-13T07:35:27.284Z"
   },
   {
    "duration": 137,
    "start_time": "2023-09-13T07:35:27.491Z"
   },
   {
    "duration": 26,
    "start_time": "2023-09-13T07:35:27.629Z"
   },
   {
    "duration": 302,
    "start_time": "2023-09-13T07:35:27.656Z"
   },
   {
    "duration": 213,
    "start_time": "2023-09-13T07:35:27.960Z"
   },
   {
    "duration": 6,
    "start_time": "2023-09-13T07:35:28.174Z"
   },
   {
    "duration": 326,
    "start_time": "2023-09-13T07:35:28.182Z"
   },
   {
    "duration": 213,
    "start_time": "2023-09-13T07:35:28.510Z"
   },
   {
    "duration": 285,
    "start_time": "2023-09-13T07:35:28.725Z"
   },
   {
    "duration": 17,
    "start_time": "2023-09-13T07:35:29.012Z"
   },
   {
    "duration": 163,
    "start_time": "2023-09-13T07:35:29.031Z"
   },
   {
    "duration": 164,
    "start_time": "2023-09-13T07:35:29.196Z"
   },
   {
    "duration": 196,
    "start_time": "2023-09-13T07:35:49.943Z"
   },
   {
    "duration": 1473,
    "start_time": "2023-09-13T07:35:56.463Z"
   },
   {
    "duration": 99,
    "start_time": "2023-09-13T07:35:57.938Z"
   },
   {
    "duration": 293,
    "start_time": "2023-09-13T07:35:58.039Z"
   },
   {
    "duration": 4,
    "start_time": "2023-09-13T07:35:58.334Z"
   },
   {
    "duration": 119,
    "start_time": "2023-09-13T07:35:58.340Z"
   },
   {
    "duration": 8,
    "start_time": "2023-09-13T07:35:58.460Z"
   },
   {
    "duration": 110,
    "start_time": "2023-09-13T07:35:58.525Z"
   },
   {
    "duration": 9,
    "start_time": "2023-09-13T07:35:58.637Z"
   },
   {
    "duration": 95,
    "start_time": "2023-09-13T07:35:58.647Z"
   },
   {
    "duration": 10,
    "start_time": "2023-09-13T07:35:58.744Z"
   },
   {
    "duration": 69,
    "start_time": "2023-09-13T07:35:58.756Z"
   },
   {
    "duration": 8,
    "start_time": "2023-09-13T07:35:58.827Z"
   },
   {
    "duration": 13,
    "start_time": "2023-09-13T07:35:58.837Z"
   },
   {
    "duration": 5,
    "start_time": "2023-09-13T07:35:58.851Z"
   },
   {
    "duration": 12,
    "start_time": "2023-09-13T07:35:58.857Z"
   },
   {
    "duration": 55,
    "start_time": "2023-09-13T07:35:58.871Z"
   },
   {
    "duration": 8,
    "start_time": "2023-09-13T07:35:58.927Z"
   },
   {
    "duration": 9,
    "start_time": "2023-09-13T07:35:58.937Z"
   },
   {
    "duration": 7,
    "start_time": "2023-09-13T07:35:58.948Z"
   },
   {
    "duration": 407,
    "start_time": "2023-09-13T07:35:58.956Z"
   },
   {
    "duration": 211,
    "start_time": "2023-09-13T07:35:59.366Z"
   },
   {
    "duration": 7,
    "start_time": "2023-09-13T07:35:59.578Z"
   },
   {
    "duration": 277,
    "start_time": "2023-09-13T07:35:59.587Z"
   },
   {
    "duration": 221,
    "start_time": "2023-09-13T07:35:59.866Z"
   },
   {
    "duration": 6,
    "start_time": "2023-09-13T07:36:00.089Z"
   },
   {
    "duration": 335,
    "start_time": "2023-09-13T07:36:00.097Z"
   },
   {
    "duration": 222,
    "start_time": "2023-09-13T07:36:00.434Z"
   },
   {
    "duration": 301,
    "start_time": "2023-09-13T07:36:00.659Z"
   },
   {
    "duration": 10,
    "start_time": "2023-09-13T07:36:00.962Z"
   },
   {
    "duration": 286,
    "start_time": "2023-09-13T07:36:00.974Z"
   },
   {
    "duration": 165,
    "start_time": "2023-09-13T07:36:01.262Z"
   },
   {
    "duration": 1146,
    "start_time": "2023-09-13T07:37:06.181Z"
   },
   {
    "duration": 76,
    "start_time": "2023-09-13T07:37:07.329Z"
   },
   {
    "duration": 10,
    "start_time": "2023-09-13T07:37:07.406Z"
   },
   {
    "duration": 58,
    "start_time": "2023-09-13T07:37:07.418Z"
   },
   {
    "duration": 8,
    "start_time": "2023-09-13T07:37:07.478Z"
   },
   {
    "duration": 80,
    "start_time": "2023-09-13T07:37:07.488Z"
   },
   {
    "duration": 9,
    "start_time": "2023-09-13T07:37:07.570Z"
   },
   {
    "duration": 96,
    "start_time": "2023-09-13T07:37:07.580Z"
   },
   {
    "duration": 11,
    "start_time": "2023-09-13T07:37:07.677Z"
   },
   {
    "duration": 41,
    "start_time": "2023-09-13T07:37:07.690Z"
   },
   {
    "duration": 12,
    "start_time": "2023-09-13T07:37:07.732Z"
   },
   {
    "duration": 19,
    "start_time": "2023-09-13T07:37:07.746Z"
   },
   {
    "duration": 4,
    "start_time": "2023-09-13T07:37:07.767Z"
   },
   {
    "duration": 6,
    "start_time": "2023-09-13T07:37:07.774Z"
   },
   {
    "duration": 44,
    "start_time": "2023-09-13T07:37:07.781Z"
   },
   {
    "duration": 8,
    "start_time": "2023-09-13T07:37:07.827Z"
   },
   {
    "duration": 9,
    "start_time": "2023-09-13T07:37:07.837Z"
   },
   {
    "duration": 33,
    "start_time": "2023-09-13T07:37:07.848Z"
   },
   {
    "duration": 206,
    "start_time": "2023-09-13T07:37:07.882Z"
   },
   {
    "duration": 134,
    "start_time": "2023-09-13T07:37:08.090Z"
   },
   {
    "duration": 6,
    "start_time": "2023-09-13T07:37:08.226Z"
   },
   {
    "duration": 331,
    "start_time": "2023-09-13T07:37:08.234Z"
   },
   {
    "duration": 207,
    "start_time": "2023-09-13T07:37:08.566Z"
   },
   {
    "duration": 7,
    "start_time": "2023-09-13T07:37:08.775Z"
   },
   {
    "duration": 327,
    "start_time": "2023-09-13T07:37:08.784Z"
   },
   {
    "duration": 216,
    "start_time": "2023-09-13T07:37:09.112Z"
   },
   {
    "duration": 282,
    "start_time": "2023-09-13T07:37:09.330Z"
   },
   {
    "duration": 11,
    "start_time": "2023-09-13T07:37:09.624Z"
   },
   {
    "duration": 140,
    "start_time": "2023-09-13T07:37:09.638Z"
   },
   {
    "duration": 174,
    "start_time": "2023-09-13T07:37:09.779Z"
   },
   {
    "duration": 1372,
    "start_time": "2023-09-13T07:38:30.339Z"
   },
   {
    "duration": 1371,
    "start_time": "2023-09-13T07:38:37.861Z"
   },
   {
    "duration": 336,
    "start_time": "2023-09-13T07:40:38.756Z"
   },
   {
    "duration": 135,
    "start_time": "2023-09-13T07:41:30.371Z"
   },
   {
    "duration": 48,
    "start_time": "2023-09-13T07:44:33.436Z"
   },
   {
    "duration": 7,
    "start_time": "2023-09-13T07:44:44.868Z"
   },
   {
    "duration": 6,
    "start_time": "2023-09-13T07:44:46.552Z"
   },
   {
    "duration": 1290,
    "start_time": "2023-09-13T07:45:29.655Z"
   },
   {
    "duration": 1208,
    "start_time": "2023-09-13T07:45:45.315Z"
   },
   {
    "duration": 77,
    "start_time": "2023-09-13T07:45:46.525Z"
   },
   {
    "duration": 5,
    "start_time": "2023-09-13T07:45:46.603Z"
   },
   {
    "duration": 78,
    "start_time": "2023-09-13T07:45:46.610Z"
   },
   {
    "duration": 8,
    "start_time": "2023-09-13T07:45:46.690Z"
   },
   {
    "duration": 70,
    "start_time": "2023-09-13T07:45:46.700Z"
   },
   {
    "duration": 9,
    "start_time": "2023-09-13T07:45:46.771Z"
   },
   {
    "duration": 154,
    "start_time": "2023-09-13T07:45:46.781Z"
   },
   {
    "duration": 53,
    "start_time": "2023-09-13T07:45:46.937Z"
   },
   {
    "duration": 54,
    "start_time": "2023-09-13T07:45:46.992Z"
   },
   {
    "duration": 18,
    "start_time": "2023-09-13T07:45:47.048Z"
   },
   {
    "duration": 43,
    "start_time": "2023-09-13T07:45:47.067Z"
   },
   {
    "duration": 6,
    "start_time": "2023-09-13T07:45:47.112Z"
   },
   {
    "duration": 59,
    "start_time": "2023-09-13T07:45:47.120Z"
   },
   {
    "duration": 25,
    "start_time": "2023-09-13T07:45:47.182Z"
   },
   {
    "duration": 22,
    "start_time": "2023-09-13T07:45:47.210Z"
   },
   {
    "duration": 45,
    "start_time": "2023-09-13T07:45:47.235Z"
   },
   {
    "duration": 148,
    "start_time": "2023-09-13T07:45:47.282Z"
   },
   {
    "duration": 211,
    "start_time": "2023-09-13T07:45:47.431Z"
   },
   {
    "duration": 127,
    "start_time": "2023-09-13T07:45:47.644Z"
   },
   {
    "duration": 7,
    "start_time": "2023-09-13T07:45:47.772Z"
   },
   {
    "duration": 293,
    "start_time": "2023-09-13T07:45:47.780Z"
   },
   {
    "duration": 208,
    "start_time": "2023-09-13T07:45:48.075Z"
   },
   {
    "duration": 6,
    "start_time": "2023-09-13T07:45:48.284Z"
   },
   {
    "duration": 334,
    "start_time": "2023-09-13T07:45:48.292Z"
   },
   {
    "duration": 228,
    "start_time": "2023-09-13T07:45:48.628Z"
   },
   {
    "duration": 290,
    "start_time": "2023-09-13T07:45:48.858Z"
   },
   {
    "duration": 10,
    "start_time": "2023-09-13T07:45:49.151Z"
   },
   {
    "duration": 142,
    "start_time": "2023-09-13T07:45:49.163Z"
   },
   {
    "duration": 164,
    "start_time": "2023-09-13T07:45:49.307Z"
   },
   {
    "duration": 230,
    "start_time": "2023-09-13T07:45:49.473Z"
   },
   {
    "duration": 130,
    "start_time": "2023-09-13T07:46:05.596Z"
   },
   {
    "duration": 141,
    "start_time": "2023-09-13T07:46:26.363Z"
   },
   {
    "duration": 154,
    "start_time": "2023-09-13T07:46:30.039Z"
   },
   {
    "duration": 1586,
    "start_time": "2023-09-13T07:46:34.380Z"
   },
   {
    "duration": 152,
    "start_time": "2023-09-13T07:46:44.903Z"
   },
   {
    "duration": 155,
    "start_time": "2023-09-13T07:50:21.903Z"
   },
   {
    "duration": 1292,
    "start_time": "2023-09-13T07:50:34.968Z"
   },
   {
    "duration": 51,
    "start_time": "2023-09-13T07:53:01.539Z"
   },
   {
    "duration": 7,
    "start_time": "2023-09-13T07:53:07.645Z"
   },
   {
    "duration": 1173,
    "start_time": "2023-09-13T07:56:28.751Z"
   },
   {
    "duration": 77,
    "start_time": "2023-09-13T07:56:29.926Z"
   },
   {
    "duration": 5,
    "start_time": "2023-09-13T07:56:30.005Z"
   },
   {
    "duration": 121,
    "start_time": "2023-09-13T07:56:30.011Z"
   },
   {
    "duration": 10,
    "start_time": "2023-09-13T07:56:30.134Z"
   },
   {
    "duration": 99,
    "start_time": "2023-09-13T07:56:30.145Z"
   },
   {
    "duration": 26,
    "start_time": "2023-09-13T07:56:30.246Z"
   },
   {
    "duration": 79,
    "start_time": "2023-09-13T07:56:30.274Z"
   },
   {
    "duration": 18,
    "start_time": "2023-09-13T07:56:30.355Z"
   },
   {
    "duration": 52,
    "start_time": "2023-09-13T07:56:30.376Z"
   },
   {
    "duration": 42,
    "start_time": "2023-09-13T07:56:30.430Z"
   },
   {
    "duration": 57,
    "start_time": "2023-09-13T07:56:30.474Z"
   },
   {
    "duration": 38,
    "start_time": "2023-09-13T07:56:30.533Z"
   },
   {
    "duration": 51,
    "start_time": "2023-09-13T07:56:30.573Z"
   },
   {
    "duration": 54,
    "start_time": "2023-09-13T07:56:30.626Z"
   },
   {
    "duration": 45,
    "start_time": "2023-09-13T07:56:30.682Z"
   },
   {
    "duration": 47,
    "start_time": "2023-09-13T07:56:30.729Z"
   },
   {
    "duration": 64,
    "start_time": "2023-09-13T07:56:30.778Z"
   },
   {
    "duration": 258,
    "start_time": "2023-09-13T07:56:30.843Z"
   },
   {
    "duration": 134,
    "start_time": "2023-09-13T07:56:31.103Z"
   },
   {
    "duration": 7,
    "start_time": "2023-09-13T07:56:31.239Z"
   },
   {
    "duration": 311,
    "start_time": "2023-09-13T07:56:31.248Z"
   },
   {
    "duration": 217,
    "start_time": "2023-09-13T07:56:31.561Z"
   },
   {
    "duration": 7,
    "start_time": "2023-09-13T07:56:31.780Z"
   },
   {
    "duration": 314,
    "start_time": "2023-09-13T07:56:31.788Z"
   },
   {
    "duration": 229,
    "start_time": "2023-09-13T07:56:32.104Z"
   },
   {
    "duration": 315,
    "start_time": "2023-09-13T07:56:32.335Z"
   },
   {
    "duration": 11,
    "start_time": "2023-09-13T07:56:32.653Z"
   },
   {
    "duration": 173,
    "start_time": "2023-09-13T07:56:32.665Z"
   },
   {
    "duration": 170,
    "start_time": "2023-09-13T07:56:32.840Z"
   },
   {
    "duration": 244,
    "start_time": "2023-09-13T07:56:33.012Z"
   },
   {
    "duration": 1158,
    "start_time": "2023-09-13T07:57:27.786Z"
   },
   {
    "duration": 77,
    "start_time": "2023-09-13T07:57:28.945Z"
   },
   {
    "duration": 6,
    "start_time": "2023-09-13T07:57:29.027Z"
   },
   {
    "duration": 93,
    "start_time": "2023-09-13T07:57:29.035Z"
   },
   {
    "duration": 21,
    "start_time": "2023-09-13T07:57:29.130Z"
   },
   {
    "duration": 90,
    "start_time": "2023-09-13T07:57:29.154Z"
   },
   {
    "duration": 9,
    "start_time": "2023-09-13T07:57:29.245Z"
   },
   {
    "duration": 131,
    "start_time": "2023-09-13T07:57:29.256Z"
   },
   {
    "duration": 28,
    "start_time": "2023-09-13T07:57:29.390Z"
   },
   {
    "duration": 48,
    "start_time": "2023-09-13T07:57:29.420Z"
   },
   {
    "duration": 81,
    "start_time": "2023-09-13T07:57:29.470Z"
   },
   {
    "duration": 54,
    "start_time": "2023-09-13T07:57:29.552Z"
   },
   {
    "duration": 68,
    "start_time": "2023-09-13T07:57:29.608Z"
   },
   {
    "duration": 38,
    "start_time": "2023-09-13T07:57:29.677Z"
   },
   {
    "duration": 58,
    "start_time": "2023-09-13T07:57:29.717Z"
   },
   {
    "duration": 73,
    "start_time": "2023-09-13T07:57:29.777Z"
   },
   {
    "duration": 40,
    "start_time": "2023-09-13T07:57:29.851Z"
   },
   {
    "duration": 62,
    "start_time": "2023-09-13T07:57:29.893Z"
   },
   {
    "duration": 228,
    "start_time": "2023-09-13T07:57:29.957Z"
   },
   {
    "duration": 165,
    "start_time": "2023-09-13T07:57:30.187Z"
   },
   {
    "duration": 8,
    "start_time": "2023-09-13T07:57:30.354Z"
   },
   {
    "duration": 347,
    "start_time": "2023-09-13T07:57:30.364Z"
   },
   {
    "duration": 236,
    "start_time": "2023-09-13T07:57:30.713Z"
   },
   {
    "duration": 7,
    "start_time": "2023-09-13T07:57:30.951Z"
   },
   {
    "duration": 373,
    "start_time": "2023-09-13T07:57:30.959Z"
   },
   {
    "duration": 216,
    "start_time": "2023-09-13T07:57:31.334Z"
   },
   {
    "duration": 286,
    "start_time": "2023-09-13T07:57:31.553Z"
   },
   {
    "duration": 11,
    "start_time": "2023-09-13T07:57:31.841Z"
   },
   {
    "duration": 184,
    "start_time": "2023-09-13T07:57:31.854Z"
   },
   {
    "duration": 184,
    "start_time": "2023-09-13T07:57:32.040Z"
   },
   {
    "duration": 260,
    "start_time": "2023-09-13T07:57:32.225Z"
   },
   {
    "duration": 121,
    "start_time": "2023-09-13T07:58:33.640Z"
   },
   {
    "duration": 1501,
    "start_time": "2023-09-13T07:58:37.736Z"
   },
   {
    "duration": 99,
    "start_time": "2023-09-13T07:58:39.239Z"
   },
   {
    "duration": 290,
    "start_time": "2023-09-13T07:58:39.339Z"
   },
   {
    "duration": 5,
    "start_time": "2023-09-13T07:58:39.631Z"
   },
   {
    "duration": 316,
    "start_time": "2023-09-13T07:58:39.638Z"
   },
   {
    "duration": 9,
    "start_time": "2023-09-13T07:58:39.956Z"
   },
   {
    "duration": 127,
    "start_time": "2023-09-13T07:58:40.024Z"
   },
   {
    "duration": 78,
    "start_time": "2023-09-13T07:58:40.153Z"
   },
   {
    "duration": 78,
    "start_time": "2023-09-13T07:58:40.233Z"
   },
   {
    "duration": 31,
    "start_time": "2023-09-13T07:58:40.315Z"
   },
   {
    "duration": 97,
    "start_time": "2023-09-13T07:58:40.348Z"
   },
   {
    "duration": 145,
    "start_time": "2023-09-13T07:58:40.447Z"
   },
   {
    "duration": 137,
    "start_time": "2023-09-13T07:58:40.594Z"
   },
   {
    "duration": 60,
    "start_time": "2023-09-13T07:58:40.733Z"
   },
   {
    "duration": 121,
    "start_time": "2023-09-13T07:58:40.795Z"
   },
   {
    "duration": 45,
    "start_time": "2023-09-13T07:58:40.918Z"
   },
   {
    "duration": 76,
    "start_time": "2023-09-13T07:58:40.964Z"
   },
   {
    "duration": 85,
    "start_time": "2023-09-13T07:58:41.042Z"
   },
   {
    "duration": 40,
    "start_time": "2023-09-13T07:58:41.129Z"
   },
   {
    "duration": 206,
    "start_time": "2023-09-13T07:58:41.171Z"
   },
   {
    "duration": 134,
    "start_time": "2023-09-13T07:58:41.379Z"
   },
   {
    "duration": 13,
    "start_time": "2023-09-13T07:58:41.515Z"
   },
   {
    "duration": 318,
    "start_time": "2023-09-13T07:58:41.530Z"
   },
   {
    "duration": 232,
    "start_time": "2023-09-13T07:58:41.850Z"
   },
   {
    "duration": 5,
    "start_time": "2023-09-13T07:58:42.084Z"
   },
   {
    "duration": 314,
    "start_time": "2023-09-13T07:58:42.091Z"
   },
   {
    "duration": 244,
    "start_time": "2023-09-13T07:58:42.407Z"
   },
   {
    "duration": 285,
    "start_time": "2023-09-13T07:58:42.654Z"
   },
   {
    "duration": 11,
    "start_time": "2023-09-13T07:58:42.941Z"
   },
   {
    "duration": 287,
    "start_time": "2023-09-13T07:58:42.954Z"
   },
   {
    "duration": 164,
    "start_time": "2023-09-13T07:58:43.243Z"
   },
   {
    "duration": 156,
    "start_time": "2023-09-13T07:58:43.409Z"
   },
   {
    "duration": 151,
    "start_time": "2023-09-13T08:00:25.425Z"
   },
   {
    "duration": 152,
    "start_time": "2023-09-13T08:01:34.578Z"
   },
   {
    "duration": 198,
    "start_time": "2023-09-13T08:02:30.290Z"
   },
   {
    "duration": 168,
    "start_time": "2023-09-13T08:02:40.507Z"
   },
   {
    "duration": 205,
    "start_time": "2023-09-13T08:04:15.884Z"
   },
   {
    "duration": 88,
    "start_time": "2023-09-13T08:04:24.999Z"
   },
   {
    "duration": 148,
    "start_time": "2023-09-13T08:04:29.585Z"
   },
   {
    "duration": 145,
    "start_time": "2023-09-13T08:05:18.797Z"
   },
   {
    "duration": 11,
    "start_time": "2023-09-13T08:05:26.585Z"
   },
   {
    "duration": 10,
    "start_time": "2023-09-13T08:05:46.579Z"
   },
   {
    "duration": 88,
    "start_time": "2023-09-13T08:07:24.180Z"
   },
   {
    "duration": 0,
    "start_time": "2023-09-13T08:07:24.271Z"
   },
   {
    "duration": 0,
    "start_time": "2023-09-13T08:07:24.273Z"
   },
   {
    "duration": 0,
    "start_time": "2023-09-13T08:07:24.274Z"
   },
   {
    "duration": 0,
    "start_time": "2023-09-13T08:07:24.275Z"
   },
   {
    "duration": 0,
    "start_time": "2023-09-13T08:07:24.276Z"
   },
   {
    "duration": 0,
    "start_time": "2023-09-13T08:07:24.277Z"
   },
   {
    "duration": 0,
    "start_time": "2023-09-13T08:07:24.279Z"
   },
   {
    "duration": 0,
    "start_time": "2023-09-13T08:07:24.280Z"
   },
   {
    "duration": 0,
    "start_time": "2023-09-13T08:07:24.282Z"
   },
   {
    "duration": 0,
    "start_time": "2023-09-13T08:07:24.283Z"
   },
   {
    "duration": 0,
    "start_time": "2023-09-13T08:07:24.285Z"
   },
   {
    "duration": 0,
    "start_time": "2023-09-13T08:07:24.287Z"
   },
   {
    "duration": 0,
    "start_time": "2023-09-13T08:07:24.288Z"
   },
   {
    "duration": 0,
    "start_time": "2023-09-13T08:07:24.290Z"
   },
   {
    "duration": 0,
    "start_time": "2023-09-13T08:07:24.292Z"
   },
   {
    "duration": 0,
    "start_time": "2023-09-13T08:07:24.293Z"
   },
   {
    "duration": 0,
    "start_time": "2023-09-13T08:07:24.294Z"
   },
   {
    "duration": 0,
    "start_time": "2023-09-13T08:07:24.296Z"
   },
   {
    "duration": 0,
    "start_time": "2023-09-13T08:07:24.297Z"
   },
   {
    "duration": 0,
    "start_time": "2023-09-13T08:07:24.298Z"
   },
   {
    "duration": 0,
    "start_time": "2023-09-13T08:07:24.299Z"
   },
   {
    "duration": 0,
    "start_time": "2023-09-13T08:07:24.300Z"
   },
   {
    "duration": 0,
    "start_time": "2023-09-13T08:07:24.301Z"
   },
   {
    "duration": 0,
    "start_time": "2023-09-13T08:07:24.302Z"
   },
   {
    "duration": 0,
    "start_time": "2023-09-13T08:07:24.303Z"
   },
   {
    "duration": 0,
    "start_time": "2023-09-13T08:07:24.305Z"
   },
   {
    "duration": 0,
    "start_time": "2023-09-13T08:07:24.306Z"
   },
   {
    "duration": 0,
    "start_time": "2023-09-13T08:07:24.307Z"
   },
   {
    "duration": 0,
    "start_time": "2023-09-13T08:07:24.325Z"
   },
   {
    "duration": 0,
    "start_time": "2023-09-13T08:07:24.326Z"
   },
   {
    "duration": 0,
    "start_time": "2023-09-13T08:07:24.327Z"
   },
   {
    "duration": 1094,
    "start_time": "2023-09-13T08:07:56.662Z"
   },
   {
    "duration": 76,
    "start_time": "2023-09-13T08:07:57.758Z"
   },
   {
    "duration": 4,
    "start_time": "2023-09-13T08:07:57.836Z"
   },
   {
    "duration": 70,
    "start_time": "2023-09-13T08:07:57.841Z"
   },
   {
    "duration": 8,
    "start_time": "2023-09-13T08:07:57.925Z"
   },
   {
    "duration": 90,
    "start_time": "2023-09-13T08:07:57.935Z"
   },
   {
    "duration": 12,
    "start_time": "2023-09-13T08:07:58.026Z"
   },
   {
    "duration": 93,
    "start_time": "2023-09-13T08:07:58.040Z"
   },
   {
    "duration": 11,
    "start_time": "2023-09-13T08:07:58.135Z"
   },
   {
    "duration": 14,
    "start_time": "2023-09-13T08:07:58.148Z"
   },
   {
    "duration": 17,
    "start_time": "2023-09-13T08:07:58.163Z"
   },
   {
    "duration": 50,
    "start_time": "2023-09-13T08:07:58.182Z"
   },
   {
    "duration": 20,
    "start_time": "2023-09-13T08:07:58.234Z"
   },
   {
    "duration": 98,
    "start_time": "2023-09-13T08:07:58.258Z"
   },
   {
    "duration": 32,
    "start_time": "2023-09-13T08:07:58.358Z"
   },
   {
    "duration": 9,
    "start_time": "2023-09-13T08:07:58.392Z"
   },
   {
    "duration": 13,
    "start_time": "2023-09-13T08:07:58.402Z"
   },
   {
    "duration": 8,
    "start_time": "2023-09-13T08:07:58.417Z"
   },
   {
    "duration": 203,
    "start_time": "2023-09-13T08:07:58.426Z"
   },
   {
    "duration": 133,
    "start_time": "2023-09-13T08:07:58.631Z"
   },
   {
    "duration": 8,
    "start_time": "2023-09-13T08:07:58.766Z"
   },
   {
    "duration": 324,
    "start_time": "2023-09-13T08:07:58.776Z"
   },
   {
    "duration": 224,
    "start_time": "2023-09-13T08:07:59.102Z"
   },
   {
    "duration": 6,
    "start_time": "2023-09-13T08:07:59.327Z"
   },
   {
    "duration": 278,
    "start_time": "2023-09-13T08:07:59.334Z"
   },
   {
    "duration": 217,
    "start_time": "2023-09-13T08:07:59.614Z"
   },
   {
    "duration": 305,
    "start_time": "2023-09-13T08:07:59.833Z"
   },
   {
    "duration": 19,
    "start_time": "2023-09-13T08:08:00.141Z"
   },
   {
    "duration": 190,
    "start_time": "2023-09-13T08:08:00.162Z"
   },
   {
    "duration": 170,
    "start_time": "2023-09-13T08:08:00.354Z"
   },
   {
    "duration": 234,
    "start_time": "2023-09-13T08:08:00.526Z"
   },
   {
    "duration": 103,
    "start_time": "2023-09-13T08:08:00.762Z"
   },
   {
    "duration": 10872,
    "start_time": "2023-09-13T08:08:05.921Z"
   },
   {
    "duration": 152,
    "start_time": "2023-09-13T08:08:23.236Z"
   },
   {
    "duration": 140,
    "start_time": "2023-09-13T08:08:27.920Z"
   },
   {
    "duration": 1547,
    "start_time": "2023-09-13T08:13:21.024Z"
   },
   {
    "duration": 77,
    "start_time": "2023-09-13T08:13:22.573Z"
   },
   {
    "duration": 4,
    "start_time": "2023-09-13T08:13:22.652Z"
   },
   {
    "duration": 149,
    "start_time": "2023-09-13T08:13:22.658Z"
   },
   {
    "duration": 15,
    "start_time": "2023-09-13T08:13:22.810Z"
   },
   {
    "duration": 51,
    "start_time": "2023-09-13T08:13:22.826Z"
   },
   {
    "duration": 52,
    "start_time": "2023-09-13T08:13:22.879Z"
   },
   {
    "duration": 141,
    "start_time": "2023-09-13T08:13:22.933Z"
   },
   {
    "duration": 18,
    "start_time": "2023-09-13T08:13:23.076Z"
   },
   {
    "duration": 103,
    "start_time": "2023-09-13T08:13:23.096Z"
   },
   {
    "duration": 28,
    "start_time": "2023-09-13T08:13:23.200Z"
   },
   {
    "duration": 41,
    "start_time": "2023-09-13T08:13:23.230Z"
   },
   {
    "duration": 33,
    "start_time": "2023-09-13T08:13:23.273Z"
   },
   {
    "duration": 45,
    "start_time": "2023-09-13T08:13:23.309Z"
   },
   {
    "duration": 21,
    "start_time": "2023-09-13T08:13:23.356Z"
   },
   {
    "duration": 11,
    "start_time": "2023-09-13T08:13:23.379Z"
   },
   {
    "duration": 48,
    "start_time": "2023-09-13T08:13:23.391Z"
   },
   {
    "duration": 14,
    "start_time": "2023-09-13T08:13:23.441Z"
   },
   {
    "duration": 208,
    "start_time": "2023-09-13T08:13:23.456Z"
   },
   {
    "duration": 163,
    "start_time": "2023-09-13T08:13:23.666Z"
   },
   {
    "duration": 8,
    "start_time": "2023-09-13T08:13:23.830Z"
   },
   {
    "duration": 622,
    "start_time": "2023-09-13T08:13:23.839Z"
   },
   {
    "duration": 479,
    "start_time": "2023-09-13T08:13:24.463Z"
   },
   {
    "duration": 6,
    "start_time": "2023-09-13T08:13:24.945Z"
   },
   {
    "duration": 705,
    "start_time": "2023-09-13T08:13:24.953Z"
   },
   {
    "duration": 520,
    "start_time": "2023-09-13T08:13:25.660Z"
   },
   {
    "duration": 452,
    "start_time": "2023-09-13T08:13:26.182Z"
   },
   {
    "duration": 11,
    "start_time": "2023-09-13T08:13:26.641Z"
   },
   {
    "duration": 382,
    "start_time": "2023-09-13T08:13:26.654Z"
   },
   {
    "duration": 363,
    "start_time": "2023-09-13T08:13:27.037Z"
   },
   {
    "duration": 328,
    "start_time": "2023-09-13T08:13:27.402Z"
   },
   {
    "duration": 85,
    "start_time": "2023-09-13T08:13:27.732Z"
   },
   {
    "duration": 0,
    "start_time": "2023-09-13T08:13:27.819Z"
   },
   {
    "duration": 11,
    "start_time": "2023-09-13T08:15:09.560Z"
   },
   {
    "duration": 300,
    "start_time": "2023-09-13T08:15:24.577Z"
   },
   {
    "duration": 314,
    "start_time": "2023-09-13T08:15:48.518Z"
   },
   {
    "duration": 11,
    "start_time": "2023-09-13T08:16:04.153Z"
   },
   {
    "duration": 1439,
    "start_time": "2023-09-13T08:16:48.199Z"
   },
   {
    "duration": 81,
    "start_time": "2023-09-13T08:16:49.640Z"
   },
   {
    "duration": 12,
    "start_time": "2023-09-13T08:16:49.722Z"
   },
   {
    "duration": 93,
    "start_time": "2023-09-13T08:16:49.735Z"
   },
   {
    "duration": 9,
    "start_time": "2023-09-13T08:16:49.831Z"
   },
   {
    "duration": 104,
    "start_time": "2023-09-13T08:16:49.842Z"
   },
   {
    "duration": 9,
    "start_time": "2023-09-13T08:16:49.948Z"
   },
   {
    "duration": 87,
    "start_time": "2023-09-13T08:16:49.958Z"
   },
   {
    "duration": 31,
    "start_time": "2023-09-13T08:16:50.047Z"
   },
   {
    "duration": 43,
    "start_time": "2023-09-13T08:16:50.080Z"
   },
   {
    "duration": 23,
    "start_time": "2023-09-13T08:16:50.126Z"
   },
   {
    "duration": 33,
    "start_time": "2023-09-13T08:16:50.151Z"
   },
   {
    "duration": 18,
    "start_time": "2023-09-13T08:16:50.186Z"
   },
   {
    "duration": 29,
    "start_time": "2023-09-13T08:16:50.207Z"
   },
   {
    "duration": 45,
    "start_time": "2023-09-13T08:16:50.238Z"
   },
   {
    "duration": 28,
    "start_time": "2023-09-13T08:16:50.284Z"
   },
   {
    "duration": 24,
    "start_time": "2023-09-13T08:16:50.315Z"
   },
   {
    "duration": 21,
    "start_time": "2023-09-13T08:16:50.341Z"
   },
   {
    "duration": 255,
    "start_time": "2023-09-13T08:16:50.364Z"
   },
   {
    "duration": 144,
    "start_time": "2023-09-13T08:16:50.621Z"
   },
   {
    "duration": 7,
    "start_time": "2023-09-13T08:16:50.767Z"
   },
   {
    "duration": 624,
    "start_time": "2023-09-13T08:16:50.775Z"
   },
   {
    "duration": 473,
    "start_time": "2023-09-13T08:16:51.401Z"
   },
   {
    "duration": 7,
    "start_time": "2023-09-13T08:16:51.876Z"
   },
   {
    "duration": 491,
    "start_time": "2023-09-13T08:16:51.885Z"
   },
   {
    "duration": 511,
    "start_time": "2023-09-13T08:16:52.378Z"
   },
   {
    "duration": 449,
    "start_time": "2023-09-13T08:16:52.891Z"
   },
   {
    "duration": 8,
    "start_time": "2023-09-13T08:16:53.343Z"
   },
   {
    "duration": 356,
    "start_time": "2023-09-13T08:16:53.353Z"
   },
   {
    "duration": 332,
    "start_time": "2023-09-13T08:16:53.711Z"
   },
   {
    "duration": 338,
    "start_time": "2023-09-13T08:16:54.046Z"
   },
   {
    "duration": 97,
    "start_time": "2023-09-13T08:16:54.386Z"
   },
   {
    "duration": 0,
    "start_time": "2023-09-13T08:16:54.485Z"
   },
   {
    "duration": 1397,
    "start_time": "2023-09-13T08:18:40.257Z"
   },
   {
    "duration": 77,
    "start_time": "2023-09-13T08:18:41.656Z"
   },
   {
    "duration": 6,
    "start_time": "2023-09-13T08:18:41.735Z"
   },
   {
    "duration": 111,
    "start_time": "2023-09-13T08:18:41.743Z"
   },
   {
    "duration": 99,
    "start_time": "2023-09-13T08:18:41.855Z"
   },
   {
    "duration": 175,
    "start_time": "2023-09-13T08:18:41.956Z"
   },
   {
    "duration": 151,
    "start_time": "2023-09-13T08:18:42.133Z"
   },
   {
    "duration": 149,
    "start_time": "2023-09-13T08:18:42.286Z"
   },
   {
    "duration": 41,
    "start_time": "2023-09-13T08:18:42.436Z"
   },
   {
    "duration": 27,
    "start_time": "2023-09-13T08:18:42.480Z"
   },
   {
    "duration": 36,
    "start_time": "2023-09-13T08:18:42.508Z"
   },
   {
    "duration": 66,
    "start_time": "2023-09-13T08:18:42.545Z"
   },
   {
    "duration": 47,
    "start_time": "2023-09-13T08:18:42.613Z"
   },
   {
    "duration": 14,
    "start_time": "2023-09-13T08:18:42.662Z"
   },
   {
    "duration": 6,
    "start_time": "2023-09-13T08:18:42.678Z"
   },
   {
    "duration": 72,
    "start_time": "2023-09-13T08:18:42.685Z"
   },
   {
    "duration": 21,
    "start_time": "2023-09-13T08:18:42.759Z"
   },
   {
    "duration": 39,
    "start_time": "2023-09-13T08:18:42.782Z"
   },
   {
    "duration": 227,
    "start_time": "2023-09-13T08:18:42.823Z"
   },
   {
    "duration": 129,
    "start_time": "2023-09-13T08:18:43.052Z"
   },
   {
    "duration": 7,
    "start_time": "2023-09-13T08:18:43.183Z"
   },
   {
    "duration": 632,
    "start_time": "2023-09-13T08:18:43.191Z"
   },
   {
    "duration": 417,
    "start_time": "2023-09-13T08:18:43.825Z"
   },
   {
    "duration": 5,
    "start_time": "2023-09-13T08:18:44.244Z"
   },
   {
    "duration": 384,
    "start_time": "2023-09-13T08:18:44.251Z"
   },
   {
    "duration": 425,
    "start_time": "2023-09-13T08:18:44.637Z"
   },
   {
    "duration": 415,
    "start_time": "2023-09-13T08:18:45.063Z"
   },
   {
    "duration": 10,
    "start_time": "2023-09-13T08:18:45.481Z"
   },
   {
    "duration": 348,
    "start_time": "2023-09-13T08:18:45.493Z"
   },
   {
    "duration": 275,
    "start_time": "2023-09-13T08:18:45.842Z"
   },
   {
    "duration": 377,
    "start_time": "2023-09-13T08:18:46.123Z"
   },
   {
    "duration": 381,
    "start_time": "2023-09-13T08:18:46.502Z"
   },
   {
    "duration": 0,
    "start_time": "2023-09-13T08:18:46.885Z"
   },
   {
    "duration": 104,
    "start_time": "2023-09-13T08:21:04.011Z"
   },
   {
    "duration": 306,
    "start_time": "2023-09-13T08:21:16.100Z"
   },
   {
    "duration": 329,
    "start_time": "2023-09-13T08:24:04.975Z"
   },
   {
    "duration": 300,
    "start_time": "2023-09-13T08:24:39.210Z"
   },
   {
    "duration": 402,
    "start_time": "2023-09-13T08:24:54.296Z"
   },
   {
    "duration": 305,
    "start_time": "2023-09-13T08:55:17.320Z"
   },
   {
    "duration": 98,
    "start_time": "2023-09-13T08:55:33.589Z"
   },
   {
    "duration": 10,
    "start_time": "2023-09-13T08:55:43.802Z"
   },
   {
    "duration": 261,
    "start_time": "2023-09-13T08:55:56.152Z"
   },
   {
    "duration": 1444,
    "start_time": "2023-09-13T08:59:45.851Z"
   },
   {
    "duration": 77,
    "start_time": "2023-09-13T08:59:47.297Z"
   },
   {
    "duration": 5,
    "start_time": "2023-09-13T08:59:47.376Z"
   },
   {
    "duration": 111,
    "start_time": "2023-09-13T08:59:47.384Z"
   },
   {
    "duration": 29,
    "start_time": "2023-09-13T08:59:47.497Z"
   },
   {
    "duration": 69,
    "start_time": "2023-09-13T08:59:47.528Z"
   },
   {
    "duration": 32,
    "start_time": "2023-09-13T08:59:47.599Z"
   },
   {
    "duration": 99,
    "start_time": "2023-09-13T08:59:47.633Z"
   },
   {
    "duration": 13,
    "start_time": "2023-09-13T08:59:47.734Z"
   },
   {
    "duration": 27,
    "start_time": "2023-09-13T08:59:47.750Z"
   },
   {
    "duration": 11,
    "start_time": "2023-09-13T08:59:47.779Z"
   },
   {
    "duration": 4,
    "start_time": "2023-09-13T08:59:47.791Z"
   },
   {
    "duration": 27,
    "start_time": "2023-09-13T08:59:47.797Z"
   },
   {
    "duration": 8,
    "start_time": "2023-09-13T08:59:47.826Z"
   },
   {
    "duration": 12,
    "start_time": "2023-09-13T08:59:47.836Z"
   },
   {
    "duration": 17,
    "start_time": "2023-09-13T08:59:47.850Z"
   },
   {
    "duration": 5,
    "start_time": "2023-09-13T08:59:47.869Z"
   },
   {
    "duration": 12,
    "start_time": "2023-09-13T08:59:47.875Z"
   },
   {
    "duration": 216,
    "start_time": "2023-09-13T08:59:47.889Z"
   },
   {
    "duration": 147,
    "start_time": "2023-09-13T08:59:48.107Z"
   },
   {
    "duration": 7,
    "start_time": "2023-09-13T08:59:48.256Z"
   },
   {
    "duration": 494,
    "start_time": "2023-09-13T08:59:48.265Z"
   },
   {
    "duration": 418,
    "start_time": "2023-09-13T08:59:48.760Z"
   },
   {
    "duration": 6,
    "start_time": "2023-09-13T08:59:49.180Z"
   },
   {
    "duration": 548,
    "start_time": "2023-09-13T08:59:49.187Z"
   },
   {
    "duration": 437,
    "start_time": "2023-09-13T08:59:49.737Z"
   },
   {
    "duration": 443,
    "start_time": "2023-09-13T08:59:50.176Z"
   },
   {
    "duration": 11,
    "start_time": "2023-09-13T08:59:50.625Z"
   },
   {
    "duration": 534,
    "start_time": "2023-09-13T08:59:50.637Z"
   },
   {
    "duration": 336,
    "start_time": "2023-09-13T08:59:51.174Z"
   },
   {
    "duration": 348,
    "start_time": "2023-09-13T08:59:51.512Z"
   },
   {
    "duration": 101,
    "start_time": "2023-09-13T08:59:51.862Z"
   },
   {
    "duration": 0,
    "start_time": "2023-09-13T08:59:51.965Z"
   },
   {
    "duration": 0,
    "start_time": "2023-09-13T08:59:51.969Z"
   },
   {
    "duration": 0,
    "start_time": "2023-09-13T08:59:51.970Z"
   },
   {
    "duration": 0,
    "start_time": "2023-09-13T08:59:51.972Z"
   },
   {
    "duration": 12,
    "start_time": "2023-09-13T09:01:32.357Z"
   },
   {
    "duration": 308,
    "start_time": "2023-09-13T09:02:05.850Z"
   },
   {
    "duration": 346,
    "start_time": "2023-09-13T09:02:32.584Z"
   },
   {
    "duration": 1370,
    "start_time": "2023-09-13T09:03:04.746Z"
   },
   {
    "duration": 81,
    "start_time": "2023-09-13T09:03:06.118Z"
   },
   {
    "duration": 4,
    "start_time": "2023-09-13T09:03:06.201Z"
   },
   {
    "duration": 73,
    "start_time": "2023-09-13T09:03:06.207Z"
   },
   {
    "duration": 42,
    "start_time": "2023-09-13T09:03:06.282Z"
   },
   {
    "duration": 49,
    "start_time": "2023-09-13T09:03:06.326Z"
   },
   {
    "duration": 49,
    "start_time": "2023-09-13T09:03:06.377Z"
   },
   {
    "duration": 152,
    "start_time": "2023-09-13T09:03:06.428Z"
   },
   {
    "duration": 25,
    "start_time": "2023-09-13T09:03:06.582Z"
   },
   {
    "duration": 45,
    "start_time": "2023-09-13T09:03:06.610Z"
   },
   {
    "duration": 37,
    "start_time": "2023-09-13T09:03:06.656Z"
   },
   {
    "duration": 71,
    "start_time": "2023-09-13T09:03:06.695Z"
   },
   {
    "duration": 71,
    "start_time": "2023-09-13T09:03:06.768Z"
   },
   {
    "duration": 54,
    "start_time": "2023-09-13T09:03:06.840Z"
   },
   {
    "duration": 129,
    "start_time": "2023-09-13T09:03:06.896Z"
   },
   {
    "duration": 77,
    "start_time": "2023-09-13T09:03:07.026Z"
   },
   {
    "duration": 116,
    "start_time": "2023-09-13T09:03:07.104Z"
   },
   {
    "duration": 53,
    "start_time": "2023-09-13T09:03:07.222Z"
   },
   {
    "duration": 257,
    "start_time": "2023-09-13T09:03:07.277Z"
   },
   {
    "duration": 132,
    "start_time": "2023-09-13T09:03:07.536Z"
   },
   {
    "duration": 9,
    "start_time": "2023-09-13T09:03:07.670Z"
   },
   {
    "duration": 568,
    "start_time": "2023-09-13T09:03:07.681Z"
   },
   {
    "duration": 424,
    "start_time": "2023-09-13T09:03:08.251Z"
   },
   {
    "duration": 7,
    "start_time": "2023-09-13T09:03:08.677Z"
   },
   {
    "duration": 525,
    "start_time": "2023-09-13T09:03:08.686Z"
   },
   {
    "duration": 435,
    "start_time": "2023-09-13T09:03:09.213Z"
   },
   {
    "duration": 387,
    "start_time": "2023-09-13T09:03:09.650Z"
   },
   {
    "duration": 11,
    "start_time": "2023-09-13T09:03:10.040Z"
   },
   {
    "duration": 328,
    "start_time": "2023-09-13T09:03:10.052Z"
   },
   {
    "duration": 345,
    "start_time": "2023-09-13T09:03:10.382Z"
   },
   {
    "duration": 314,
    "start_time": "2023-09-13T09:03:10.728Z"
   },
   {
    "duration": 127,
    "start_time": "2023-09-13T09:03:11.043Z"
   },
   {
    "duration": 0,
    "start_time": "2023-09-13T09:03:11.171Z"
   },
   {
    "duration": 0,
    "start_time": "2023-09-13T09:03:11.173Z"
   },
   {
    "duration": 0,
    "start_time": "2023-09-13T09:03:11.174Z"
   },
   {
    "duration": 0,
    "start_time": "2023-09-13T09:03:11.175Z"
   },
   {
    "duration": 324,
    "start_time": "2023-09-13T09:04:46.564Z"
   },
   {
    "duration": 335,
    "start_time": "2023-09-13T09:04:48.544Z"
   },
   {
    "duration": 10,
    "start_time": "2023-09-13T09:05:54.647Z"
   },
   {
    "duration": 11,
    "start_time": "2023-09-13T09:07:07.043Z"
   },
   {
    "duration": 372,
    "start_time": "2023-09-13T09:14:15.921Z"
   },
   {
    "duration": 396,
    "start_time": "2023-09-13T09:14:57.460Z"
   },
   {
    "duration": 324,
    "start_time": "2023-09-13T09:15:27.319Z"
   },
   {
    "duration": 415,
    "start_time": "2023-09-13T09:15:35.625Z"
   },
   {
    "duration": 337,
    "start_time": "2023-09-13T09:15:42.388Z"
   },
   {
    "duration": 297,
    "start_time": "2023-09-13T09:15:53.464Z"
   },
   {
    "duration": 373,
    "start_time": "2023-09-13T09:17:02.900Z"
   },
   {
    "duration": 281,
    "start_time": "2023-09-13T09:17:19.848Z"
   },
   {
    "duration": 290,
    "start_time": "2023-09-13T09:19:17.254Z"
   },
   {
    "duration": 298,
    "start_time": "2023-09-13T09:19:22.774Z"
   },
   {
    "duration": 121,
    "start_time": "2023-09-13T09:20:44.947Z"
   },
   {
    "duration": 343,
    "start_time": "2023-09-13T09:20:50.510Z"
   },
   {
    "duration": 277,
    "start_time": "2023-09-13T09:21:22.776Z"
   },
   {
    "duration": 297,
    "start_time": "2023-09-13T09:21:29.351Z"
   },
   {
    "duration": 282,
    "start_time": "2023-09-13T09:24:28.112Z"
   },
   {
    "duration": 351,
    "start_time": "2023-09-13T09:24:54.339Z"
   },
   {
    "duration": 265,
    "start_time": "2023-09-13T09:26:26.778Z"
   },
   {
    "duration": 244,
    "start_time": "2023-09-13T09:26:41.706Z"
   },
   {
    "duration": 340,
    "start_time": "2023-09-13T09:26:50.048Z"
   },
   {
    "duration": 236,
    "start_time": "2023-09-13T09:26:59.456Z"
   },
   {
    "duration": 252,
    "start_time": "2023-09-13T09:29:13.448Z"
   },
   {
    "duration": 275,
    "start_time": "2023-09-13T09:29:21.752Z"
   },
   {
    "duration": 292,
    "start_time": "2023-09-13T09:29:32.733Z"
   },
   {
    "duration": 293,
    "start_time": "2023-09-13T09:29:40.260Z"
   },
   {
    "duration": 379,
    "start_time": "2023-09-13T09:31:55.533Z"
   },
   {
    "duration": 437,
    "start_time": "2023-09-13T09:35:03.383Z"
   },
   {
    "duration": 14,
    "start_time": "2023-09-13T09:35:20.831Z"
   },
   {
    "duration": 301,
    "start_time": "2023-09-13T09:43:53.057Z"
   },
   {
    "duration": 1650,
    "start_time": "2023-09-13T09:44:15.188Z"
   },
   {
    "duration": 312,
    "start_time": "2023-09-13T09:44:23.030Z"
   },
   {
    "duration": 326,
    "start_time": "2023-09-13T09:46:21.385Z"
   },
   {
    "duration": 425,
    "start_time": "2023-09-13T09:47:56.955Z"
   },
   {
    "duration": 347,
    "start_time": "2023-09-13T09:51:00.722Z"
   },
   {
    "duration": 311,
    "start_time": "2023-09-13T09:51:09.374Z"
   },
   {
    "duration": 15,
    "start_time": "2023-09-13T09:51:22.326Z"
   },
   {
    "duration": 489,
    "start_time": "2023-09-13T09:51:25.565Z"
   },
   {
    "duration": 438,
    "start_time": "2023-09-13T09:51:43.450Z"
   },
   {
    "duration": 10,
    "start_time": "2023-09-13T09:52:25.185Z"
   },
   {
    "duration": 10,
    "start_time": "2023-09-13T09:52:29.286Z"
   },
   {
    "duration": 501,
    "start_time": "2023-09-13T09:52:40.106Z"
   },
   {
    "duration": 482,
    "start_time": "2023-09-13T09:53:42.402Z"
   },
   {
    "duration": 10,
    "start_time": "2023-09-13T09:56:04.942Z"
   },
   {
    "duration": 118,
    "start_time": "2023-09-13T09:56:48.465Z"
   },
   {
    "duration": 506,
    "start_time": "2023-09-13T09:57:12.693Z"
   },
   {
    "duration": 621,
    "start_time": "2023-09-13T09:57:22.585Z"
   },
   {
    "duration": 7,
    "start_time": "2023-09-13T09:59:16.379Z"
   },
   {
    "duration": 3,
    "start_time": "2023-09-13T10:00:16.154Z"
   },
   {
    "duration": 1434,
    "start_time": "2023-09-13T10:07:44.928Z"
   },
   {
    "duration": 78,
    "start_time": "2023-09-13T10:07:46.364Z"
   },
   {
    "duration": 90,
    "start_time": "2023-09-13T10:07:46.444Z"
   },
   {
    "duration": 122,
    "start_time": "2023-09-13T10:07:46.536Z"
   },
   {
    "duration": 8,
    "start_time": "2023-09-13T10:07:46.660Z"
   },
   {
    "duration": 108,
    "start_time": "2023-09-13T10:07:46.670Z"
   },
   {
    "duration": 25,
    "start_time": "2023-09-13T10:07:46.780Z"
   },
   {
    "duration": 92,
    "start_time": "2023-09-13T10:07:46.807Z"
   },
   {
    "duration": 98,
    "start_time": "2023-09-13T10:07:46.900Z"
   },
   {
    "duration": 72,
    "start_time": "2023-09-13T10:07:47.001Z"
   },
   {
    "duration": 120,
    "start_time": "2023-09-13T10:07:47.074Z"
   },
   {
    "duration": 45,
    "start_time": "2023-09-13T10:07:47.196Z"
   },
   {
    "duration": 62,
    "start_time": "2023-09-13T10:07:47.243Z"
   },
   {
    "duration": 72,
    "start_time": "2023-09-13T10:07:47.306Z"
   },
   {
    "duration": 63,
    "start_time": "2023-09-13T10:07:47.380Z"
   },
   {
    "duration": 92,
    "start_time": "2023-09-13T10:07:47.445Z"
   },
   {
    "duration": 38,
    "start_time": "2023-09-13T10:07:47.539Z"
   },
   {
    "duration": 26,
    "start_time": "2023-09-13T10:07:47.579Z"
   },
   {
    "duration": 194,
    "start_time": "2023-09-13T10:07:47.607Z"
   },
   {
    "duration": 137,
    "start_time": "2023-09-13T10:07:47.803Z"
   },
   {
    "duration": 68,
    "start_time": "2023-09-13T10:07:47.942Z"
   },
   {
    "duration": 563,
    "start_time": "2023-09-13T10:07:48.012Z"
   },
   {
    "duration": 477,
    "start_time": "2023-09-13T10:07:48.577Z"
   },
   {
    "duration": 6,
    "start_time": "2023-09-13T10:07:49.056Z"
   },
   {
    "duration": 432,
    "start_time": "2023-09-13T10:07:49.063Z"
   },
   {
    "duration": 434,
    "start_time": "2023-09-13T10:07:49.497Z"
   },
   {
    "duration": 396,
    "start_time": "2023-09-13T10:07:49.935Z"
   },
   {
    "duration": 328,
    "start_time": "2023-09-13T10:07:50.338Z"
   },
   {
    "duration": 509,
    "start_time": "2023-09-13T10:07:50.668Z"
   },
   {
    "duration": 524,
    "start_time": "2023-09-13T10:07:51.179Z"
   },
   {
    "duration": 8,
    "start_time": "2023-09-13T10:07:51.705Z"
   },
   {
    "duration": 91,
    "start_time": "2023-09-13T10:07:51.723Z"
   },
   {
    "duration": 0,
    "start_time": "2023-09-13T10:07:51.815Z"
   },
   {
    "duration": 0,
    "start_time": "2023-09-13T10:07:51.817Z"
   },
   {
    "duration": 0,
    "start_time": "2023-09-13T10:07:51.818Z"
   },
   {
    "duration": 0,
    "start_time": "2023-09-13T10:07:51.819Z"
   },
   {
    "duration": 0,
    "start_time": "2023-09-13T10:07:51.821Z"
   },
   {
    "duration": 0,
    "start_time": "2023-09-13T10:07:51.822Z"
   },
   {
    "duration": 0,
    "start_time": "2023-09-13T10:07:51.822Z"
   },
   {
    "duration": 0,
    "start_time": "2023-09-13T10:07:51.825Z"
   },
   {
    "duration": 0,
    "start_time": "2023-09-13T10:07:51.825Z"
   },
   {
    "duration": 0,
    "start_time": "2023-09-13T10:07:51.827Z"
   },
   {
    "duration": 0,
    "start_time": "2023-09-13T10:07:51.828Z"
   },
   {
    "duration": 0,
    "start_time": "2023-09-13T10:07:51.829Z"
   },
   {
    "duration": 0,
    "start_time": "2023-09-13T10:07:51.831Z"
   },
   {
    "duration": 0,
    "start_time": "2023-09-13T10:07:51.832Z"
   },
   {
    "duration": 0,
    "start_time": "2023-09-13T10:07:51.833Z"
   },
   {
    "duration": 0,
    "start_time": "2023-09-13T10:07:51.834Z"
   },
   {
    "duration": 0,
    "start_time": "2023-09-13T10:07:51.835Z"
   },
   {
    "duration": 0,
    "start_time": "2023-09-13T10:07:51.837Z"
   },
   {
    "duration": 7,
    "start_time": "2023-09-13T10:08:47.123Z"
   },
   {
    "duration": 306,
    "start_time": "2023-09-13T10:08:49.067Z"
   },
   {
    "duration": 314,
    "start_time": "2023-09-13T10:09:12.844Z"
   },
   {
    "duration": 7,
    "start_time": "2023-09-13T10:10:16.061Z"
   },
   {
    "duration": 2120,
    "start_time": "2023-09-13T10:10:18.657Z"
   },
   {
    "duration": 4,
    "start_time": "2023-09-13T10:10:37.985Z"
   },
   {
    "duration": 9,
    "start_time": "2023-09-13T10:11:13.344Z"
   },
   {
    "duration": 10,
    "start_time": "2023-09-13T10:11:28.266Z"
   },
   {
    "duration": 10,
    "start_time": "2023-09-13T10:11:41.918Z"
   },
   {
    "duration": 8,
    "start_time": "2023-09-13T10:11:52.592Z"
   },
   {
    "duration": 5,
    "start_time": "2023-09-13T10:11:57.489Z"
   },
   {
    "duration": 29,
    "start_time": "2023-09-13T10:12:00.820Z"
   },
   {
    "duration": 12,
    "start_time": "2023-09-13T10:12:10.064Z"
   },
   {
    "duration": 10,
    "start_time": "2023-09-13T10:12:20.132Z"
   },
   {
    "duration": 12,
    "start_time": "2023-09-13T10:12:35.112Z"
   },
   {
    "duration": 11,
    "start_time": "2023-09-13T10:13:34.957Z"
   },
   {
    "duration": 10,
    "start_time": "2023-09-13T10:13:35.891Z"
   },
   {
    "duration": 6,
    "start_time": "2023-09-13T10:13:38.698Z"
   },
   {
    "duration": 30,
    "start_time": "2023-09-13T10:13:41.357Z"
   },
   {
    "duration": 11,
    "start_time": "2023-09-13T10:13:48.229Z"
   },
   {
    "duration": 31,
    "start_time": "2023-09-13T10:13:50.838Z"
   },
   {
    "duration": 175,
    "start_time": "2023-09-13T10:14:15.442Z"
   },
   {
    "duration": 268,
    "start_time": "2023-09-13T10:14:40.890Z"
   },
   {
    "duration": 686,
    "start_time": "2023-09-13T10:14:49.863Z"
   },
   {
    "duration": 538,
    "start_time": "2023-09-13T10:16:09.827Z"
   },
   {
    "duration": 5,
    "start_time": "2023-09-13T10:19:30.048Z"
   },
   {
    "duration": 433,
    "start_time": "2023-09-13T10:19:38.420Z"
   },
   {
    "duration": 729,
    "start_time": "2023-09-13T10:19:52.844Z"
   },
   {
    "duration": 23,
    "start_time": "2023-09-13T10:20:12.506Z"
   },
   {
    "duration": 21,
    "start_time": "2023-09-13T10:20:16.152Z"
   },
   {
    "duration": 671,
    "start_time": "2023-09-13T10:21:08.295Z"
   },
   {
    "duration": 1509,
    "start_time": "2023-09-13T10:23:12.753Z"
   },
   {
    "duration": 76,
    "start_time": "2023-09-13T10:23:14.264Z"
   },
   {
    "duration": 7,
    "start_time": "2023-09-13T10:23:14.342Z"
   },
   {
    "duration": 254,
    "start_time": "2023-09-13T10:23:14.351Z"
   },
   {
    "duration": 36,
    "start_time": "2023-09-13T10:23:14.607Z"
   },
   {
    "duration": 81,
    "start_time": "2023-09-13T10:23:14.644Z"
   },
   {
    "duration": 19,
    "start_time": "2023-09-13T10:23:14.727Z"
   },
   {
    "duration": 77,
    "start_time": "2023-09-13T10:23:14.748Z"
   },
   {
    "duration": 12,
    "start_time": "2023-09-13T10:23:14.827Z"
   },
   {
    "duration": 28,
    "start_time": "2023-09-13T10:23:14.842Z"
   },
   {
    "duration": 25,
    "start_time": "2023-09-13T10:23:14.872Z"
   },
   {
    "duration": 35,
    "start_time": "2023-09-13T10:23:14.899Z"
   },
   {
    "duration": 7,
    "start_time": "2023-09-13T10:23:14.936Z"
   },
   {
    "duration": 58,
    "start_time": "2023-09-13T10:23:14.945Z"
   },
   {
    "duration": 179,
    "start_time": "2023-09-13T10:23:15.004Z"
   },
   {
    "duration": 42,
    "start_time": "2023-09-13T10:23:15.185Z"
   },
   {
    "duration": 93,
    "start_time": "2023-09-13T10:23:15.229Z"
   },
   {
    "duration": 62,
    "start_time": "2023-09-13T10:23:15.324Z"
   },
   {
    "duration": 189,
    "start_time": "2023-09-13T10:23:15.388Z"
   },
   {
    "duration": 164,
    "start_time": "2023-09-13T10:23:15.579Z"
   },
   {
    "duration": 9,
    "start_time": "2023-09-13T10:23:15.746Z"
   },
   {
    "duration": 797,
    "start_time": "2023-09-13T10:23:15.756Z"
   },
   {
    "duration": 656,
    "start_time": "2023-09-13T10:23:16.555Z"
   },
   {
    "duration": 11,
    "start_time": "2023-09-13T10:23:17.213Z"
   },
   {
    "duration": 591,
    "start_time": "2023-09-13T10:23:17.226Z"
   },
   {
    "duration": 583,
    "start_time": "2023-09-13T10:23:17.818Z"
   },
   {
    "duration": 553,
    "start_time": "2023-09-13T10:23:18.404Z"
   },
   {
    "duration": 455,
    "start_time": "2023-09-13T10:23:18.961Z"
   },
   {
    "duration": 560,
    "start_time": "2023-09-13T10:23:19.424Z"
   },
   {
    "duration": 592,
    "start_time": "2023-09-13T10:23:19.986Z"
   },
   {
    "duration": 7,
    "start_time": "2023-09-13T10:23:20.579Z"
   },
   {
    "duration": 66,
    "start_time": "2023-09-13T10:23:20.587Z"
   },
   {
    "duration": 480,
    "start_time": "2023-09-13T10:23:20.655Z"
   },
   {
    "duration": 373,
    "start_time": "2023-09-13T10:23:21.138Z"
   },
   {
    "duration": 15,
    "start_time": "2023-09-13T10:23:21.513Z"
   },
   {
    "duration": 13,
    "start_time": "2023-09-13T10:23:21.529Z"
   },
   {
    "duration": 25,
    "start_time": "2023-09-13T10:23:21.543Z"
   },
   {
    "duration": 9,
    "start_time": "2023-09-13T10:23:21.570Z"
   },
   {
    "duration": 8,
    "start_time": "2023-09-13T10:23:21.581Z"
   },
   {
    "duration": 33,
    "start_time": "2023-09-13T10:23:21.591Z"
   },
   {
    "duration": 11,
    "start_time": "2023-09-13T10:23:21.626Z"
   },
   {
    "duration": 18,
    "start_time": "2023-09-13T10:23:21.639Z"
   },
   {
    "duration": 30,
    "start_time": "2023-09-13T10:23:21.659Z"
   },
   {
    "duration": 8,
    "start_time": "2023-09-13T10:23:21.691Z"
   },
   {
    "duration": 30,
    "start_time": "2023-09-13T10:23:21.700Z"
   },
   {
    "duration": 10,
    "start_time": "2023-09-13T10:23:21.732Z"
   },
   {
    "duration": 271,
    "start_time": "2023-09-13T10:23:21.743Z"
   },
   {
    "duration": 679,
    "start_time": "2023-09-13T10:23:22.016Z"
   },
   {
    "duration": 111,
    "start_time": "2023-09-13T10:25:00.549Z"
   },
   {
    "duration": 1422,
    "start_time": "2023-09-13T10:25:22.532Z"
   },
   {
    "duration": 76,
    "start_time": "2023-09-13T10:25:23.955Z"
   },
   {
    "duration": 5,
    "start_time": "2023-09-13T10:25:24.033Z"
   },
   {
    "duration": 120,
    "start_time": "2023-09-13T10:25:24.039Z"
   },
   {
    "duration": 9,
    "start_time": "2023-09-13T10:25:24.162Z"
   },
   {
    "duration": 89,
    "start_time": "2023-09-13T10:25:24.172Z"
   },
   {
    "duration": 17,
    "start_time": "2023-09-13T10:25:24.262Z"
   },
   {
    "duration": 90,
    "start_time": "2023-09-13T10:25:24.280Z"
   },
   {
    "duration": 25,
    "start_time": "2023-09-13T10:25:24.372Z"
   },
   {
    "duration": 45,
    "start_time": "2023-09-13T10:25:24.398Z"
   },
   {
    "duration": 57,
    "start_time": "2023-09-13T10:25:24.444Z"
   },
   {
    "duration": 49,
    "start_time": "2023-09-13T10:25:24.503Z"
   },
   {
    "duration": 99,
    "start_time": "2023-09-13T10:25:24.554Z"
   },
   {
    "duration": 112,
    "start_time": "2023-09-13T10:25:24.656Z"
   },
   {
    "duration": 74,
    "start_time": "2023-09-13T10:25:24.769Z"
   },
   {
    "duration": 44,
    "start_time": "2023-09-13T10:25:24.845Z"
   },
   {
    "duration": 41,
    "start_time": "2023-09-13T10:25:24.891Z"
   },
   {
    "duration": 52,
    "start_time": "2023-09-13T10:25:24.933Z"
   },
   {
    "duration": 371,
    "start_time": "2023-09-13T10:25:24.987Z"
   },
   {
    "duration": 275,
    "start_time": "2023-09-13T10:25:25.360Z"
   },
   {
    "duration": 7,
    "start_time": "2023-09-13T10:25:25.637Z"
   },
   {
    "duration": 1136,
    "start_time": "2023-09-13T10:25:25.645Z"
   },
   {
    "duration": 584,
    "start_time": "2023-09-13T10:25:26.783Z"
   },
   {
    "duration": 6,
    "start_time": "2023-09-13T10:25:27.369Z"
   },
   {
    "duration": 570,
    "start_time": "2023-09-13T10:25:27.376Z"
   },
   {
    "duration": 545,
    "start_time": "2023-09-13T10:25:27.948Z"
   },
   {
    "duration": 612,
    "start_time": "2023-09-13T10:25:28.494Z"
   },
   {
    "duration": 384,
    "start_time": "2023-09-13T10:25:29.107Z"
   },
   {
    "duration": 556,
    "start_time": "2023-09-13T10:25:29.493Z"
   },
   {
    "duration": 589,
    "start_time": "2023-09-13T10:25:30.051Z"
   },
   {
    "duration": 7,
    "start_time": "2023-09-13T10:25:30.641Z"
   },
   {
    "duration": 193,
    "start_time": "2023-09-13T10:25:30.649Z"
   },
   {
    "duration": 593,
    "start_time": "2023-09-13T10:25:30.844Z"
   },
   {
    "duration": 349,
    "start_time": "2023-09-13T10:25:31.438Z"
   },
   {
    "duration": 6,
    "start_time": "2023-09-13T10:25:31.789Z"
   },
   {
    "duration": 27,
    "start_time": "2023-09-13T10:25:31.797Z"
   },
   {
    "duration": 51,
    "start_time": "2023-09-13T10:25:31.826Z"
   },
   {
    "duration": 88,
    "start_time": "2023-09-13T10:25:31.879Z"
   },
   {
    "duration": 86,
    "start_time": "2023-09-13T10:25:31.969Z"
   },
   {
    "duration": 100,
    "start_time": "2023-09-13T10:25:32.056Z"
   },
   {
    "duration": 32,
    "start_time": "2023-09-13T10:25:32.160Z"
   },
   {
    "duration": 46,
    "start_time": "2023-09-13T10:25:32.194Z"
   },
   {
    "duration": 48,
    "start_time": "2023-09-13T10:25:32.242Z"
   },
   {
    "duration": 31,
    "start_time": "2023-09-13T10:25:32.292Z"
   },
   {
    "duration": 54,
    "start_time": "2023-09-13T10:25:32.325Z"
   },
   {
    "duration": 15,
    "start_time": "2023-09-13T10:25:32.381Z"
   },
   {
    "duration": 309,
    "start_time": "2023-09-13T10:25:32.398Z"
   },
   {
    "duration": 700,
    "start_time": "2023-09-13T10:25:32.709Z"
   },
   {
    "duration": 114,
    "start_time": "2023-09-13T10:36:00.367Z"
   },
   {
    "duration": 1331,
    "start_time": "2023-09-13T10:36:25.496Z"
   },
   {
    "duration": 76,
    "start_time": "2023-09-13T10:36:26.829Z"
   },
   {
    "duration": 5,
    "start_time": "2023-09-13T10:36:26.907Z"
   },
   {
    "duration": 73,
    "start_time": "2023-09-13T10:36:26.913Z"
   },
   {
    "duration": 8,
    "start_time": "2023-09-13T10:36:26.988Z"
   },
   {
    "duration": 46,
    "start_time": "2023-09-13T10:36:27.025Z"
   },
   {
    "duration": 51,
    "start_time": "2023-09-13T10:36:27.073Z"
   },
   {
    "duration": 97,
    "start_time": "2023-09-13T10:36:27.127Z"
   },
   {
    "duration": 13,
    "start_time": "2023-09-13T10:36:27.226Z"
   },
   {
    "duration": 25,
    "start_time": "2023-09-13T10:36:27.240Z"
   },
   {
    "duration": 26,
    "start_time": "2023-09-13T10:36:27.266Z"
   },
   {
    "duration": 20,
    "start_time": "2023-09-13T10:36:27.294Z"
   },
   {
    "duration": 11,
    "start_time": "2023-09-13T10:36:27.315Z"
   },
   {
    "duration": 8,
    "start_time": "2023-09-13T10:36:27.328Z"
   },
   {
    "duration": 7,
    "start_time": "2023-09-13T10:36:27.337Z"
   },
   {
    "duration": 7,
    "start_time": "2023-09-13T10:36:27.346Z"
   },
   {
    "duration": 14,
    "start_time": "2023-09-13T10:36:27.355Z"
   },
   {
    "duration": 22,
    "start_time": "2023-09-13T10:36:27.371Z"
   },
   {
    "duration": 200,
    "start_time": "2023-09-13T10:36:27.394Z"
   },
   {
    "duration": 135,
    "start_time": "2023-09-13T10:36:27.595Z"
   },
   {
    "duration": 9,
    "start_time": "2023-09-13T10:36:27.732Z"
   },
   {
    "duration": 646,
    "start_time": "2023-09-13T10:36:27.743Z"
   },
   {
    "duration": 583,
    "start_time": "2023-09-13T10:36:28.391Z"
   },
   {
    "duration": 6,
    "start_time": "2023-09-13T10:36:28.976Z"
   },
   {
    "duration": 541,
    "start_time": "2023-09-13T10:36:28.983Z"
   },
   {
    "duration": 538,
    "start_time": "2023-09-13T10:36:29.526Z"
   },
   {
    "duration": 572,
    "start_time": "2023-09-13T10:36:30.067Z"
   },
   {
    "duration": 721,
    "start_time": "2023-09-13T10:36:30.641Z"
   },
   {
    "duration": 1060,
    "start_time": "2023-09-13T10:36:31.364Z"
   },
   {
    "duration": 732,
    "start_time": "2023-09-13T10:36:32.426Z"
   },
   {
    "duration": 6,
    "start_time": "2023-09-13T10:36:33.159Z"
   },
   {
    "duration": 74,
    "start_time": "2023-09-13T10:36:33.167Z"
   },
   {
    "duration": 501,
    "start_time": "2023-09-13T10:36:33.243Z"
   },
   {
    "duration": 339,
    "start_time": "2023-09-13T10:36:33.746Z"
   },
   {
    "duration": 7,
    "start_time": "2023-09-13T10:36:34.086Z"
   },
   {
    "duration": 7,
    "start_time": "2023-09-13T10:36:34.095Z"
   },
   {
    "duration": 26,
    "start_time": "2023-09-13T10:36:34.104Z"
   },
   {
    "duration": 8,
    "start_time": "2023-09-13T10:36:34.131Z"
   },
   {
    "duration": 17,
    "start_time": "2023-09-13T10:36:34.141Z"
   },
   {
    "duration": 38,
    "start_time": "2023-09-13T10:36:34.159Z"
   },
   {
    "duration": 10,
    "start_time": "2023-09-13T10:36:34.201Z"
   },
   {
    "duration": 17,
    "start_time": "2023-09-13T10:36:34.213Z"
   },
   {
    "duration": 8,
    "start_time": "2023-09-13T10:36:34.231Z"
   },
   {
    "duration": 9,
    "start_time": "2023-09-13T10:36:34.240Z"
   },
   {
    "duration": 38,
    "start_time": "2023-09-13T10:36:34.251Z"
   },
   {
    "duration": 11,
    "start_time": "2023-09-13T10:36:34.291Z"
   },
   {
    "duration": 267,
    "start_time": "2023-09-13T10:36:34.323Z"
   },
   {
    "duration": 692,
    "start_time": "2023-09-13T10:36:34.592Z"
   },
   {
    "duration": 421,
    "start_time": "2023-09-13T10:40:33.830Z"
   },
   {
    "duration": 1456,
    "start_time": "2023-09-13T10:40:42.612Z"
   },
   {
    "duration": 79,
    "start_time": "2023-09-13T10:40:44.070Z"
   },
   {
    "duration": 5,
    "start_time": "2023-09-13T10:40:44.151Z"
   },
   {
    "duration": 81,
    "start_time": "2023-09-13T10:40:44.158Z"
   },
   {
    "duration": 8,
    "start_time": "2023-09-13T10:40:44.242Z"
   },
   {
    "duration": 86,
    "start_time": "2023-09-13T10:40:44.252Z"
   },
   {
    "duration": 8,
    "start_time": "2023-09-13T10:40:44.340Z"
   },
   {
    "duration": 95,
    "start_time": "2023-09-13T10:40:44.350Z"
   },
   {
    "duration": 11,
    "start_time": "2023-09-13T10:40:44.446Z"
   },
   {
    "duration": 37,
    "start_time": "2023-09-13T10:40:44.458Z"
   },
   {
    "duration": 35,
    "start_time": "2023-09-13T10:40:44.496Z"
   },
   {
    "duration": 123,
    "start_time": "2023-09-13T10:40:44.533Z"
   },
   {
    "duration": 67,
    "start_time": "2023-09-13T10:40:44.658Z"
   },
   {
    "duration": 52,
    "start_time": "2023-09-13T10:40:44.729Z"
   },
   {
    "duration": 43,
    "start_time": "2023-09-13T10:40:44.783Z"
   },
   {
    "duration": 10,
    "start_time": "2023-09-13T10:40:44.828Z"
   },
   {
    "duration": 10,
    "start_time": "2023-09-13T10:40:44.840Z"
   },
   {
    "duration": 5,
    "start_time": "2023-09-13T10:40:44.852Z"
   },
   {
    "duration": 500,
    "start_time": "2023-09-13T10:40:44.858Z"
   },
   {
    "duration": 299,
    "start_time": "2023-09-13T10:40:45.359Z"
   },
   {
    "duration": 73,
    "start_time": "2023-09-13T10:40:45.659Z"
   },
   {
    "duration": 1118,
    "start_time": "2023-09-13T10:40:45.734Z"
   },
   {
    "duration": 573,
    "start_time": "2023-09-13T10:40:46.853Z"
   },
   {
    "duration": 7,
    "start_time": "2023-09-13T10:40:47.427Z"
   },
   {
    "duration": 792,
    "start_time": "2023-09-13T10:40:47.436Z"
   },
   {
    "duration": 578,
    "start_time": "2023-09-13T10:40:48.231Z"
   },
   {
    "duration": 661,
    "start_time": "2023-09-13T10:40:48.811Z"
   },
   {
    "duration": 445,
    "start_time": "2023-09-13T10:40:49.474Z"
   },
   {
    "duration": 588,
    "start_time": "2023-09-13T10:40:49.924Z"
   },
   {
    "duration": 621,
    "start_time": "2023-09-13T10:40:50.513Z"
   },
   {
    "duration": 7,
    "start_time": "2023-09-13T10:40:51.135Z"
   },
   {
    "duration": 83,
    "start_time": "2023-09-13T10:40:51.145Z"
   },
   {
    "duration": 537,
    "start_time": "2023-09-13T10:40:51.230Z"
   },
   {
    "duration": 581,
    "start_time": "2023-09-13T10:40:51.769Z"
   },
   {
    "duration": 6,
    "start_time": "2023-09-13T10:40:52.352Z"
   },
   {
    "duration": 106,
    "start_time": "2023-09-13T10:40:52.360Z"
   },
   {
    "duration": 213,
    "start_time": "2023-09-13T10:40:52.468Z"
   },
   {
    "duration": 253,
    "start_time": "2023-09-13T10:40:52.683Z"
   },
   {
    "duration": 34,
    "start_time": "2023-09-13T10:40:52.938Z"
   },
   {
    "duration": 79,
    "start_time": "2023-09-13T10:40:52.974Z"
   },
   {
    "duration": 206,
    "start_time": "2023-09-13T10:40:53.057Z"
   },
   {
    "duration": 89,
    "start_time": "2023-09-13T10:40:53.265Z"
   },
   {
    "duration": 174,
    "start_time": "2023-09-13T10:40:53.356Z"
   },
   {
    "duration": 150,
    "start_time": "2023-09-13T10:40:53.532Z"
   },
   {
    "duration": 86,
    "start_time": "2023-09-13T10:40:53.684Z"
   },
   {
    "duration": 218,
    "start_time": "2023-09-13T10:40:53.772Z"
   },
   {
    "duration": 406,
    "start_time": "2023-09-13T10:40:53.991Z"
   },
   {
    "duration": 718,
    "start_time": "2023-09-13T10:40:54.399Z"
   },
   {
    "duration": 1632,
    "start_time": "2023-09-13T10:44:05.829Z"
   },
   {
    "duration": 110,
    "start_time": "2023-09-13T10:44:07.464Z"
   },
   {
    "duration": 5,
    "start_time": "2023-09-13T10:44:07.575Z"
   },
   {
    "duration": 255,
    "start_time": "2023-09-13T10:44:07.581Z"
   },
   {
    "duration": 17,
    "start_time": "2023-09-13T10:44:07.839Z"
   },
   {
    "duration": 112,
    "start_time": "2023-09-13T10:44:07.857Z"
   },
   {
    "duration": 10,
    "start_time": "2023-09-13T10:44:08.024Z"
   },
   {
    "duration": 115,
    "start_time": "2023-09-13T10:44:08.035Z"
   },
   {
    "duration": 11,
    "start_time": "2023-09-13T10:44:08.151Z"
   },
   {
    "duration": 182,
    "start_time": "2023-09-13T10:44:08.163Z"
   },
   {
    "duration": 141,
    "start_time": "2023-09-13T10:44:08.347Z"
   },
   {
    "duration": 222,
    "start_time": "2023-09-13T10:44:08.490Z"
   },
   {
    "duration": 122,
    "start_time": "2023-09-13T10:44:08.714Z"
   },
   {
    "duration": 26,
    "start_time": "2023-09-13T10:44:08.839Z"
   },
   {
    "duration": 45,
    "start_time": "2023-09-13T10:44:08.867Z"
   },
   {
    "duration": 74,
    "start_time": "2023-09-13T10:44:08.914Z"
   },
   {
    "duration": 63,
    "start_time": "2023-09-13T10:44:08.989Z"
   },
   {
    "duration": 65,
    "start_time": "2023-09-13T10:44:09.053Z"
   },
   {
    "duration": 220,
    "start_time": "2023-09-13T10:44:09.119Z"
   },
   {
    "duration": 143,
    "start_time": "2023-09-13T10:44:09.340Z"
   },
   {
    "duration": 14,
    "start_time": "2023-09-13T10:44:09.485Z"
   },
   {
    "duration": 610,
    "start_time": "2023-09-13T10:44:09.501Z"
   },
   {
    "duration": 547,
    "start_time": "2023-09-13T10:44:10.112Z"
   },
   {
    "duration": 6,
    "start_time": "2023-09-13T10:44:10.661Z"
   },
   {
    "duration": 509,
    "start_time": "2023-09-13T10:44:10.668Z"
   },
   {
    "duration": 513,
    "start_time": "2023-09-13T10:44:11.178Z"
   },
   {
    "duration": 481,
    "start_time": "2023-09-13T10:44:11.692Z"
   },
   {
    "duration": 429,
    "start_time": "2023-09-13T10:44:12.175Z"
   },
   {
    "duration": 488,
    "start_time": "2023-09-13T10:44:12.606Z"
   },
   {
    "duration": 472,
    "start_time": "2023-09-13T10:44:13.095Z"
   },
   {
    "duration": 6,
    "start_time": "2023-09-13T10:44:13.570Z"
   },
   {
    "duration": 38,
    "start_time": "2023-09-13T10:44:13.578Z"
   },
   {
    "duration": 389,
    "start_time": "2023-09-13T10:44:13.617Z"
   },
   {
    "duration": 340,
    "start_time": "2023-09-13T10:44:14.007Z"
   },
   {
    "duration": 6,
    "start_time": "2023-09-13T10:44:14.349Z"
   },
   {
    "duration": 162,
    "start_time": "2023-09-13T10:44:14.356Z"
   },
   {
    "duration": 96,
    "start_time": "2023-09-13T10:44:14.519Z"
   },
   {
    "duration": 197,
    "start_time": "2023-09-13T10:44:14.617Z"
   },
   {
    "duration": 200,
    "start_time": "2023-09-13T10:44:14.815Z"
   },
   {
    "duration": 149,
    "start_time": "2023-09-13T10:44:15.017Z"
   },
   {
    "duration": 122,
    "start_time": "2023-09-13T10:44:15.169Z"
   },
   {
    "duration": 68,
    "start_time": "2023-09-13T10:44:15.292Z"
   },
   {
    "duration": 73,
    "start_time": "2023-09-13T10:44:15.362Z"
   },
   {
    "duration": 138,
    "start_time": "2023-09-13T10:44:15.436Z"
   },
   {
    "duration": 69,
    "start_time": "2023-09-13T10:44:15.575Z"
   },
   {
    "duration": 26,
    "start_time": "2023-09-13T10:44:15.646Z"
   },
   {
    "duration": 309,
    "start_time": "2023-09-13T10:44:15.674Z"
   },
   {
    "duration": 625,
    "start_time": "2023-09-13T10:44:15.985Z"
   },
   {
    "duration": 1464,
    "start_time": "2023-09-20T08:20:22.049Z"
   },
   {
    "duration": 188,
    "start_time": "2023-09-20T08:20:23.515Z"
   },
   {
    "duration": 5,
    "start_time": "2023-09-20T08:20:23.705Z"
   },
   {
    "duration": 89,
    "start_time": "2023-09-20T08:20:23.713Z"
   },
   {
    "duration": 10,
    "start_time": "2023-09-20T08:20:23.804Z"
   },
   {
    "duration": 62,
    "start_time": "2023-09-20T08:20:23.844Z"
   },
   {
    "duration": 8,
    "start_time": "2023-09-20T08:20:23.907Z"
   },
   {
    "duration": 65,
    "start_time": "2023-09-20T08:20:23.916Z"
   },
   {
    "duration": 11,
    "start_time": "2023-09-20T08:20:23.983Z"
   },
   {
    "duration": 26,
    "start_time": "2023-09-20T08:20:23.997Z"
   },
   {
    "duration": 32,
    "start_time": "2023-09-20T08:20:24.025Z"
   },
   {
    "duration": 216,
    "start_time": "2023-09-20T08:20:24.063Z"
   },
   {
    "duration": 145,
    "start_time": "2023-09-20T08:20:24.281Z"
   },
   {
    "duration": 19,
    "start_time": "2023-09-20T08:20:24.428Z"
   },
   {
    "duration": 436,
    "start_time": "2023-09-20T08:20:24.449Z"
   },
   {
    "duration": 304,
    "start_time": "2023-09-20T08:20:24.887Z"
   },
   {
    "duration": 6,
    "start_time": "2023-09-20T08:20:25.193Z"
   },
   {
    "duration": 457,
    "start_time": "2023-09-20T08:20:25.201Z"
   },
   {
    "duration": 622,
    "start_time": "2023-09-20T08:20:25.661Z"
   },
   {
    "duration": 700,
    "start_time": "2023-09-20T08:20:26.284Z"
   },
   {
    "duration": 462,
    "start_time": "2023-09-20T08:20:26.985Z"
   },
   {
    "duration": 616,
    "start_time": "2023-09-20T08:20:27.449Z"
   },
   {
    "duration": 813,
    "start_time": "2023-09-20T08:20:28.067Z"
   },
   {
    "duration": 6,
    "start_time": "2023-09-20T08:20:28.881Z"
   },
   {
    "duration": 60,
    "start_time": "2023-09-20T08:20:28.889Z"
   },
   {
    "duration": 399,
    "start_time": "2023-09-20T08:20:28.952Z"
   },
   {
    "duration": 318,
    "start_time": "2023-09-20T08:20:29.353Z"
   },
   {
    "duration": 6,
    "start_time": "2023-09-20T08:20:29.674Z"
   },
   {
    "duration": 62,
    "start_time": "2023-09-20T08:20:29.682Z"
   },
   {
    "duration": 27,
    "start_time": "2023-09-20T08:20:29.746Z"
   },
   {
    "duration": 69,
    "start_time": "2023-09-20T08:20:29.775Z"
   },
   {
    "duration": 5,
    "start_time": "2023-09-20T08:20:29.846Z"
   },
   {
    "duration": 95,
    "start_time": "2023-09-20T08:20:29.853Z"
   },
   {
    "duration": 13,
    "start_time": "2023-09-20T08:20:29.949Z"
   },
   {
    "duration": 34,
    "start_time": "2023-09-20T08:20:29.963Z"
   },
   {
    "duration": 59,
    "start_time": "2023-09-20T08:20:29.998Z"
   },
   {
    "duration": 74,
    "start_time": "2023-09-20T08:20:30.059Z"
   },
   {
    "duration": 50,
    "start_time": "2023-09-20T08:20:30.135Z"
   },
   {
    "duration": 18,
    "start_time": "2023-09-20T08:20:30.187Z"
   },
   {
    "duration": 275,
    "start_time": "2023-09-20T08:20:30.207Z"
   },
   {
    "duration": 305,
    "start_time": "2023-09-20T08:20:30.484Z"
   },
   {
    "duration": 2247,
    "start_time": "2023-09-20T08:40:35.367Z"
   },
   {
    "duration": 1303,
    "start_time": "2023-09-20T08:40:43.510Z"
   },
   {
    "duration": 77,
    "start_time": "2023-09-20T08:40:44.815Z"
   },
   {
    "duration": 5,
    "start_time": "2023-09-20T08:40:44.893Z"
   },
   {
    "duration": 115,
    "start_time": "2023-09-20T08:40:44.900Z"
   },
   {
    "duration": 8,
    "start_time": "2023-09-20T08:40:45.017Z"
   },
   {
    "duration": 88,
    "start_time": "2023-09-20T08:40:45.027Z"
   },
   {
    "duration": 9,
    "start_time": "2023-09-20T08:40:45.116Z"
   },
   {
    "duration": 71,
    "start_time": "2023-09-20T08:40:45.127Z"
   },
   {
    "duration": 10,
    "start_time": "2023-09-20T08:40:45.200Z"
   },
   {
    "duration": 82,
    "start_time": "2023-09-20T08:40:45.213Z"
   },
   {
    "duration": 28,
    "start_time": "2023-09-20T08:40:45.297Z"
   },
   {
    "duration": 235,
    "start_time": "2023-09-20T08:40:45.328Z"
   },
   {
    "duration": 122,
    "start_time": "2023-09-20T08:40:45.565Z"
   },
   {
    "duration": 47,
    "start_time": "2023-09-20T08:40:45.689Z"
   },
   {
    "duration": 394,
    "start_time": "2023-09-20T08:40:45.738Z"
   },
   {
    "duration": 514,
    "start_time": "2023-09-20T08:40:46.134Z"
   },
   {
    "duration": 7,
    "start_time": "2023-09-20T08:40:46.650Z"
   },
   {
    "duration": 797,
    "start_time": "2023-09-20T08:40:46.658Z"
   },
   {
    "duration": 627,
    "start_time": "2023-09-20T08:40:47.457Z"
   },
   {
    "duration": 556,
    "start_time": "2023-09-20T08:40:48.086Z"
   },
   {
    "duration": 217,
    "start_time": "2023-09-20T08:40:48.644Z"
   },
   {
    "duration": 326,
    "start_time": "2023-09-20T08:40:48.865Z"
   },
   {
    "duration": 387,
    "start_time": "2023-09-20T08:40:49.194Z"
   },
   {
    "duration": 6,
    "start_time": "2023-09-20T08:40:49.605Z"
   },
   {
    "duration": 9,
    "start_time": "2023-09-20T08:40:49.613Z"
   },
   {
    "duration": 171,
    "start_time": "2023-09-20T08:40:49.623Z"
   },
   {
    "duration": 165,
    "start_time": "2023-09-20T08:40:49.795Z"
   },
   {
    "duration": 7,
    "start_time": "2023-09-20T08:40:49.965Z"
   },
   {
    "duration": 21,
    "start_time": "2023-09-20T08:40:49.973Z"
   },
   {
    "duration": 34,
    "start_time": "2023-09-20T08:40:49.995Z"
   },
   {
    "duration": 51,
    "start_time": "2023-09-20T08:40:50.031Z"
   },
   {
    "duration": 24,
    "start_time": "2023-09-20T08:40:50.084Z"
   },
   {
    "duration": 39,
    "start_time": "2023-09-20T08:40:50.109Z"
   },
   {
    "duration": 17,
    "start_time": "2023-09-20T08:40:50.150Z"
   },
   {
    "duration": 10,
    "start_time": "2023-09-20T08:40:50.169Z"
   },
   {
    "duration": 31,
    "start_time": "2023-09-20T08:40:50.180Z"
   },
   {
    "duration": 36,
    "start_time": "2023-09-20T08:40:50.213Z"
   },
   {
    "duration": 47,
    "start_time": "2023-09-20T08:40:50.252Z"
   },
   {
    "duration": 61,
    "start_time": "2023-09-20T08:40:50.301Z"
   },
   {
    "duration": 300,
    "start_time": "2023-09-20T08:40:50.365Z"
   },
   {
    "duration": 331,
    "start_time": "2023-09-20T08:40:50.668Z"
   },
   {
    "duration": 2051,
    "start_time": "2023-09-20T08:41:13.723Z"
   },
   {
    "duration": 1437,
    "start_time": "2023-09-20T08:41:20.060Z"
   },
   {
    "duration": 75,
    "start_time": "2023-09-20T08:41:21.500Z"
   },
   {
    "duration": 4,
    "start_time": "2023-09-20T08:41:21.577Z"
   },
   {
    "duration": 56,
    "start_time": "2023-09-20T08:41:21.583Z"
   },
   {
    "duration": 11,
    "start_time": "2023-09-20T08:41:21.641Z"
   },
   {
    "duration": 58,
    "start_time": "2023-09-20T08:41:21.653Z"
   },
   {
    "duration": 21,
    "start_time": "2023-09-20T08:41:21.713Z"
   },
   {
    "duration": 110,
    "start_time": "2023-09-20T08:41:21.735Z"
   },
   {
    "duration": 19,
    "start_time": "2023-09-20T08:41:21.848Z"
   },
   {
    "duration": 87,
    "start_time": "2023-09-20T08:41:21.871Z"
   },
   {
    "duration": 22,
    "start_time": "2023-09-20T08:41:21.959Z"
   },
   {
    "duration": 492,
    "start_time": "2023-09-20T08:41:21.983Z"
   },
   {
    "duration": 280,
    "start_time": "2023-09-20T08:41:22.477Z"
   },
   {
    "duration": 9,
    "start_time": "2023-09-20T08:41:22.759Z"
   },
   {
    "duration": 884,
    "start_time": "2023-09-20T08:41:22.770Z"
   },
   {
    "duration": 665,
    "start_time": "2023-09-20T08:41:23.657Z"
   },
   {
    "duration": 6,
    "start_time": "2023-09-20T08:41:24.324Z"
   },
   {
    "duration": 453,
    "start_time": "2023-09-20T08:41:24.331Z"
   },
   {
    "duration": 277,
    "start_time": "2023-09-20T08:41:24.786Z"
   },
   {
    "duration": 357,
    "start_time": "2023-09-20T08:41:25.065Z"
   },
   {
    "duration": 204,
    "start_time": "2023-09-20T08:41:25.424Z"
   },
   {
    "duration": 274,
    "start_time": "2023-09-20T08:41:25.630Z"
   },
   {
    "duration": 370,
    "start_time": "2023-09-20T08:41:25.906Z"
   },
   {
    "duration": 8,
    "start_time": "2023-09-20T08:41:26.278Z"
   },
   {
    "duration": 35,
    "start_time": "2023-09-20T08:41:26.288Z"
   },
   {
    "duration": 214,
    "start_time": "2023-09-20T08:41:26.325Z"
   },
   {
    "duration": 179,
    "start_time": "2023-09-20T08:41:26.541Z"
   },
   {
    "duration": 6,
    "start_time": "2023-09-20T08:41:26.723Z"
   },
   {
    "duration": 26,
    "start_time": "2023-09-20T08:41:26.730Z"
   },
   {
    "duration": 26,
    "start_time": "2023-09-20T08:41:26.758Z"
   },
   {
    "duration": 22,
    "start_time": "2023-09-20T08:41:26.786Z"
   },
   {
    "duration": 24,
    "start_time": "2023-09-20T08:41:26.810Z"
   },
   {
    "duration": 48,
    "start_time": "2023-09-20T08:41:26.835Z"
   },
   {
    "duration": 15,
    "start_time": "2023-09-20T08:41:26.885Z"
   },
   {
    "duration": 29,
    "start_time": "2023-09-20T08:41:26.902Z"
   },
   {
    "duration": 26,
    "start_time": "2023-09-20T08:41:26.933Z"
   },
   {
    "duration": 22,
    "start_time": "2023-09-20T08:41:26.962Z"
   },
   {
    "duration": 45,
    "start_time": "2023-09-20T08:41:26.986Z"
   },
   {
    "duration": 13,
    "start_time": "2023-09-20T08:41:27.033Z"
   },
   {
    "duration": 274,
    "start_time": "2023-09-20T08:41:27.048Z"
   },
   {
    "duration": 302,
    "start_time": "2023-09-20T08:41:27.324Z"
   },
   {
    "duration": 1511,
    "start_time": "2023-09-20T08:53:37.744Z"
   },
   {
    "duration": 105,
    "start_time": "2023-09-20T08:53:39.258Z"
   },
   {
    "duration": 5,
    "start_time": "2023-09-20T08:53:39.365Z"
   },
   {
    "duration": 185,
    "start_time": "2023-09-20T08:53:39.373Z"
   },
   {
    "duration": 12,
    "start_time": "2023-09-20T08:53:39.560Z"
   },
   {
    "duration": 179,
    "start_time": "2023-09-20T08:53:39.574Z"
   },
   {
    "duration": 14,
    "start_time": "2023-09-20T08:53:39.755Z"
   },
   {
    "duration": 118,
    "start_time": "2023-09-20T08:53:39.771Z"
   },
   {
    "duration": 17,
    "start_time": "2023-09-20T08:53:39.945Z"
   },
   {
    "duration": 85,
    "start_time": "2023-09-20T08:53:39.966Z"
   },
   {
    "duration": 21,
    "start_time": "2023-09-20T08:53:40.054Z"
   },
   {
    "duration": 502,
    "start_time": "2023-09-20T08:53:40.076Z"
   },
   {
    "duration": 249,
    "start_time": "2023-09-20T08:53:40.580Z"
   },
   {
    "duration": 6,
    "start_time": "2023-09-20T08:53:40.830Z"
   },
   {
    "duration": 453,
    "start_time": "2023-09-20T08:53:40.843Z"
   },
   {
    "duration": 304,
    "start_time": "2023-09-20T08:53:41.298Z"
   },
   {
    "duration": 6,
    "start_time": "2023-09-20T08:53:41.603Z"
   },
   {
    "duration": 437,
    "start_time": "2023-09-20T08:53:41.611Z"
   },
   {
    "duration": 298,
    "start_time": "2023-09-20T08:53:42.050Z"
   },
   {
    "duration": 385,
    "start_time": "2023-09-20T08:53:42.351Z"
   },
   {
    "duration": 235,
    "start_time": "2023-09-20T08:53:42.738Z"
   },
   {
    "duration": 291,
    "start_time": "2023-09-20T08:53:42.975Z"
   },
   {
    "duration": 353,
    "start_time": "2023-09-20T08:53:43.268Z"
   },
   {
    "duration": 11,
    "start_time": "2023-09-20T08:53:43.657Z"
   },
   {
    "duration": 21,
    "start_time": "2023-09-20T08:53:43.670Z"
   },
   {
    "duration": 233,
    "start_time": "2023-09-20T08:53:43.693Z"
   },
   {
    "duration": 188,
    "start_time": "2023-09-20T08:53:43.928Z"
   },
   {
    "duration": 6,
    "start_time": "2023-09-20T08:53:44.119Z"
   },
   {
    "duration": 50,
    "start_time": "2023-09-20T08:53:44.126Z"
   },
   {
    "duration": 48,
    "start_time": "2023-09-20T08:53:44.177Z"
   },
   {
    "duration": 44,
    "start_time": "2023-09-20T08:53:44.226Z"
   },
   {
    "duration": 20,
    "start_time": "2023-09-20T08:53:44.272Z"
   },
   {
    "duration": 49,
    "start_time": "2023-09-20T08:53:44.294Z"
   },
   {
    "duration": 23,
    "start_time": "2023-09-20T08:53:44.346Z"
   },
   {
    "duration": 44,
    "start_time": "2023-09-20T08:53:44.371Z"
   },
   {
    "duration": 24,
    "start_time": "2023-09-20T08:53:44.417Z"
   },
   {
    "duration": 22,
    "start_time": "2023-09-20T08:53:44.443Z"
   },
   {
    "duration": 61,
    "start_time": "2023-09-20T08:53:44.467Z"
   },
   {
    "duration": 17,
    "start_time": "2023-09-20T08:53:44.530Z"
   },
   {
    "duration": 310,
    "start_time": "2023-09-20T08:53:44.553Z"
   },
   {
    "duration": 336,
    "start_time": "2023-09-20T08:53:44.866Z"
   },
   {
    "duration": 286,
    "start_time": "2023-09-20T08:54:09.769Z"
   },
   {
    "duration": 302,
    "start_time": "2023-09-20T08:54:17.114Z"
   },
   {
    "duration": 280,
    "start_time": "2023-09-20T08:54:33.264Z"
   },
   {
    "duration": 336,
    "start_time": "2023-09-20T08:54:47.368Z"
   },
   {
    "duration": 315,
    "start_time": "2023-09-20T08:55:30.507Z"
   },
   {
    "duration": 264,
    "start_time": "2023-09-20T08:55:38.208Z"
   },
   {
    "duration": 246,
    "start_time": "2023-09-20T09:01:37.982Z"
   },
   {
    "duration": 1246,
    "start_time": "2023-09-20T09:01:47.969Z"
   },
   {
    "duration": 77,
    "start_time": "2023-09-20T09:01:49.216Z"
   },
   {
    "duration": 4,
    "start_time": "2023-09-20T09:01:49.295Z"
   },
   {
    "duration": 105,
    "start_time": "2023-09-20T09:01:49.300Z"
   },
   {
    "duration": 8,
    "start_time": "2023-09-20T09:01:49.407Z"
   },
   {
    "duration": 57,
    "start_time": "2023-09-20T09:01:49.446Z"
   },
   {
    "duration": 41,
    "start_time": "2023-09-20T09:01:49.505Z"
   },
   {
    "duration": 47,
    "start_time": "2023-09-20T09:01:49.547Z"
   },
   {
    "duration": 49,
    "start_time": "2023-09-20T09:01:49.595Z"
   },
   {
    "duration": 21,
    "start_time": "2023-09-20T09:01:49.646Z"
   },
   {
    "duration": 22,
    "start_time": "2023-09-20T09:01:49.670Z"
   },
   {
    "duration": 226,
    "start_time": "2023-09-20T09:01:49.693Z"
   },
   {
    "duration": 147,
    "start_time": "2023-09-20T09:01:49.920Z"
   },
   {
    "duration": 8,
    "start_time": "2023-09-20T09:01:50.070Z"
   },
   {
    "duration": 439,
    "start_time": "2023-09-20T09:01:50.079Z"
   },
   {
    "duration": 314,
    "start_time": "2023-09-20T09:01:50.520Z"
   },
   {
    "duration": 12,
    "start_time": "2023-09-20T09:01:50.844Z"
   },
   {
    "duration": 807,
    "start_time": "2023-09-20T09:01:50.858Z"
   },
   {
    "duration": 777,
    "start_time": "2023-09-20T09:01:51.667Z"
   },
   {
    "duration": 836,
    "start_time": "2023-09-20T09:01:52.446Z"
   },
   {
    "duration": 386,
    "start_time": "2023-09-20T09:01:53.284Z"
   },
   {
    "duration": 340,
    "start_time": "2023-09-20T09:01:53.672Z"
   },
   {
    "duration": 394,
    "start_time": "2023-09-20T09:01:54.014Z"
   },
   {
    "duration": 8,
    "start_time": "2023-09-20T09:01:54.410Z"
   },
   {
    "duration": 13,
    "start_time": "2023-09-20T09:01:54.420Z"
   },
   {
    "duration": 253,
    "start_time": "2023-09-20T09:01:54.435Z"
   },
   {
    "duration": 218,
    "start_time": "2023-09-20T09:01:54.691Z"
   },
   {
    "duration": 7,
    "start_time": "2023-09-20T09:01:54.911Z"
   },
   {
    "duration": 99,
    "start_time": "2023-09-20T09:01:54.920Z"
   },
   {
    "duration": 32,
    "start_time": "2023-09-20T09:01:55.021Z"
   },
   {
    "duration": 23,
    "start_time": "2023-09-20T09:01:55.056Z"
   },
   {
    "duration": 35,
    "start_time": "2023-09-20T09:01:55.080Z"
   },
   {
    "duration": 159,
    "start_time": "2023-09-20T09:01:55.117Z"
   },
   {
    "duration": 51,
    "start_time": "2023-09-20T09:01:55.278Z"
   },
   {
    "duration": 39,
    "start_time": "2023-09-20T09:01:55.332Z"
   },
   {
    "duration": 45,
    "start_time": "2023-09-20T09:01:55.373Z"
   },
   {
    "duration": 22,
    "start_time": "2023-09-20T09:01:55.420Z"
   },
   {
    "duration": 78,
    "start_time": "2023-09-20T09:01:55.444Z"
   },
   {
    "duration": 19,
    "start_time": "2023-09-20T09:01:55.524Z"
   },
   {
    "duration": 321,
    "start_time": "2023-09-20T09:01:55.547Z"
   },
   {
    "duration": 337,
    "start_time": "2023-09-20T09:01:55.872Z"
   },
   {
    "duration": 157,
    "start_time": "2023-09-20T09:02:01.803Z"
   },
   {
    "duration": 1502,
    "start_time": "2023-09-20T09:02:38.228Z"
   },
   {
    "duration": 78,
    "start_time": "2023-09-20T09:02:39.732Z"
   },
   {
    "duration": 4,
    "start_time": "2023-09-20T09:02:39.812Z"
   },
   {
    "duration": 92,
    "start_time": "2023-09-20T09:02:39.818Z"
   },
   {
    "duration": 8,
    "start_time": "2023-09-20T09:02:39.912Z"
   },
   {
    "duration": 95,
    "start_time": "2023-09-20T09:02:39.921Z"
   },
   {
    "duration": 47,
    "start_time": "2023-09-20T09:02:40.018Z"
   },
   {
    "duration": 109,
    "start_time": "2023-09-20T09:02:40.067Z"
   },
   {
    "duration": 23,
    "start_time": "2023-09-20T09:02:40.178Z"
   },
   {
    "duration": 56,
    "start_time": "2023-09-20T09:02:40.203Z"
   },
   {
    "duration": 27,
    "start_time": "2023-09-20T09:02:40.261Z"
   },
   {
    "duration": 243,
    "start_time": "2023-09-20T09:02:40.289Z"
   },
   {
    "duration": 151,
    "start_time": "2023-09-20T09:02:40.534Z"
   },
   {
    "duration": 82,
    "start_time": "2023-09-20T09:02:40.688Z"
   },
   {
    "duration": 437,
    "start_time": "2023-09-20T09:02:40.772Z"
   },
   {
    "duration": 340,
    "start_time": "2023-09-20T09:02:41.211Z"
   },
   {
    "duration": 7,
    "start_time": "2023-09-20T09:02:41.553Z"
   },
   {
    "duration": 803,
    "start_time": "2023-09-20T09:02:41.562Z"
   },
   {
    "duration": 792,
    "start_time": "2023-09-20T09:02:42.367Z"
   },
   {
    "duration": 788,
    "start_time": "2023-09-20T09:02:43.161Z"
   },
   {
    "duration": 260,
    "start_time": "2023-09-20T09:02:43.952Z"
   },
   {
    "duration": 324,
    "start_time": "2023-09-20T09:02:44.214Z"
   },
   {
    "duration": 480,
    "start_time": "2023-09-20T09:02:44.540Z"
   },
   {
    "duration": 7,
    "start_time": "2023-09-20T09:02:45.022Z"
   },
   {
    "duration": 136,
    "start_time": "2023-09-20T09:02:45.032Z"
   },
   {
    "duration": 226,
    "start_time": "2023-09-20T09:02:45.170Z"
   },
   {
    "duration": 175,
    "start_time": "2023-09-20T09:02:45.398Z"
   },
   {
    "duration": 6,
    "start_time": "2023-09-20T09:02:45.577Z"
   },
   {
    "duration": 66,
    "start_time": "2023-09-20T09:02:45.585Z"
   },
   {
    "duration": 63,
    "start_time": "2023-09-20T09:02:45.653Z"
   },
   {
    "duration": 17,
    "start_time": "2023-09-20T09:02:45.718Z"
   },
   {
    "duration": 34,
    "start_time": "2023-09-20T09:02:45.737Z"
   },
   {
    "duration": 75,
    "start_time": "2023-09-20T09:02:45.773Z"
   },
   {
    "duration": 19,
    "start_time": "2023-09-20T09:02:45.851Z"
   },
   {
    "duration": 42,
    "start_time": "2023-09-20T09:02:45.872Z"
   },
   {
    "duration": 43,
    "start_time": "2023-09-20T09:02:45.916Z"
   },
   {
    "duration": 51,
    "start_time": "2023-09-20T09:02:45.962Z"
   },
   {
    "duration": 82,
    "start_time": "2023-09-20T09:02:46.014Z"
   },
   {
    "duration": 14,
    "start_time": "2023-09-20T09:02:46.099Z"
   },
   {
    "duration": 329,
    "start_time": "2023-09-20T09:02:46.115Z"
   },
   {
    "duration": 344,
    "start_time": "2023-09-20T09:02:46.446Z"
   },
   {
    "duration": 1493,
    "start_time": "2023-09-20T09:18:13.456Z"
   },
   {
    "duration": 92,
    "start_time": "2023-09-20T09:18:14.952Z"
   },
   {
    "duration": 9,
    "start_time": "2023-09-20T09:18:15.051Z"
   },
   {
    "duration": 193,
    "start_time": "2023-09-20T09:18:15.062Z"
   },
   {
    "duration": 12,
    "start_time": "2023-09-20T09:18:15.259Z"
   },
   {
    "duration": 194,
    "start_time": "2023-09-20T09:18:15.273Z"
   },
   {
    "duration": 10,
    "start_time": "2023-09-20T09:18:15.469Z"
   },
   {
    "duration": 166,
    "start_time": "2023-09-20T09:18:15.480Z"
   },
   {
    "duration": 25,
    "start_time": "2023-09-20T09:18:15.648Z"
   },
   {
    "duration": 82,
    "start_time": "2023-09-20T09:18:15.675Z"
   },
   {
    "duration": 36,
    "start_time": "2023-09-20T09:18:15.759Z"
   },
   {
    "duration": 554,
    "start_time": "2023-09-20T09:18:15.797Z"
   },
   {
    "duration": 333,
    "start_time": "2023-09-20T09:18:16.353Z"
   },
   {
    "duration": 63,
    "start_time": "2023-09-20T09:18:16.689Z"
   },
   {
    "duration": 491,
    "start_time": "2023-09-20T09:18:16.754Z"
   },
   {
    "duration": 297,
    "start_time": "2023-09-20T09:18:17.247Z"
   },
   {
    "duration": 10,
    "start_time": "2023-09-20T09:18:17.546Z"
   },
   {
    "duration": 380,
    "start_time": "2023-09-20T09:18:17.558Z"
   },
   {
    "duration": 331,
    "start_time": "2023-09-20T09:18:17.950Z"
   },
   {
    "duration": 369,
    "start_time": "2023-09-20T09:18:18.283Z"
   },
   {
    "duration": 216,
    "start_time": "2023-09-20T09:18:18.655Z"
   },
   {
    "duration": 308,
    "start_time": "2023-09-20T09:18:18.872Z"
   },
   {
    "duration": 382,
    "start_time": "2023-09-20T09:18:19.182Z"
   },
   {
    "duration": 6,
    "start_time": "2023-09-20T09:18:19.567Z"
   },
   {
    "duration": 12,
    "start_time": "2023-09-20T09:18:19.575Z"
   },
   {
    "duration": 189,
    "start_time": "2023-09-20T09:18:19.589Z"
   },
   {
    "duration": 187,
    "start_time": "2023-09-20T09:18:19.780Z"
   },
   {
    "duration": 7,
    "start_time": "2023-09-20T09:18:19.969Z"
   },
   {
    "duration": 148,
    "start_time": "2023-09-20T09:18:19.977Z"
   },
   {
    "duration": 23,
    "start_time": "2023-09-20T09:18:20.127Z"
   },
   {
    "duration": 32,
    "start_time": "2023-09-20T09:18:20.152Z"
   },
   {
    "duration": 15,
    "start_time": "2023-09-20T09:18:20.186Z"
   },
   {
    "duration": 36,
    "start_time": "2023-09-20T09:18:20.203Z"
   },
   {
    "duration": 16,
    "start_time": "2023-09-20T09:18:20.241Z"
   },
   {
    "duration": 17,
    "start_time": "2023-09-20T09:18:20.259Z"
   },
   {
    "duration": 50,
    "start_time": "2023-09-20T09:18:20.278Z"
   },
   {
    "duration": 16,
    "start_time": "2023-09-20T09:18:20.330Z"
   },
   {
    "duration": 36,
    "start_time": "2023-09-20T09:18:20.348Z"
   },
   {
    "duration": 10,
    "start_time": "2023-09-20T09:18:20.385Z"
   },
   {
    "duration": 282,
    "start_time": "2023-09-20T09:18:20.397Z"
   },
   {
    "duration": 289,
    "start_time": "2023-09-20T09:18:20.682Z"
   },
   {
    "duration": 124,
    "start_time": "2023-09-20T09:23:33.254Z"
   },
   {
    "duration": 1224,
    "start_time": "2023-09-20T09:23:38.866Z"
   },
   {
    "duration": 76,
    "start_time": "2023-09-20T09:23:40.092Z"
   },
   {
    "duration": 5,
    "start_time": "2023-09-20T09:23:40.169Z"
   },
   {
    "duration": 59,
    "start_time": "2023-09-20T09:23:40.175Z"
   },
   {
    "duration": 15,
    "start_time": "2023-09-20T09:23:40.236Z"
   },
   {
    "duration": 67,
    "start_time": "2023-09-20T09:23:40.253Z"
   },
   {
    "duration": 28,
    "start_time": "2023-09-20T09:23:40.322Z"
   },
   {
    "duration": 62,
    "start_time": "2023-09-20T09:23:40.352Z"
   },
   {
    "duration": 146,
    "start_time": "2023-09-20T09:23:40.416Z"
   },
   {
    "duration": 0,
    "start_time": "2023-09-20T09:23:40.566Z"
   },
   {
    "duration": 0,
    "start_time": "2023-09-20T09:23:40.568Z"
   },
   {
    "duration": 0,
    "start_time": "2023-09-20T09:23:40.570Z"
   },
   {
    "duration": 0,
    "start_time": "2023-09-20T09:23:40.572Z"
   },
   {
    "duration": 0,
    "start_time": "2023-09-20T09:23:40.573Z"
   },
   {
    "duration": 0,
    "start_time": "2023-09-20T09:23:40.575Z"
   },
   {
    "duration": 0,
    "start_time": "2023-09-20T09:23:40.576Z"
   },
   {
    "duration": 0,
    "start_time": "2023-09-20T09:23:40.576Z"
   },
   {
    "duration": 0,
    "start_time": "2023-09-20T09:23:40.577Z"
   },
   {
    "duration": 0,
    "start_time": "2023-09-20T09:23:40.580Z"
   },
   {
    "duration": 0,
    "start_time": "2023-09-20T09:23:40.581Z"
   },
   {
    "duration": 0,
    "start_time": "2023-09-20T09:23:40.583Z"
   },
   {
    "duration": 0,
    "start_time": "2023-09-20T09:23:40.585Z"
   },
   {
    "duration": 0,
    "start_time": "2023-09-20T09:23:40.586Z"
   },
   {
    "duration": 0,
    "start_time": "2023-09-20T09:23:40.588Z"
   },
   {
    "duration": 0,
    "start_time": "2023-09-20T09:23:40.590Z"
   },
   {
    "duration": 0,
    "start_time": "2023-09-20T09:23:40.592Z"
   },
   {
    "duration": 0,
    "start_time": "2023-09-20T09:23:40.594Z"
   },
   {
    "duration": 0,
    "start_time": "2023-09-20T09:23:40.596Z"
   },
   {
    "duration": 0,
    "start_time": "2023-09-20T09:23:40.597Z"
   },
   {
    "duration": 0,
    "start_time": "2023-09-20T09:23:40.647Z"
   },
   {
    "duration": 0,
    "start_time": "2023-09-20T09:23:40.648Z"
   },
   {
    "duration": 1,
    "start_time": "2023-09-20T09:23:40.649Z"
   },
   {
    "duration": 0,
    "start_time": "2023-09-20T09:23:40.651Z"
   },
   {
    "duration": 0,
    "start_time": "2023-09-20T09:23:40.653Z"
   },
   {
    "duration": 0,
    "start_time": "2023-09-20T09:23:40.654Z"
   },
   {
    "duration": 0,
    "start_time": "2023-09-20T09:23:40.658Z"
   },
   {
    "duration": 0,
    "start_time": "2023-09-20T09:23:40.660Z"
   },
   {
    "duration": 0,
    "start_time": "2023-09-20T09:23:40.661Z"
   },
   {
    "duration": 0,
    "start_time": "2023-09-20T09:23:40.663Z"
   },
   {
    "duration": 0,
    "start_time": "2023-09-20T09:23:40.664Z"
   },
   {
    "duration": 0,
    "start_time": "2023-09-20T09:23:40.666Z"
   },
   {
    "duration": 13,
    "start_time": "2023-09-20T09:23:51.114Z"
   },
   {
    "duration": 1245,
    "start_time": "2023-09-20T09:24:07.428Z"
   },
   {
    "duration": 75,
    "start_time": "2023-09-20T09:24:08.675Z"
   },
   {
    "duration": 7,
    "start_time": "2023-09-20T09:24:08.753Z"
   },
   {
    "duration": 87,
    "start_time": "2023-09-20T09:24:08.763Z"
   },
   {
    "duration": 14,
    "start_time": "2023-09-20T09:24:08.852Z"
   },
   {
    "duration": 82,
    "start_time": "2023-09-20T09:24:08.868Z"
   },
   {
    "duration": 16,
    "start_time": "2023-09-20T09:24:08.952Z"
   },
   {
    "duration": 83,
    "start_time": "2023-09-20T09:24:08.970Z"
   },
   {
    "duration": 19,
    "start_time": "2023-09-20T09:24:09.055Z"
   },
   {
    "duration": 16,
    "start_time": "2023-09-20T09:24:09.077Z"
   },
   {
    "duration": 8,
    "start_time": "2023-09-20T09:24:09.094Z"
   },
   {
    "duration": 233,
    "start_time": "2023-09-20T09:24:09.103Z"
   },
   {
    "duration": 144,
    "start_time": "2023-09-20T09:24:09.338Z"
   },
   {
    "duration": 7,
    "start_time": "2023-09-20T09:24:09.483Z"
   },
   {
    "duration": 402,
    "start_time": "2023-09-20T09:24:09.492Z"
   },
   {
    "duration": 311,
    "start_time": "2023-09-20T09:24:09.896Z"
   },
   {
    "duration": 6,
    "start_time": "2023-09-20T09:24:10.209Z"
   },
   {
    "duration": 429,
    "start_time": "2023-09-20T09:24:10.217Z"
   },
   {
    "duration": 315,
    "start_time": "2023-09-20T09:24:10.649Z"
   },
   {
    "duration": 404,
    "start_time": "2023-09-20T09:24:10.966Z"
   },
   {
    "duration": 207,
    "start_time": "2023-09-20T09:24:11.372Z"
   },
   {
    "duration": 326,
    "start_time": "2023-09-20T09:24:11.582Z"
   },
   {
    "duration": 409,
    "start_time": "2023-09-20T09:24:11.911Z"
   },
   {
    "duration": 9,
    "start_time": "2023-09-20T09:24:12.322Z"
   },
   {
    "duration": 47,
    "start_time": "2023-09-20T09:24:12.333Z"
   },
   {
    "duration": 208,
    "start_time": "2023-09-20T09:24:12.383Z"
   },
   {
    "duration": 186,
    "start_time": "2023-09-20T09:24:12.592Z"
   },
   {
    "duration": 6,
    "start_time": "2023-09-20T09:24:12.782Z"
   },
   {
    "duration": 26,
    "start_time": "2023-09-20T09:24:12.789Z"
   },
   {
    "duration": 13,
    "start_time": "2023-09-20T09:24:12.817Z"
   },
   {
    "duration": 24,
    "start_time": "2023-09-20T09:24:12.832Z"
   },
   {
    "duration": 11,
    "start_time": "2023-09-20T09:24:12.859Z"
   },
   {
    "duration": 36,
    "start_time": "2023-09-20T09:24:12.872Z"
   },
   {
    "duration": 11,
    "start_time": "2023-09-20T09:24:12.910Z"
   },
   {
    "duration": 11,
    "start_time": "2023-09-20T09:24:12.924Z"
   },
   {
    "duration": 11,
    "start_time": "2023-09-20T09:24:12.950Z"
   },
   {
    "duration": 12,
    "start_time": "2023-09-20T09:24:12.964Z"
   },
   {
    "duration": 33,
    "start_time": "2023-09-20T09:24:12.978Z"
   },
   {
    "duration": 11,
    "start_time": "2023-09-20T09:24:13.013Z"
   },
   {
    "duration": 304,
    "start_time": "2023-09-20T09:24:13.026Z"
   },
   {
    "duration": 318,
    "start_time": "2023-09-20T09:24:13.332Z"
   },
   {
    "duration": 1236,
    "start_time": "2023-09-20T09:27:37.840Z"
   },
   {
    "duration": 77,
    "start_time": "2023-09-20T09:27:39.078Z"
   },
   {
    "duration": 5,
    "start_time": "2023-09-20T09:27:39.157Z"
   },
   {
    "duration": 72,
    "start_time": "2023-09-20T09:27:39.164Z"
   },
   {
    "duration": 20,
    "start_time": "2023-09-20T09:27:39.238Z"
   },
   {
    "duration": 85,
    "start_time": "2023-09-20T09:27:39.261Z"
   },
   {
    "duration": 10,
    "start_time": "2023-09-20T09:27:39.348Z"
   },
   {
    "duration": 61,
    "start_time": "2023-09-20T09:27:39.360Z"
   },
   {
    "duration": 25,
    "start_time": "2023-09-20T09:27:39.423Z"
   },
   {
    "duration": 47,
    "start_time": "2023-09-20T09:27:39.450Z"
   },
   {
    "duration": 29,
    "start_time": "2023-09-20T09:27:39.499Z"
   },
   {
    "duration": 198,
    "start_time": "2023-09-20T09:27:39.530Z"
   },
   {
    "duration": 142,
    "start_time": "2023-09-20T09:27:39.730Z"
   },
   {
    "duration": 7,
    "start_time": "2023-09-20T09:27:39.875Z"
   },
   {
    "duration": 433,
    "start_time": "2023-09-20T09:27:39.883Z"
   },
   {
    "duration": 310,
    "start_time": "2023-09-20T09:27:40.317Z"
   },
   {
    "duration": 14,
    "start_time": "2023-09-20T09:27:40.629Z"
   },
   {
    "duration": 378,
    "start_time": "2023-09-20T09:27:40.645Z"
   },
   {
    "duration": 301,
    "start_time": "2023-09-20T09:27:41.026Z"
   },
   {
    "duration": 388,
    "start_time": "2023-09-20T09:27:41.328Z"
   },
   {
    "duration": 202,
    "start_time": "2023-09-20T09:27:41.718Z"
   },
   {
    "duration": 272,
    "start_time": "2023-09-20T09:27:41.922Z"
   },
   {
    "duration": 412,
    "start_time": "2023-09-20T09:27:42.196Z"
   },
   {
    "duration": 6,
    "start_time": "2023-09-20T09:27:42.610Z"
   },
   {
    "duration": 21,
    "start_time": "2023-09-20T09:27:42.617Z"
   },
   {
    "duration": 167,
    "start_time": "2023-09-20T09:27:42.640Z"
   },
   {
    "duration": 159,
    "start_time": "2023-09-20T09:27:42.809Z"
   },
   {
    "duration": 7,
    "start_time": "2023-09-20T09:27:42.970Z"
   },
   {
    "duration": 26,
    "start_time": "2023-09-20T09:27:42.978Z"
   },
   {
    "duration": 29,
    "start_time": "2023-09-20T09:27:43.006Z"
   },
   {
    "duration": 34,
    "start_time": "2023-09-20T09:27:43.037Z"
   },
   {
    "duration": 36,
    "start_time": "2023-09-20T09:27:43.072Z"
   },
   {
    "duration": 68,
    "start_time": "2023-09-20T09:27:43.110Z"
   },
   {
    "duration": 10,
    "start_time": "2023-09-20T09:27:43.180Z"
   },
   {
    "duration": 21,
    "start_time": "2023-09-20T09:27:43.191Z"
   },
   {
    "duration": 25,
    "start_time": "2023-09-20T09:27:43.213Z"
   },
   {
    "duration": 38,
    "start_time": "2023-09-20T09:27:43.240Z"
   },
   {
    "duration": 53,
    "start_time": "2023-09-20T09:27:43.280Z"
   },
   {
    "duration": 10,
    "start_time": "2023-09-20T09:27:43.334Z"
   },
   {
    "duration": 324,
    "start_time": "2023-09-20T09:27:43.346Z"
   },
   {
    "duration": 363,
    "start_time": "2023-09-20T09:27:43.673Z"
   },
   {
    "duration": 14,
    "start_time": "2023-09-20T09:32:24.377Z"
   },
   {
    "duration": 11,
    "start_time": "2023-09-20T09:32:30.027Z"
   },
   {
    "duration": 1343,
    "start_time": "2023-09-20T11:31:32.006Z"
   },
   {
    "duration": 214,
    "start_time": "2023-09-20T11:31:33.352Z"
   },
   {
    "duration": 4,
    "start_time": "2023-09-20T11:31:33.570Z"
   },
   {
    "duration": 61,
    "start_time": "2023-09-20T11:31:33.575Z"
   },
   {
    "duration": 15,
    "start_time": "2023-09-20T11:31:33.638Z"
   },
   {
    "duration": 47,
    "start_time": "2023-09-20T11:31:33.655Z"
   },
   {
    "duration": 9,
    "start_time": "2023-09-20T11:31:33.749Z"
   },
   {
    "duration": 47,
    "start_time": "2023-09-20T11:31:33.760Z"
   },
   {
    "duration": 49,
    "start_time": "2023-09-20T11:31:33.810Z"
   },
   {
    "duration": 27,
    "start_time": "2023-09-20T11:31:33.860Z"
   },
   {
    "duration": 11,
    "start_time": "2023-09-20T11:31:33.889Z"
   },
   {
    "duration": 184,
    "start_time": "2023-09-20T11:31:33.901Z"
   },
   {
    "duration": 117,
    "start_time": "2023-09-20T11:31:34.086Z"
   },
   {
    "duration": 7,
    "start_time": "2023-09-20T11:31:34.204Z"
   },
   {
    "duration": 356,
    "start_time": "2023-09-20T11:31:34.213Z"
   },
   {
    "duration": 271,
    "start_time": "2023-09-20T11:31:34.570Z"
   },
   {
    "duration": 9,
    "start_time": "2023-09-20T11:31:34.843Z"
   },
   {
    "duration": 431,
    "start_time": "2023-09-20T11:31:34.853Z"
   },
   {
    "duration": 287,
    "start_time": "2023-09-20T11:31:35.286Z"
   },
   {
    "duration": 357,
    "start_time": "2023-09-20T11:31:35.575Z"
   },
   {
    "duration": 255,
    "start_time": "2023-09-20T11:31:35.935Z"
   },
   {
    "duration": 273,
    "start_time": "2023-09-20T11:31:36.191Z"
   },
   {
    "duration": 337,
    "start_time": "2023-09-20T11:31:36.466Z"
   },
   {
    "duration": 8,
    "start_time": "2023-09-20T11:31:36.805Z"
   },
   {
    "duration": 7,
    "start_time": "2023-09-20T11:31:36.815Z"
   },
   {
    "duration": 175,
    "start_time": "2023-09-20T11:31:36.824Z"
   },
   {
    "duration": 159,
    "start_time": "2023-09-20T11:31:37.002Z"
   },
   {
    "duration": 6,
    "start_time": "2023-09-20T11:31:37.163Z"
   },
   {
    "duration": 30,
    "start_time": "2023-09-20T11:31:37.170Z"
   },
   {
    "duration": 18,
    "start_time": "2023-09-20T11:31:37.201Z"
   },
   {
    "duration": 38,
    "start_time": "2023-09-20T11:31:37.220Z"
   },
   {
    "duration": 5,
    "start_time": "2023-09-20T11:31:37.260Z"
   },
   {
    "duration": 25,
    "start_time": "2023-09-20T11:31:37.267Z"
   },
   {
    "duration": 10,
    "start_time": "2023-09-20T11:31:37.294Z"
   },
   {
    "duration": 16,
    "start_time": "2023-09-20T11:31:37.305Z"
   },
   {
    "duration": 21,
    "start_time": "2023-09-20T11:31:37.322Z"
   },
   {
    "duration": 16,
    "start_time": "2023-09-20T11:31:37.344Z"
   },
   {
    "duration": 49,
    "start_time": "2023-09-20T11:31:37.361Z"
   },
   {
    "duration": 38,
    "start_time": "2023-09-20T11:31:37.411Z"
   },
   {
    "duration": 259,
    "start_time": "2023-09-20T11:31:37.452Z"
   },
   {
    "duration": 274,
    "start_time": "2023-09-20T11:31:37.712Z"
   },
   {
    "duration": 111,
    "start_time": "2023-09-20T11:34:37.309Z"
   },
   {
    "duration": 1705,
    "start_time": "2023-09-20T12:50:13.186Z"
   },
   {
    "duration": 242,
    "start_time": "2023-09-20T12:50:14.945Z"
   },
   {
    "duration": 5,
    "start_time": "2023-09-20T12:50:15.189Z"
   },
   {
    "duration": 149,
    "start_time": "2023-09-20T12:50:15.196Z"
   },
   {
    "duration": 11,
    "start_time": "2023-09-20T12:50:15.347Z"
   },
   {
    "duration": 191,
    "start_time": "2023-09-20T12:50:15.360Z"
   },
   {
    "duration": 10,
    "start_time": "2023-09-20T12:50:15.553Z"
   },
   {
    "duration": 119,
    "start_time": "2023-09-20T12:50:15.564Z"
   },
   {
    "duration": 72,
    "start_time": "2023-09-20T12:50:15.685Z"
   },
   {
    "duration": 88,
    "start_time": "2023-09-20T12:50:15.760Z"
   },
   {
    "duration": 41,
    "start_time": "2023-09-20T12:50:15.850Z"
   },
   {
    "duration": 76,
    "start_time": "2023-09-20T12:50:15.893Z"
   },
   {
    "duration": 51,
    "start_time": "2023-09-20T12:50:15.971Z"
   },
   {
    "duration": 30,
    "start_time": "2023-09-20T12:50:16.044Z"
   },
   {
    "duration": 38,
    "start_time": "2023-09-20T12:50:16.076Z"
   },
   {
    "duration": 44,
    "start_time": "2023-09-20T12:50:16.116Z"
   },
   {
    "duration": 21,
    "start_time": "2023-09-20T12:50:16.161Z"
   },
   {
    "duration": 234,
    "start_time": "2023-09-20T12:50:16.183Z"
   },
   {
    "duration": 151,
    "start_time": "2023-09-20T12:50:16.419Z"
   },
   {
    "duration": 7,
    "start_time": "2023-09-20T12:50:16.572Z"
   },
   {
    "duration": 451,
    "start_time": "2023-09-20T12:50:16.581Z"
   },
   {
    "duration": 320,
    "start_time": "2023-09-20T12:50:17.034Z"
   },
   {
    "duration": 7,
    "start_time": "2023-09-20T12:50:17.356Z"
   },
   {
    "duration": 490,
    "start_time": "2023-09-20T12:50:17.365Z"
   },
   {
    "duration": 299,
    "start_time": "2023-09-20T12:50:17.857Z"
   },
   {
    "duration": 362,
    "start_time": "2023-09-20T12:50:18.158Z"
   },
   {
    "duration": 187,
    "start_time": "2023-09-20T12:50:18.522Z"
   },
   {
    "duration": 283,
    "start_time": "2023-09-20T12:50:18.713Z"
   },
   {
    "duration": 376,
    "start_time": "2023-09-20T12:50:18.998Z"
   },
   {
    "duration": 8,
    "start_time": "2023-09-20T12:50:19.377Z"
   },
   {
    "duration": 22,
    "start_time": "2023-09-20T12:50:19.387Z"
   },
   {
    "duration": 212,
    "start_time": "2023-09-20T12:50:19.412Z"
   },
   {
    "duration": 159,
    "start_time": "2023-09-20T12:50:19.625Z"
   },
   {
    "duration": 6,
    "start_time": "2023-09-20T12:50:19.786Z"
   },
   {
    "duration": 48,
    "start_time": "2023-09-20T12:50:19.794Z"
   },
   {
    "duration": 47,
    "start_time": "2023-09-20T12:50:19.844Z"
   },
   {
    "duration": 38,
    "start_time": "2023-09-20T12:50:19.893Z"
   },
   {
    "duration": 43,
    "start_time": "2023-09-20T12:50:19.934Z"
   },
   {
    "duration": 48,
    "start_time": "2023-09-20T12:50:19.979Z"
   },
   {
    "duration": 33,
    "start_time": "2023-09-20T12:50:20.029Z"
   },
   {
    "duration": 51,
    "start_time": "2023-09-20T12:50:20.064Z"
   },
   {
    "duration": 22,
    "start_time": "2023-09-20T12:50:20.117Z"
   },
   {
    "duration": 41,
    "start_time": "2023-09-20T12:50:20.140Z"
   },
   {
    "duration": 54,
    "start_time": "2023-09-20T12:50:20.183Z"
   },
   {
    "duration": 44,
    "start_time": "2023-09-20T12:50:20.239Z"
   },
   {
    "duration": 294,
    "start_time": "2023-09-20T12:50:20.285Z"
   },
   {
    "duration": 298,
    "start_time": "2023-09-20T12:50:20.581Z"
   },
   {
    "duration": 22,
    "start_time": "2023-09-20T12:53:59.795Z"
   },
   {
    "duration": 23,
    "start_time": "2023-09-20T12:54:56.662Z"
   },
   {
    "duration": 5,
    "start_time": "2023-09-20T12:57:51.727Z"
   },
   {
    "duration": 7,
    "start_time": "2023-09-20T12:58:14.747Z"
   },
   {
    "duration": 8,
    "start_time": "2023-09-20T12:58:17.667Z"
   },
   {
    "duration": 1215,
    "start_time": "2023-09-20T12:58:22.582Z"
   },
   {
    "duration": 81,
    "start_time": "2023-09-20T12:58:23.800Z"
   },
   {
    "duration": 4,
    "start_time": "2023-09-20T12:58:23.883Z"
   },
   {
    "duration": 68,
    "start_time": "2023-09-20T12:58:23.889Z"
   },
   {
    "duration": 9,
    "start_time": "2023-09-20T12:58:23.958Z"
   },
   {
    "duration": 82,
    "start_time": "2023-09-20T12:58:23.969Z"
   },
   {
    "duration": 7,
    "start_time": "2023-09-20T12:58:24.053Z"
   },
   {
    "duration": 70,
    "start_time": "2023-09-20T12:58:24.062Z"
   },
   {
    "duration": 15,
    "start_time": "2023-09-20T12:58:24.134Z"
   },
   {
    "duration": 13,
    "start_time": "2023-09-20T12:58:24.151Z"
   },
   {
    "duration": 33,
    "start_time": "2023-09-20T12:58:24.165Z"
   },
   {
    "duration": 5,
    "start_time": "2023-09-20T12:58:24.200Z"
   },
   {
    "duration": 11,
    "start_time": "2023-09-20T12:58:24.207Z"
   },
   {
    "duration": 7,
    "start_time": "2023-09-20T12:58:24.244Z"
   },
   {
    "duration": 30,
    "start_time": "2023-09-20T12:58:24.253Z"
   },
   {
    "duration": 64,
    "start_time": "2023-09-20T12:58:24.285Z"
   },
   {
    "duration": 42,
    "start_time": "2023-09-20T12:58:24.350Z"
   },
   {
    "duration": 450,
    "start_time": "2023-09-20T12:58:24.394Z"
   },
   {
    "duration": 219,
    "start_time": "2023-09-20T12:58:24.845Z"
   },
   {
    "duration": 7,
    "start_time": "2023-09-20T12:58:25.066Z"
   },
   {
    "duration": 774,
    "start_time": "2023-09-20T12:58:25.074Z"
   },
   {
    "duration": 321,
    "start_time": "2023-09-20T12:58:25.850Z"
   },
   {
    "duration": 5,
    "start_time": "2023-09-20T12:58:26.173Z"
   },
   {
    "duration": 399,
    "start_time": "2023-09-20T12:58:26.180Z"
   },
   {
    "duration": 266,
    "start_time": "2023-09-20T12:58:26.581Z"
   },
   {
    "duration": 349,
    "start_time": "2023-09-20T12:58:26.849Z"
   },
   {
    "duration": 180,
    "start_time": "2023-09-20T12:58:27.200Z"
   },
   {
    "duration": 247,
    "start_time": "2023-09-20T12:58:27.383Z"
   },
   {
    "duration": 328,
    "start_time": "2023-09-20T12:58:27.631Z"
   },
   {
    "duration": 5,
    "start_time": "2023-09-20T12:58:27.961Z"
   },
   {
    "duration": 27,
    "start_time": "2023-09-20T12:58:27.968Z"
   },
   {
    "duration": 187,
    "start_time": "2023-09-20T12:58:27.996Z"
   },
   {
    "duration": 157,
    "start_time": "2023-09-20T12:58:28.184Z"
   },
   {
    "duration": 6,
    "start_time": "2023-09-20T12:58:28.343Z"
   },
   {
    "duration": 21,
    "start_time": "2023-09-20T12:58:28.350Z"
   },
   {
    "duration": 30,
    "start_time": "2023-09-20T12:58:28.373Z"
   },
   {
    "duration": 41,
    "start_time": "2023-09-20T12:58:28.405Z"
   },
   {
    "duration": 30,
    "start_time": "2023-09-20T12:58:28.448Z"
   },
   {
    "duration": 50,
    "start_time": "2023-09-20T12:58:28.479Z"
   },
   {
    "duration": 19,
    "start_time": "2023-09-20T12:58:28.530Z"
   },
   {
    "duration": 43,
    "start_time": "2023-09-20T12:58:28.550Z"
   },
   {
    "duration": 35,
    "start_time": "2023-09-20T12:58:28.595Z"
   },
   {
    "duration": 40,
    "start_time": "2023-09-20T12:58:28.632Z"
   },
   {
    "duration": 53,
    "start_time": "2023-09-20T12:58:28.674Z"
   },
   {
    "duration": 23,
    "start_time": "2023-09-20T12:58:28.729Z"
   },
   {
    "duration": 255,
    "start_time": "2023-09-20T12:58:28.753Z"
   },
   {
    "duration": 281,
    "start_time": "2023-09-20T12:58:29.010Z"
   },
   {
    "duration": 20,
    "start_time": "2023-09-20T12:59:36.038Z"
   },
   {
    "duration": 1474,
    "start_time": "2023-09-20T12:59:55.384Z"
   },
   {
    "duration": 105,
    "start_time": "2023-09-20T12:59:56.860Z"
   },
   {
    "duration": 4,
    "start_time": "2023-09-20T12:59:56.967Z"
   },
   {
    "duration": 100,
    "start_time": "2023-09-20T12:59:56.973Z"
   },
   {
    "duration": 6,
    "start_time": "2023-09-20T12:59:57.075Z"
   },
   {
    "duration": 107,
    "start_time": "2023-09-20T12:59:57.083Z"
   },
   {
    "duration": 11,
    "start_time": "2023-09-20T12:59:57.249Z"
   },
   {
    "duration": 98,
    "start_time": "2023-09-20T12:59:57.262Z"
   },
   {
    "duration": 11,
    "start_time": "2023-09-20T12:59:57.361Z"
   },
   {
    "duration": 73,
    "start_time": "2023-09-20T12:59:57.374Z"
   },
   {
    "duration": 29,
    "start_time": "2023-09-20T12:59:57.448Z"
   },
   {
    "duration": 5,
    "start_time": "2023-09-20T12:59:57.479Z"
   },
   {
    "duration": 72,
    "start_time": "2023-09-20T12:59:57.485Z"
   },
   {
    "duration": 7,
    "start_time": "2023-09-20T12:59:57.559Z"
   },
   {
    "duration": 9,
    "start_time": "2023-09-20T12:59:57.567Z"
   },
   {
    "duration": 8,
    "start_time": "2023-09-20T12:59:57.578Z"
   },
   {
    "duration": 79,
    "start_time": "2023-09-20T12:59:57.588Z"
   },
   {
    "duration": 4,
    "start_time": "2023-09-20T12:59:57.669Z"
   },
   {
    "duration": 400,
    "start_time": "2023-09-20T12:59:57.675Z"
   },
   {
    "duration": 182,
    "start_time": "2023-09-20T12:59:58.077Z"
   },
   {
    "duration": 7,
    "start_time": "2023-09-20T12:59:58.261Z"
   },
   {
    "duration": 371,
    "start_time": "2023-09-20T12:59:58.270Z"
   },
   {
    "duration": 283,
    "start_time": "2023-09-20T12:59:58.644Z"
   },
   {
    "duration": 6,
    "start_time": "2023-09-20T12:59:58.929Z"
   },
   {
    "duration": 385,
    "start_time": "2023-09-20T12:59:58.949Z"
   },
   {
    "duration": 289,
    "start_time": "2023-09-20T12:59:59.335Z"
   },
   {
    "duration": 382,
    "start_time": "2023-09-20T12:59:59.625Z"
   },
   {
    "duration": 189,
    "start_time": "2023-09-20T13:00:00.010Z"
   },
   {
    "duration": 265,
    "start_time": "2023-09-20T13:00:00.201Z"
   },
   {
    "duration": 334,
    "start_time": "2023-09-20T13:00:00.468Z"
   },
   {
    "duration": 6,
    "start_time": "2023-09-20T13:00:00.832Z"
   },
   {
    "duration": 46,
    "start_time": "2023-09-20T13:00:00.840Z"
   },
   {
    "duration": 235,
    "start_time": "2023-09-20T13:00:00.888Z"
   },
   {
    "duration": 158,
    "start_time": "2023-09-20T13:00:01.125Z"
   },
   {
    "duration": 5,
    "start_time": "2023-09-20T13:00:01.284Z"
   },
   {
    "duration": 66,
    "start_time": "2023-09-20T13:00:01.291Z"
   },
   {
    "duration": 102,
    "start_time": "2023-09-20T13:00:01.359Z"
   },
   {
    "duration": 71,
    "start_time": "2023-09-20T13:00:01.463Z"
   },
   {
    "duration": 40,
    "start_time": "2023-09-20T13:00:01.535Z"
   },
   {
    "duration": 136,
    "start_time": "2023-09-20T13:00:01.577Z"
   },
   {
    "duration": 153,
    "start_time": "2023-09-20T13:00:01.715Z"
   },
   {
    "duration": 239,
    "start_time": "2023-09-20T13:00:01.870Z"
   },
   {
    "duration": 393,
    "start_time": "2023-09-20T13:00:02.111Z"
   },
   {
    "duration": 119,
    "start_time": "2023-09-20T13:00:02.506Z"
   },
   {
    "duration": 81,
    "start_time": "2023-09-20T13:00:02.627Z"
   },
   {
    "duration": 44,
    "start_time": "2023-09-20T13:00:02.710Z"
   },
   {
    "duration": 291,
    "start_time": "2023-09-20T13:00:02.756Z"
   },
   {
    "duration": 305,
    "start_time": "2023-09-20T13:00:03.053Z"
   },
   {
    "duration": 1241,
    "start_time": "2023-09-20T13:04:16.877Z"
   },
   {
    "duration": 78,
    "start_time": "2023-09-20T13:04:18.120Z"
   },
   {
    "duration": 4,
    "start_time": "2023-09-20T13:04:18.200Z"
   },
   {
    "duration": 98,
    "start_time": "2023-09-20T13:04:18.206Z"
   },
   {
    "duration": 9,
    "start_time": "2023-09-20T13:04:18.305Z"
   },
   {
    "duration": 79,
    "start_time": "2023-09-20T13:04:18.343Z"
   },
   {
    "duration": 20,
    "start_time": "2023-09-20T13:04:18.424Z"
   },
   {
    "duration": 60,
    "start_time": "2023-09-20T13:04:18.446Z"
   },
   {
    "duration": 11,
    "start_time": "2023-09-20T13:04:18.508Z"
   },
   {
    "duration": 51,
    "start_time": "2023-09-20T13:04:18.521Z"
   },
   {
    "duration": 31,
    "start_time": "2023-09-20T13:04:18.576Z"
   },
   {
    "duration": 5,
    "start_time": "2023-09-20T13:04:18.609Z"
   },
   {
    "duration": 28,
    "start_time": "2023-09-20T13:04:18.616Z"
   },
   {
    "duration": 16,
    "start_time": "2023-09-20T13:04:18.646Z"
   },
   {
    "duration": 41,
    "start_time": "2023-09-20T13:04:18.664Z"
   },
   {
    "duration": 16,
    "start_time": "2023-09-20T13:04:18.707Z"
   },
   {
    "duration": 22,
    "start_time": "2023-09-20T13:04:18.725Z"
   },
   {
    "duration": 212,
    "start_time": "2023-09-20T13:04:18.749Z"
   },
   {
    "duration": 146,
    "start_time": "2023-09-20T13:04:18.964Z"
   },
   {
    "duration": 7,
    "start_time": "2023-09-20T13:04:19.112Z"
   },
   {
    "duration": 414,
    "start_time": "2023-09-20T13:04:19.120Z"
   },
   {
    "duration": 625,
    "start_time": "2023-09-20T13:04:19.537Z"
   },
   {
    "duration": 6,
    "start_time": "2023-09-20T13:04:20.164Z"
   },
   {
    "duration": 699,
    "start_time": "2023-09-20T13:04:20.172Z"
   },
   {
    "duration": 685,
    "start_time": "2023-09-20T13:04:20.873Z"
   },
   {
    "duration": 531,
    "start_time": "2023-09-20T13:04:21.560Z"
   },
   {
    "duration": 188,
    "start_time": "2023-09-20T13:04:22.093Z"
   },
   {
    "duration": 265,
    "start_time": "2023-09-20T13:04:22.286Z"
   },
   {
    "duration": 379,
    "start_time": "2023-09-20T13:04:22.553Z"
   },
   {
    "duration": 6,
    "start_time": "2023-09-20T13:04:22.933Z"
   },
   {
    "duration": 45,
    "start_time": "2023-09-20T13:04:22.941Z"
   },
   {
    "duration": 235,
    "start_time": "2023-09-20T13:04:22.988Z"
   },
   {
    "duration": 169,
    "start_time": "2023-09-20T13:04:23.225Z"
   },
   {
    "duration": 7,
    "start_time": "2023-09-20T13:04:23.396Z"
   },
   {
    "duration": 32,
    "start_time": "2023-09-20T13:04:23.405Z"
   },
   {
    "duration": 39,
    "start_time": "2023-09-20T13:04:23.439Z"
   },
   {
    "duration": 14,
    "start_time": "2023-09-20T13:04:23.480Z"
   },
   {
    "duration": 19,
    "start_time": "2023-09-20T13:04:23.496Z"
   },
   {
    "duration": 43,
    "start_time": "2023-09-20T13:04:23.516Z"
   },
   {
    "duration": 26,
    "start_time": "2023-09-20T13:04:23.561Z"
   },
   {
    "duration": 58,
    "start_time": "2023-09-20T13:04:23.589Z"
   },
   {
    "duration": 43,
    "start_time": "2023-09-20T13:04:23.649Z"
   },
   {
    "duration": 12,
    "start_time": "2023-09-20T13:04:23.694Z"
   },
   {
    "duration": 103,
    "start_time": "2023-09-20T13:04:23.708Z"
   },
   {
    "duration": 15,
    "start_time": "2023-09-20T13:04:23.814Z"
   },
   {
    "duration": 308,
    "start_time": "2023-09-20T13:04:23.831Z"
   },
   {
    "duration": 321,
    "start_time": "2023-09-20T13:04:24.141Z"
   },
   {
    "duration": 19,
    "start_time": "2023-09-20T13:11:32.827Z"
   },
   {
    "duration": 9,
    "start_time": "2023-09-20T13:15:32.631Z"
   },
   {
    "duration": 1576,
    "start_time": "2023-09-20T13:15:40.768Z"
   },
   {
    "duration": 99,
    "start_time": "2023-09-20T13:15:42.346Z"
   },
   {
    "duration": 5,
    "start_time": "2023-09-20T13:15:42.446Z"
   },
   {
    "duration": 111,
    "start_time": "2023-09-20T13:15:42.452Z"
   },
   {
    "duration": 8,
    "start_time": "2023-09-20T13:15:42.565Z"
   },
   {
    "duration": 115,
    "start_time": "2023-09-20T13:15:42.575Z"
   },
   {
    "duration": 12,
    "start_time": "2023-09-20T13:15:42.745Z"
   },
   {
    "duration": 110,
    "start_time": "2023-09-20T13:15:42.759Z"
   },
   {
    "duration": 11,
    "start_time": "2023-09-20T13:15:42.871Z"
   },
   {
    "duration": 123,
    "start_time": "2023-09-20T13:15:42.885Z"
   },
   {
    "duration": 147,
    "start_time": "2023-09-20T13:15:43.010Z"
   },
   {
    "duration": 40,
    "start_time": "2023-09-20T13:15:43.160Z"
   },
   {
    "duration": 57,
    "start_time": "2023-09-20T13:15:43.202Z"
   },
   {
    "duration": 29,
    "start_time": "2023-09-20T13:15:43.261Z"
   },
   {
    "duration": 69,
    "start_time": "2023-09-20T13:15:43.292Z"
   },
   {
    "duration": 5,
    "start_time": "2023-09-20T13:15:43.363Z"
   },
   {
    "duration": 300,
    "start_time": "2023-09-20T13:15:43.370Z"
   },
   {
    "duration": 153,
    "start_time": "2023-09-20T13:15:43.671Z"
   },
   {
    "duration": 17,
    "start_time": "2023-09-20T13:15:43.826Z"
   },
   {
    "duration": 363,
    "start_time": "2023-09-20T13:15:43.846Z"
   },
   {
    "duration": 310,
    "start_time": "2023-09-20T13:15:44.210Z"
   },
   {
    "duration": 7,
    "start_time": "2023-09-20T13:15:44.521Z"
   },
   {
    "duration": 388,
    "start_time": "2023-09-20T13:15:44.531Z"
   },
   {
    "duration": 312,
    "start_time": "2023-09-20T13:15:44.920Z"
   },
   {
    "duration": 389,
    "start_time": "2023-09-20T13:15:45.233Z"
   },
   {
    "duration": 194,
    "start_time": "2023-09-20T13:15:45.624Z"
   },
   {
    "duration": 259,
    "start_time": "2023-09-20T13:15:45.820Z"
   },
   {
    "duration": 327,
    "start_time": "2023-09-20T13:15:46.082Z"
   },
   {
    "duration": 7,
    "start_time": "2023-09-20T13:15:46.436Z"
   },
   {
    "duration": 32,
    "start_time": "2023-09-20T13:15:46.444Z"
   },
   {
    "duration": 196,
    "start_time": "2023-09-20T13:15:46.477Z"
   },
   {
    "duration": 159,
    "start_time": "2023-09-20T13:15:46.674Z"
   },
   {
    "duration": 12,
    "start_time": "2023-09-20T13:15:46.835Z"
   },
   {
    "duration": 9,
    "start_time": "2023-09-20T13:15:46.849Z"
   },
   {
    "duration": 12,
    "start_time": "2023-09-20T13:15:46.859Z"
   },
   {
    "duration": 12,
    "start_time": "2023-09-20T13:15:46.873Z"
   },
   {
    "duration": 20,
    "start_time": "2023-09-20T13:15:46.887Z"
   },
   {
    "duration": 29,
    "start_time": "2023-09-20T13:15:46.909Z"
   },
   {
    "duration": 11,
    "start_time": "2023-09-20T13:15:46.940Z"
   },
   {
    "duration": 25,
    "start_time": "2023-09-20T13:15:46.953Z"
   },
   {
    "duration": 6,
    "start_time": "2023-09-20T13:15:46.980Z"
   },
   {
    "duration": 6,
    "start_time": "2023-09-20T13:15:46.988Z"
   },
   {
    "duration": 31,
    "start_time": "2023-09-20T13:15:46.996Z"
   },
   {
    "duration": 25,
    "start_time": "2023-09-20T13:15:47.029Z"
   },
   {
    "duration": 290,
    "start_time": "2023-09-20T13:15:47.056Z"
   },
   {
    "duration": 335,
    "start_time": "2023-09-20T13:15:47.348Z"
   },
   {
    "duration": 258,
    "start_time": "2023-09-20T13:18:19.138Z"
   },
   {
    "duration": 1120,
    "start_time": "2023-09-20T13:18:26.338Z"
   },
   {
    "duration": 84,
    "start_time": "2023-09-20T13:18:27.461Z"
   },
   {
    "duration": 6,
    "start_time": "2023-09-20T13:18:27.547Z"
   },
   {
    "duration": 81,
    "start_time": "2023-09-20T13:18:27.555Z"
   },
   {
    "duration": 8,
    "start_time": "2023-09-20T13:18:27.643Z"
   },
   {
    "duration": 99,
    "start_time": "2023-09-20T13:18:27.653Z"
   },
   {
    "duration": 33,
    "start_time": "2023-09-20T13:18:27.754Z"
   },
   {
    "duration": 70,
    "start_time": "2023-09-20T13:18:27.788Z"
   },
   {
    "duration": 11,
    "start_time": "2023-09-20T13:18:27.860Z"
   },
   {
    "duration": 40,
    "start_time": "2023-09-20T13:18:27.874Z"
   },
   {
    "duration": 44,
    "start_time": "2023-09-20T13:18:27.916Z"
   },
   {
    "duration": 87,
    "start_time": "2023-09-20T13:18:27.961Z"
   },
   {
    "duration": 15,
    "start_time": "2023-09-20T13:18:28.050Z"
   },
   {
    "duration": 44,
    "start_time": "2023-09-20T13:18:28.066Z"
   },
   {
    "duration": 133,
    "start_time": "2023-09-20T13:18:28.111Z"
   },
   {
    "duration": 52,
    "start_time": "2023-09-20T13:18:28.246Z"
   },
   {
    "duration": 367,
    "start_time": "2023-09-20T13:18:28.300Z"
   },
   {
    "duration": 275,
    "start_time": "2023-09-20T13:18:28.669Z"
   },
   {
    "duration": 7,
    "start_time": "2023-09-20T13:18:28.945Z"
   },
   {
    "duration": 638,
    "start_time": "2023-09-20T13:18:28.954Z"
   },
   {
    "duration": 304,
    "start_time": "2023-09-20T13:18:29.594Z"
   },
   {
    "duration": 6,
    "start_time": "2023-09-20T13:18:29.900Z"
   },
   {
    "duration": 655,
    "start_time": "2023-09-20T13:18:29.907Z"
   },
   {
    "duration": 293,
    "start_time": "2023-09-20T13:18:30.564Z"
   },
   {
    "duration": 367,
    "start_time": "2023-09-20T13:18:30.859Z"
   },
   {
    "duration": 192,
    "start_time": "2023-09-20T13:18:31.227Z"
   },
   {
    "duration": 255,
    "start_time": "2023-09-20T13:18:31.420Z"
   },
   {
    "duration": 360,
    "start_time": "2023-09-20T13:18:31.679Z"
   },
   {
    "duration": 6,
    "start_time": "2023-09-20T13:18:32.041Z"
   },
   {
    "duration": 67,
    "start_time": "2023-09-20T13:18:32.048Z"
   },
   {
    "duration": 303,
    "start_time": "2023-09-20T13:18:32.117Z"
   },
   {
    "duration": 168,
    "start_time": "2023-09-20T13:18:32.422Z"
   },
   {
    "duration": 6,
    "start_time": "2023-09-20T13:18:32.592Z"
   },
   {
    "duration": 45,
    "start_time": "2023-09-20T13:18:32.600Z"
   },
   {
    "duration": 74,
    "start_time": "2023-09-20T13:18:32.647Z"
   },
   {
    "duration": 63,
    "start_time": "2023-09-20T13:18:32.722Z"
   },
   {
    "duration": 32,
    "start_time": "2023-09-20T13:18:32.787Z"
   },
   {
    "duration": 80,
    "start_time": "2023-09-20T13:18:32.821Z"
   },
   {
    "duration": 12,
    "start_time": "2023-09-20T13:18:32.903Z"
   },
   {
    "duration": 21,
    "start_time": "2023-09-20T13:18:32.917Z"
   },
   {
    "duration": 45,
    "start_time": "2023-09-20T13:18:32.940Z"
   },
   {
    "duration": 9,
    "start_time": "2023-09-20T13:18:32.987Z"
   },
   {
    "duration": 37,
    "start_time": "2023-09-20T13:18:32.998Z"
   },
   {
    "duration": 26,
    "start_time": "2023-09-20T13:18:33.036Z"
   },
   {
    "duration": 285,
    "start_time": "2023-09-20T13:18:33.064Z"
   },
   {
    "duration": 326,
    "start_time": "2023-09-20T13:18:33.351Z"
   },
   {
    "duration": 33,
    "start_time": "2023-09-20T13:46:17.376Z"
   },
   {
    "duration": 11,
    "start_time": "2023-09-20T13:46:44.171Z"
   },
   {
    "duration": 11,
    "start_time": "2023-09-20T13:46:51.642Z"
   },
   {
    "duration": 15,
    "start_time": "2023-09-20T13:48:16.691Z"
   },
   {
    "duration": 30,
    "start_time": "2023-09-20T13:50:55.618Z"
   },
   {
    "duration": 27,
    "start_time": "2023-09-20T13:51:57.154Z"
   },
   {
    "duration": 14,
    "start_time": "2023-09-20T13:54:53.181Z"
   },
   {
    "duration": 1122,
    "start_time": "2023-09-20T13:58:52.384Z"
   },
   {
    "duration": 76,
    "start_time": "2023-09-20T13:58:53.508Z"
   },
   {
    "duration": 4,
    "start_time": "2023-09-20T13:58:53.586Z"
   },
   {
    "duration": 72,
    "start_time": "2023-09-20T13:58:53.591Z"
   },
   {
    "duration": 7,
    "start_time": "2023-09-20T13:58:53.665Z"
   },
   {
    "duration": 74,
    "start_time": "2023-09-20T13:58:53.674Z"
   },
   {
    "duration": 8,
    "start_time": "2023-09-20T13:58:53.750Z"
   },
   {
    "duration": 86,
    "start_time": "2023-09-20T13:58:53.760Z"
   },
   {
    "duration": 11,
    "start_time": "2023-09-20T13:58:53.847Z"
   },
   {
    "duration": 39,
    "start_time": "2023-09-20T13:58:53.859Z"
   },
   {
    "duration": 45,
    "start_time": "2023-09-20T13:58:53.899Z"
   },
   {
    "duration": 35,
    "start_time": "2023-09-20T13:58:53.946Z"
   },
   {
    "duration": 11,
    "start_time": "2023-09-20T13:58:53.982Z"
   },
   {
    "duration": 35,
    "start_time": "2023-09-20T13:58:53.996Z"
   },
   {
    "duration": 28,
    "start_time": "2023-09-20T13:58:54.032Z"
   },
   {
    "duration": 23,
    "start_time": "2023-09-20T13:58:54.062Z"
   },
   {
    "duration": 183,
    "start_time": "2023-09-20T13:58:54.086Z"
   },
   {
    "duration": 119,
    "start_time": "2023-09-20T13:58:54.271Z"
   },
   {
    "duration": 6,
    "start_time": "2023-09-20T13:58:54.392Z"
   },
   {
    "duration": 425,
    "start_time": "2023-09-20T13:58:54.400Z"
   },
   {
    "duration": 274,
    "start_time": "2023-09-20T13:58:54.826Z"
   },
   {
    "duration": 5,
    "start_time": "2023-09-20T13:58:55.102Z"
   },
   {
    "duration": 376,
    "start_time": "2023-09-20T13:58:55.109Z"
   },
   {
    "duration": 570,
    "start_time": "2023-09-20T13:58:55.487Z"
   },
   {
    "duration": 631,
    "start_time": "2023-09-20T13:58:56.059Z"
   },
   {
    "duration": 327,
    "start_time": "2023-09-20T13:58:56.743Z"
   },
   {
    "duration": 376,
    "start_time": "2023-09-20T13:58:57.072Z"
   },
   {
    "duration": 310,
    "start_time": "2023-09-20T13:58:57.449Z"
   },
   {
    "duration": 8,
    "start_time": "2023-09-20T13:58:57.780Z"
   },
   {
    "duration": 15,
    "start_time": "2023-09-20T13:58:57.789Z"
   },
   {
    "duration": 195,
    "start_time": "2023-09-20T13:58:57.806Z"
   },
   {
    "duration": 161,
    "start_time": "2023-09-20T13:58:58.003Z"
   },
   {
    "duration": 4,
    "start_time": "2023-09-20T13:58:58.166Z"
   },
   {
    "duration": 34,
    "start_time": "2023-09-20T13:58:58.172Z"
   },
   {
    "duration": 24,
    "start_time": "2023-09-20T13:58:58.208Z"
   },
   {
    "duration": 16,
    "start_time": "2023-09-20T13:58:58.234Z"
   },
   {
    "duration": 28,
    "start_time": "2023-09-20T13:58:58.252Z"
   },
   {
    "duration": 47,
    "start_time": "2023-09-20T13:58:58.282Z"
   },
   {
    "duration": 14,
    "start_time": "2023-09-20T13:58:58.331Z"
   },
   {
    "duration": 22,
    "start_time": "2023-09-20T13:58:58.346Z"
   },
   {
    "duration": 32,
    "start_time": "2023-09-20T13:58:58.371Z"
   },
   {
    "duration": 36,
    "start_time": "2023-09-20T13:58:58.405Z"
   },
   {
    "duration": 49,
    "start_time": "2023-09-20T13:58:58.443Z"
   },
   {
    "duration": 12,
    "start_time": "2023-09-20T13:58:58.494Z"
   },
   {
    "duration": 321,
    "start_time": "2023-09-20T13:58:58.508Z"
   },
   {
    "duration": 279,
    "start_time": "2023-09-20T13:58:58.830Z"
   },
   {
    "duration": 4,
    "start_time": "2023-09-20T14:15:54.872Z"
   },
   {
    "duration": 56,
    "start_time": "2023-09-20T14:15:58.340Z"
   },
   {
    "duration": 1506,
    "start_time": "2023-09-20T14:17:35.951Z"
   },
   {
    "duration": 102,
    "start_time": "2023-09-20T14:17:37.459Z"
   },
   {
    "duration": 4,
    "start_time": "2023-09-20T14:17:37.563Z"
   },
   {
    "duration": 108,
    "start_time": "2023-09-20T14:17:37.569Z"
   },
   {
    "duration": 65,
    "start_time": "2023-09-20T14:17:37.679Z"
   },
   {
    "duration": 102,
    "start_time": "2023-09-20T14:17:37.746Z"
   },
   {
    "duration": 9,
    "start_time": "2023-09-20T14:17:37.850Z"
   },
   {
    "duration": 98,
    "start_time": "2023-09-20T14:17:37.861Z"
   },
   {
    "duration": 11,
    "start_time": "2023-09-20T14:17:37.960Z"
   },
   {
    "duration": 72,
    "start_time": "2023-09-20T14:17:37.973Z"
   },
   {
    "duration": 22,
    "start_time": "2023-09-20T14:17:38.046Z"
   },
   {
    "duration": 75,
    "start_time": "2023-09-20T14:17:38.069Z"
   },
   {
    "duration": 6,
    "start_time": "2023-09-20T14:17:38.146Z"
   },
   {
    "duration": 35,
    "start_time": "2023-09-20T14:17:38.154Z"
   },
   {
    "duration": 69,
    "start_time": "2023-09-20T14:17:38.190Z"
   },
   {
    "duration": 6,
    "start_time": "2023-09-20T14:17:38.260Z"
   },
   {
    "duration": 399,
    "start_time": "2023-09-20T14:17:38.268Z"
   },
   {
    "duration": 124,
    "start_time": "2023-09-20T14:17:38.668Z"
   },
   {
    "duration": 6,
    "start_time": "2023-09-20T14:17:38.794Z"
   },
   {
    "duration": 371,
    "start_time": "2023-09-20T14:17:38.801Z"
   },
   {
    "duration": 286,
    "start_time": "2023-09-20T14:17:39.174Z"
   },
   {
    "duration": 6,
    "start_time": "2023-09-20T14:17:39.461Z"
   },
   {
    "duration": 412,
    "start_time": "2023-09-20T14:17:39.469Z"
   },
   {
    "duration": 282,
    "start_time": "2023-09-20T14:17:39.883Z"
   },
   {
    "duration": 368,
    "start_time": "2023-09-20T14:17:40.168Z"
   },
   {
    "duration": 191,
    "start_time": "2023-09-20T14:17:40.538Z"
   },
   {
    "duration": 253,
    "start_time": "2023-09-20T14:17:40.731Z"
   },
   {
    "duration": 359,
    "start_time": "2023-09-20T14:17:40.985Z"
   },
   {
    "duration": 7,
    "start_time": "2023-09-20T14:17:41.345Z"
   },
   {
    "duration": 19,
    "start_time": "2023-09-20T14:17:41.354Z"
   },
   {
    "duration": 185,
    "start_time": "2023-09-20T14:17:41.375Z"
   },
   {
    "duration": 154,
    "start_time": "2023-09-20T14:17:41.562Z"
   },
   {
    "duration": 7,
    "start_time": "2023-09-20T14:17:41.717Z"
   },
   {
    "duration": 135,
    "start_time": "2023-09-20T14:17:41.725Z"
   },
   {
    "duration": 81,
    "start_time": "2023-09-20T14:17:41.862Z"
   },
   {
    "duration": 26,
    "start_time": "2023-09-20T14:17:41.944Z"
   },
   {
    "duration": 57,
    "start_time": "2023-09-20T14:17:41.971Z"
   },
   {
    "duration": 76,
    "start_time": "2023-09-20T14:17:42.029Z"
   },
   {
    "duration": 17,
    "start_time": "2023-09-20T14:17:42.107Z"
   },
   {
    "duration": 22,
    "start_time": "2023-09-20T14:17:42.126Z"
   },
   {
    "duration": 143,
    "start_time": "2023-09-20T14:17:42.152Z"
   },
   {
    "duration": 78,
    "start_time": "2023-09-20T14:17:42.297Z"
   },
   {
    "duration": 42,
    "start_time": "2023-09-20T14:17:42.377Z"
   },
   {
    "duration": 14,
    "start_time": "2023-09-20T14:17:42.421Z"
   },
   {
    "duration": 268,
    "start_time": "2023-09-20T14:17:42.436Z"
   },
   {
    "duration": 294,
    "start_time": "2023-09-20T14:17:42.705Z"
   },
   {
    "duration": 1186,
    "start_time": "2023-09-20T14:24:39.888Z"
   },
   {
    "duration": 79,
    "start_time": "2023-09-20T14:24:41.076Z"
   },
   {
    "duration": 5,
    "start_time": "2023-09-20T14:24:41.156Z"
   },
   {
    "duration": 71,
    "start_time": "2023-09-20T14:24:41.163Z"
   },
   {
    "duration": 9,
    "start_time": "2023-09-20T14:24:41.237Z"
   },
   {
    "duration": 138,
    "start_time": "2023-09-20T14:24:41.247Z"
   },
   {
    "duration": 10,
    "start_time": "2023-09-20T14:24:41.387Z"
   },
   {
    "duration": 76,
    "start_time": "2023-09-20T14:24:41.399Z"
   },
   {
    "duration": 12,
    "start_time": "2023-09-20T14:24:41.477Z"
   },
   {
    "duration": 20,
    "start_time": "2023-09-20T14:24:41.490Z"
   },
   {
    "duration": 49,
    "start_time": "2023-09-20T14:24:41.512Z"
   },
   {
    "duration": 16,
    "start_time": "2023-09-20T14:24:41.563Z"
   },
   {
    "duration": 15,
    "start_time": "2023-09-20T14:24:41.581Z"
   },
   {
    "duration": 22,
    "start_time": "2023-09-20T14:24:41.599Z"
   },
   {
    "duration": 26,
    "start_time": "2023-09-20T14:24:41.623Z"
   },
   {
    "duration": 5,
    "start_time": "2023-09-20T14:24:41.651Z"
   },
   {
    "duration": 200,
    "start_time": "2023-09-20T14:24:41.657Z"
   },
   {
    "duration": 133,
    "start_time": "2023-09-20T14:24:41.859Z"
   },
   {
    "duration": 7,
    "start_time": "2023-09-20T14:24:41.994Z"
   },
   {
    "duration": 398,
    "start_time": "2023-09-20T14:24:42.003Z"
   },
   {
    "duration": 306,
    "start_time": "2023-09-20T14:24:42.403Z"
   },
   {
    "duration": 6,
    "start_time": "2023-09-20T14:24:42.712Z"
   },
   {
    "duration": 402,
    "start_time": "2023-09-20T14:24:42.720Z"
   },
   {
    "duration": 290,
    "start_time": "2023-09-20T14:24:43.124Z"
   },
   {
    "duration": 420,
    "start_time": "2023-09-20T14:24:43.416Z"
   },
   {
    "duration": 194,
    "start_time": "2023-09-20T14:24:43.838Z"
   },
   {
    "duration": 255,
    "start_time": "2023-09-20T14:24:44.034Z"
   },
   {
    "duration": 401,
    "start_time": "2023-09-20T14:24:44.291Z"
   },
   {
    "duration": 7,
    "start_time": "2023-09-20T14:24:44.694Z"
   },
   {
    "duration": 42,
    "start_time": "2023-09-20T14:24:44.705Z"
   },
   {
    "duration": 236,
    "start_time": "2023-09-20T14:24:44.749Z"
   },
   {
    "duration": 166,
    "start_time": "2023-09-20T14:24:44.987Z"
   },
   {
    "duration": 6,
    "start_time": "2023-09-20T14:24:45.156Z"
   },
   {
    "duration": 34,
    "start_time": "2023-09-20T14:24:45.164Z"
   },
   {
    "duration": 37,
    "start_time": "2023-09-20T14:24:45.200Z"
   },
   {
    "duration": 7,
    "start_time": "2023-09-20T14:24:45.239Z"
   },
   {
    "duration": 21,
    "start_time": "2023-09-20T14:24:45.248Z"
   },
   {
    "duration": 74,
    "start_time": "2023-09-20T14:24:45.272Z"
   },
   {
    "duration": 15,
    "start_time": "2023-09-20T14:24:45.348Z"
   },
   {
    "duration": 26,
    "start_time": "2023-09-20T14:24:45.365Z"
   },
   {
    "duration": 14,
    "start_time": "2023-09-20T14:24:45.394Z"
   },
   {
    "duration": 42,
    "start_time": "2023-09-20T14:24:45.409Z"
   },
   {
    "duration": 37,
    "start_time": "2023-09-20T14:24:45.453Z"
   },
   {
    "duration": 13,
    "start_time": "2023-09-20T14:24:45.492Z"
   },
   {
    "duration": 285,
    "start_time": "2023-09-20T14:24:45.507Z"
   },
   {
    "duration": 292,
    "start_time": "2023-09-20T14:24:45.794Z"
   },
   {
    "duration": 1520,
    "start_time": "2023-09-21T06:55:26.339Z"
   },
   {
    "duration": 200,
    "start_time": "2023-09-21T06:55:27.861Z"
   },
   {
    "duration": 4,
    "start_time": "2023-09-21T06:55:28.063Z"
   },
   {
    "duration": 65,
    "start_time": "2023-09-21T06:55:28.070Z"
   },
   {
    "duration": 10,
    "start_time": "2023-09-21T06:55:28.137Z"
   },
   {
    "duration": 96,
    "start_time": "2023-09-21T06:55:28.149Z"
   },
   {
    "duration": 15,
    "start_time": "2023-09-21T06:55:28.247Z"
   },
   {
    "duration": 97,
    "start_time": "2023-09-21T06:55:28.264Z"
   },
   {
    "duration": 45,
    "start_time": "2023-09-21T06:55:28.364Z"
   },
   {
    "duration": 81,
    "start_time": "2023-09-21T06:55:28.413Z"
   },
   {
    "duration": 127,
    "start_time": "2023-09-21T06:55:28.496Z"
   },
   {
    "duration": 12,
    "start_time": "2023-09-21T06:55:28.625Z"
   },
   {
    "duration": 7,
    "start_time": "2023-09-21T06:55:28.639Z"
   },
   {
    "duration": 11,
    "start_time": "2023-09-21T06:55:28.648Z"
   },
   {
    "duration": 57,
    "start_time": "2023-09-21T06:55:28.661Z"
   },
   {
    "duration": 6,
    "start_time": "2023-09-21T06:55:28.719Z"
   },
   {
    "duration": 212,
    "start_time": "2023-09-21T06:55:28.727Z"
   },
   {
    "duration": 138,
    "start_time": "2023-09-21T06:55:28.941Z"
   },
   {
    "duration": 8,
    "start_time": "2023-09-21T06:55:29.081Z"
   },
   {
    "duration": 403,
    "start_time": "2023-09-21T06:55:29.109Z"
   },
   {
    "duration": 323,
    "start_time": "2023-09-21T06:55:29.514Z"
   },
   {
    "duration": 8,
    "start_time": "2023-09-21T06:55:29.839Z"
   },
   {
    "duration": 412,
    "start_time": "2023-09-21T06:55:29.849Z"
   },
   {
    "duration": 325,
    "start_time": "2023-09-21T06:55:30.263Z"
   },
   {
    "duration": 413,
    "start_time": "2023-09-21T06:55:30.591Z"
   },
   {
    "duration": 211,
    "start_time": "2023-09-21T06:55:31.006Z"
   },
   {
    "duration": 374,
    "start_time": "2023-09-21T06:55:31.219Z"
   },
   {
    "duration": 369,
    "start_time": "2023-09-21T06:55:31.612Z"
   },
   {
    "duration": 8,
    "start_time": "2023-09-21T06:55:32.025Z"
   },
   {
    "duration": 106,
    "start_time": "2023-09-21T06:55:32.035Z"
   },
   {
    "duration": 291,
    "start_time": "2023-09-21T06:55:32.143Z"
   },
   {
    "duration": 244,
    "start_time": "2023-09-21T06:55:32.436Z"
   },
   {
    "duration": 8,
    "start_time": "2023-09-21T06:55:32.683Z"
   },
   {
    "duration": 19,
    "start_time": "2023-09-21T06:55:32.693Z"
   },
   {
    "duration": 25,
    "start_time": "2023-09-21T06:55:32.714Z"
   },
   {
    "duration": 16,
    "start_time": "2023-09-21T06:55:32.742Z"
   },
   {
    "duration": 23,
    "start_time": "2023-09-21T06:55:32.760Z"
   },
   {
    "duration": 78,
    "start_time": "2023-09-21T06:55:32.785Z"
   },
   {
    "duration": 16,
    "start_time": "2023-09-21T06:55:32.865Z"
   },
   {
    "duration": 12,
    "start_time": "2023-09-21T06:55:32.882Z"
   },
   {
    "duration": 13,
    "start_time": "2023-09-21T06:55:32.896Z"
   },
   {
    "duration": 20,
    "start_time": "2023-09-21T06:55:32.911Z"
   },
   {
    "duration": 50,
    "start_time": "2023-09-21T06:55:32.933Z"
   },
   {
    "duration": 16,
    "start_time": "2023-09-21T06:55:32.984Z"
   },
   {
    "duration": 290,
    "start_time": "2023-09-21T06:55:33.001Z"
   },
   {
    "duration": 319,
    "start_time": "2023-09-21T06:55:33.293Z"
   },
   {
    "duration": 1271,
    "start_time": "2023-09-21T06:56:52.485Z"
   },
   {
    "duration": 81,
    "start_time": "2023-09-21T06:56:53.758Z"
   },
   {
    "duration": 5,
    "start_time": "2023-09-21T06:56:53.841Z"
   },
   {
    "duration": 98,
    "start_time": "2023-09-21T06:56:53.848Z"
   },
   {
    "duration": 10,
    "start_time": "2023-09-21T06:56:53.947Z"
   },
   {
    "duration": 88,
    "start_time": "2023-09-21T06:56:53.959Z"
   },
   {
    "duration": 12,
    "start_time": "2023-09-21T06:56:54.049Z"
   },
   {
    "duration": 90,
    "start_time": "2023-09-21T06:56:54.064Z"
   },
   {
    "duration": 108,
    "start_time": "2023-09-21T06:56:54.155Z"
   },
   {
    "duration": 41,
    "start_time": "2023-09-21T06:56:54.266Z"
   },
   {
    "duration": 44,
    "start_time": "2023-09-21T06:56:54.309Z"
   },
   {
    "duration": 9,
    "start_time": "2023-09-21T06:56:54.355Z"
   },
   {
    "duration": 35,
    "start_time": "2023-09-21T06:56:54.366Z"
   },
   {
    "duration": 23,
    "start_time": "2023-09-21T06:56:54.403Z"
   },
   {
    "duration": 36,
    "start_time": "2023-09-21T06:56:54.428Z"
   },
   {
    "duration": 21,
    "start_time": "2023-09-21T06:56:54.466Z"
   },
   {
    "duration": 223,
    "start_time": "2023-09-21T06:56:54.490Z"
   },
   {
    "duration": 141,
    "start_time": "2023-09-21T06:56:54.715Z"
   },
   {
    "duration": 7,
    "start_time": "2023-09-21T06:56:54.858Z"
   },
   {
    "duration": 415,
    "start_time": "2023-09-21T06:56:54.867Z"
   },
   {
    "duration": 336,
    "start_time": "2023-09-21T06:56:55.284Z"
   },
   {
    "duration": 7,
    "start_time": "2023-09-21T06:56:55.622Z"
   },
   {
    "duration": 408,
    "start_time": "2023-09-21T06:56:55.631Z"
   },
   {
    "duration": 314,
    "start_time": "2023-09-21T06:56:56.042Z"
   },
   {
    "duration": 432,
    "start_time": "2023-09-21T06:56:56.357Z"
   },
   {
    "duration": 213,
    "start_time": "2023-09-21T06:56:56.792Z"
   },
   {
    "duration": 282,
    "start_time": "2023-09-21T06:56:57.007Z"
   },
   {
    "duration": 365,
    "start_time": "2023-09-21T06:56:57.293Z"
   },
   {
    "duration": 8,
    "start_time": "2023-09-21T06:56:57.689Z"
   },
   {
    "duration": 24,
    "start_time": "2023-09-21T06:56:57.699Z"
   },
   {
    "duration": 261,
    "start_time": "2023-09-21T06:56:57.725Z"
   },
   {
    "duration": 180,
    "start_time": "2023-09-21T06:56:57.988Z"
   },
   {
    "duration": 6,
    "start_time": "2023-09-21T06:56:58.170Z"
   },
   {
    "duration": 18,
    "start_time": "2023-09-21T06:56:58.178Z"
   },
   {
    "duration": 31,
    "start_time": "2023-09-21T06:56:58.198Z"
   },
   {
    "duration": 10,
    "start_time": "2023-09-21T06:56:58.231Z"
   },
   {
    "duration": 64,
    "start_time": "2023-09-21T06:56:58.243Z"
   },
   {
    "duration": 54,
    "start_time": "2023-09-21T06:56:58.309Z"
   },
   {
    "duration": 33,
    "start_time": "2023-09-21T06:56:58.366Z"
   },
   {
    "duration": 34,
    "start_time": "2023-09-21T06:56:58.402Z"
   },
   {
    "duration": 25,
    "start_time": "2023-09-21T06:56:58.438Z"
   },
   {
    "duration": 27,
    "start_time": "2023-09-21T06:56:58.465Z"
   },
   {
    "duration": 51,
    "start_time": "2023-09-21T06:56:58.494Z"
   },
   {
    "duration": 16,
    "start_time": "2023-09-21T06:56:58.547Z"
   },
   {
    "duration": 330,
    "start_time": "2023-09-21T06:56:58.564Z"
   },
   {
    "duration": 342,
    "start_time": "2023-09-21T06:56:58.896Z"
   }
  ],
  "kernelspec": {
   "display_name": "Python 3 (ipykernel)",
   "language": "python",
   "name": "python3"
  },
  "language_info": {
   "codemirror_mode": {
    "name": "ipython",
    "version": 3
   },
   "file_extension": ".py",
   "mimetype": "text/x-python",
   "name": "python",
   "nbconvert_exporter": "python",
   "pygments_lexer": "ipython3",
   "version": "3.9.5"
  },
  "toc": {
   "base_numbering": 1,
   "nav_menu": {
    "height": "593.4px",
    "width": "519.8px"
   },
   "number_sections": true,
   "sideBar": true,
   "skip_h1_title": true,
   "title_cell": "Table of Contents",
   "title_sidebar": "Contents",
   "toc_cell": false,
   "toc_position": {
    "height": "calc(100% - 180px)",
    "left": "10px",
    "top": "150px",
    "width": "508.6px"
   },
   "toc_section_display": true,
   "toc_window_display": false
  }
 },
 "nbformat": 4,
 "nbformat_minor": 2
}
